{
 "cells": [
  {
   "cell_type": "code",
   "execution_count": 6,
   "metadata": {},
   "outputs": [
    {
     "data": {
      "text/plain": [
       "[1] '1.2.2'"
      ]
     },
     "metadata": {},
     "output_type": "display_data"
    }
   ],
   "source": [
    "packageVersion(\"tricolore\")"
   ]
  },
  {
   "cell_type": "code",
   "execution_count": 1,
   "metadata": {
    "scrolled": true
   },
   "outputs": [
    {
     "data": {
      "text/plain": [
       "R version 4.1.1 (2021-08-10)\n",
       "Platform: x86_64-w64-mingw32/x64 (64-bit)\n",
       "Running under: Windows 10 x64 (build 19042)\n",
       "\n",
       "Matrix products: default\n",
       "\n",
       "locale:\n",
       "[1] LC_COLLATE=English_United States.1252 \n",
       "[2] LC_CTYPE=English_United States.1252   \n",
       "[3] LC_MONETARY=English_United States.1252\n",
       "[4] LC_NUMERIC=C                          \n",
       "[5] LC_TIME=English_United States.1252    \n",
       "\n",
       "attached base packages:\n",
       "[1] stats     graphics  grDevices utils     datasets  methods   base     \n",
       "\n",
       "loaded via a namespace (and not attached):\n",
       " [1] fansi_0.5.0     digest_0.6.27   utf8_1.2.2      crayon_1.4.1   \n",
       " [5] IRdisplay_1.0   repr_1.1.3      lifecycle_1.0.0 jsonlite_1.7.2 \n",
       " [9] evaluate_0.14   pillar_1.6.2    rlang_0.4.11    uuid_0.1-4     \n",
       "[13] vctrs_0.3.8     ellipsis_0.3.2  IRkernel_1.2    tools_4.1.1    \n",
       "[17] fastmap_1.1.0   compiler_4.1.1  base64enc_0.1-3 pbdZMQ_0.3-5   \n",
       "[21] htmltools_0.5.2"
      ]
     },
     "metadata": {},
     "output_type": "display_data"
    }
   ],
   "source": [
    "sessionInfo()"
   ]
  },
  {
   "cell_type": "code",
   "execution_count": 8,
   "metadata": {},
   "outputs": [],
   "source": [
    "#install.packages(\"sp\")\n",
    "#install.packages(\"sf\")\n",
    "#install.packages(\"tricolore\")\n",
    "#1992, 1992, 1992, 1992"
   ]
  },
  {
   "cell_type": "code",
   "execution_count": 1,
   "metadata": {},
   "outputs": [
    {
     "name": "stderr",
     "output_type": "stream",
     "text": [
      "Linking to GEOS 3.9.0, GDAL 3.2.1, PROJ 7.2.1\n",
      "\n",
      "Registered S3 methods overwritten by 'ggtern':\n",
      "  method           from   \n",
      "  grid.draw.ggplot ggplot2\n",
      "  plot.ggplot      ggplot2\n",
      "  print.ggplot     ggplot2\n",
      "\n",
      "--\n",
      "Remember to cite, run citation(package = 'ggtern') for further info.\n",
      "--\n",
      "\n",
      "\n",
      "Attaching package: 'ggtern'\n",
      "\n",
      "\n",
      "The following objects are masked from 'package:ggplot2':\n",
      "\n",
      "    aes, annotate, ggplot, ggplot_build, ggplot_gtable, ggplotGrob,\n",
      "    ggsave, layer_data, theme_bw, theme_classic, theme_dark,\n",
      "    theme_gray, theme_light, theme_linedraw, theme_minimal, theme_void\n",
      "\n",
      "\n"
     ]
    }
   ],
   "source": [
    "library(sf)\n",
    "library(tricolore)\n",
    "library(ggplot2)\n",
    "library(ggtern)"
   ]
  },
  {
   "cell_type": "code",
   "execution_count": 2,
   "metadata": {},
   "outputs": [
    {
     "data": {
      "text/plain": [
       "   xmin    ymin    xmax    ymax \n",
       "3964400 3253700 3984800 3270200 "
      ]
     },
     "metadata": {},
     "output_type": "display_data"
    }
   ],
   "source": [
    "file <- \"C:/FUME/PopNetV2/data_prep/ams_ProjectData/PopData/1992/temp_shp/1992_dataVectorGridDivs.geojson\"\n",
    "gdf <- read_sf(file)\n",
    "st_bbox(gdf)\n",
    "#st_crs(gdf)"
   ]
  },
  {
   "cell_type": "code",
   "execution_count": 8,
   "metadata": {},
   "outputs": [
    {
     "name": "stderr",
     "output_type": "stream",
     "text": [
      "ERROR while rich displaying an object: Error in loadNamespace(x): there is no package called 'geojsonio'\n",
      "\n",
      "Traceback:\n",
      "1. FUN(X[[i]], ...)\n",
      "2. tryCatch(withCallingHandlers({\n",
      " .     if (!mime %in% names(repr::mime2repr)) \n",
      " .         stop(\"No repr_* for mimetype \", mime, \" in repr::mime2repr\")\n",
      " .     rpr <- repr::mime2repr[[mime]](obj)\n",
      " .     if (is.null(rpr)) \n",
      " .         return(NULL)\n",
      " .     prepare_content(is.raw(rpr), rpr)\n",
      " . }, error = error_handler), error = outer_handler)\n",
      "3. tryCatchList(expr, classes, parentenv, handlers)\n",
      "4. tryCatchOne(expr, names, parentenv, handlers[[1L]])\n",
      "5. doTryCatch(return(expr), name, parentenv, handler)\n",
      "6. withCallingHandlers({\n",
      " .     if (!mime %in% names(repr::mime2repr)) \n",
      " .         stop(\"No repr_* for mimetype \", mime, \" in repr::mime2repr\")\n",
      " .     rpr <- repr::mime2repr[[mime]](obj)\n",
      " .     if (is.null(rpr)) \n",
      " .         return(NULL)\n",
      " .     prepare_content(is.raw(rpr), rpr)\n",
      " . }, error = error_handler)\n",
      "7. repr::mime2repr[[mime]](obj)\n",
      "8. repr_geojson.sf(obj)\n",
      "9. repr_geojson(geojsonio::geojson_list(obj), ...)\n",
      "10. loadNamespace(x)\n",
      "11. withRestarts(stop(cond), retry_loadNamespace = function() NULL)\n",
      "12. withOneRestart(expr, restarts[[1L]])\n",
      "13. doWithOneRestart(return(expr), restart)\n"
     ]
    },
    {
     "data": {
      "text/html": [
       "<table class=\"dataframe\">\n",
       "<caption>A sf: 5804 × 71</caption>\n",
       "<thead>\n",
       "\t<tr><th scope=col>grid_id</th><th scope=col>l1_totalpop</th><th scope=col>totalMig</th><th scope=col>nld</th><th scope=col>l2_children</th><th scope=col>l3_students</th><th scope=col>l4_mobile_adults</th><th scope=col>l5_not_mobile_adults</th><th scope=col>l6_elderly</th><th scope=col>l7_immigrants</th><th scope=col>geometry</th><th scope=col>⋯</th><th scope=col>Z0_Northern_Africa</th><th scope=col>Z1_Northern_Africa</th><th scope=col>Z0_Sub.Saharan_Africa</th><th scope=col>Z1_Sub.Saharan_Africa</th><th scope=col>Z0_Others</th><th scope=col>Z1_Others</th><th scope=col>Z0_Colonies</th><th scope=col>Z1_Colonies</th><th scope=col>Z0_nld</th><th scope=col>geometry</th></tr>\n",
       "\t<tr><th scope=col>&lt;int&gt;</th><th scope=col>&lt;int&gt;</th><th scope=col>&lt;dbl&gt;</th><th scope=col>&lt;dbl&gt;</th><th scope=col>&lt;int&gt;</th><th scope=col>&lt;int&gt;</th><th scope=col>&lt;int&gt;</th><th scope=col>&lt;int&gt;</th><th scope=col>&lt;int&gt;</th><th scope=col>&lt;int&gt;</th><th scope=col>⋯</th><th scope=col>&lt;dbl&gt;</th><th scope=col>&lt;dbl&gt;</th><th scope=col>&lt;dbl&gt;</th><th scope=col>&lt;dbl&gt;</th><th scope=col>&lt;dbl&gt;</th><th scope=col>&lt;dbl&gt;</th><th scope=col>&lt;dbl&gt;</th><th scope=col>&lt;dbl&gt;</th><th scope=col>&lt;dbl&gt;</th><th scope=col>&lt;MULTIPOLYGON [m]&gt;</th></tr>\n",
       "</thead>\n",
       "<tbody>\n",
       "\t<tr><td>4617</td><td> 7</td><td> 0</td><td> 7</td><td>4</td><td>0</td><td>1</td><td>1</td><td>1</td><td>0</td><td>MULTIPOLYGON (((3964400 326...</td><td>⋯</td><td>0</td><td>NA</td><td>0</td><td>NA</td><td> 0.0</td><td> NA</td><td>0</td><td>NA</td><td>100.00000</td><td>MULTIPOLYGON (((3964400 326...</td></tr>\n",
       "\t<tr><td>4808</td><td> 5</td><td> 0</td><td> 5</td><td>0</td><td>0</td><td>0</td><td>1</td><td>4</td><td>0</td><td>MULTIPOLYGON (((3964500 326...</td><td>⋯</td><td>0</td><td>NA</td><td>0</td><td>NA</td><td> 0.0</td><td> NA</td><td>0</td><td>NA</td><td>100.00000</td><td>MULTIPOLYGON (((3964500 326...</td></tr>\n",
       "\t<tr><td>4809</td><td> 7</td><td> 0</td><td> 7</td><td>5</td><td>0</td><td>2</td><td>0</td><td>0</td><td>0</td><td>MULTIPOLYGON (((3964500 326...</td><td>⋯</td><td>0</td><td>NA</td><td>0</td><td>NA</td><td> 0.0</td><td> NA</td><td>0</td><td>NA</td><td>100.00000</td><td>MULTIPOLYGON (((3964500 326...</td></tr>\n",
       "\t<tr><td>4810</td><td>14</td><td> 0</td><td>14</td><td>4</td><td>2</td><td>6</td><td>2</td><td>0</td><td>0</td><td>MULTIPOLYGON (((3964500 326...</td><td>⋯</td><td>0</td><td>NA</td><td>0</td><td>NA</td><td> 0.0</td><td> NA</td><td>0</td><td>NA</td><td>100.00000</td><td>MULTIPOLYGON (((3964500 326...</td></tr>\n",
       "\t<tr><td>4817</td><td>10</td><td> 0</td><td>10</td><td>4</td><td>0</td><td>4</td><td>1</td><td>1</td><td>0</td><td>MULTIPOLYGON (((3964500 326...</td><td>⋯</td><td>0</td><td>NA</td><td>0</td><td>NA</td><td> 0.0</td><td> NA</td><td>0</td><td>NA</td><td>100.00000</td><td>MULTIPOLYGON (((3964500 326...</td></tr>\n",
       "\t<tr><td>4836</td><td> 2</td><td> 0</td><td> 2</td><td>0</td><td>0</td><td>1</td><td>1</td><td>0</td><td>0</td><td>MULTIPOLYGON (((3964500 326...</td><td>⋯</td><td>0</td><td>NA</td><td>0</td><td>NA</td><td> 0.0</td><td> NA</td><td>0</td><td>NA</td><td>100.00000</td><td>MULTIPOLYGON (((3964500 326...</td></tr>\n",
       "\t<tr><td>4982</td><td> 6</td><td>NA</td><td>NA</td><td>0</td><td>4</td><td>2</td><td>0</td><td>0</td><td>1</td><td>MULTIPOLYGON (((3964600 326...</td><td>⋯</td><td>0</td><td>NA</td><td>0</td><td>NA</td><td> 0.0</td><td> NA</td><td>0</td><td>NA</td><td>       NA</td><td>MULTIPOLYGON (((3964600 326...</td></tr>\n",
       "\t<tr><td>5000</td><td>17</td><td> 0</td><td>17</td><td>7</td><td>2</td><td>4</td><td>2</td><td>2</td><td>0</td><td>MULTIPOLYGON (((3964600 326...</td><td>⋯</td><td>0</td><td>NA</td><td>0</td><td>NA</td><td> 0.0</td><td> NA</td><td>0</td><td>NA</td><td>100.00000</td><td>MULTIPOLYGON (((3964600 326...</td></tr>\n",
       "\t<tr><td>5005</td><td> 4</td><td> 0</td><td> 4</td><td>1</td><td>0</td><td>2</td><td>1</td><td>0</td><td>0</td><td>MULTIPOLYGON (((3964600 326...</td><td>⋯</td><td>0</td><td>NA</td><td>0</td><td>NA</td><td> 0.0</td><td> NA</td><td>0</td><td>NA</td><td>100.00000</td><td>MULTIPOLYGON (((3964600 326...</td></tr>\n",
       "\t<tr><td>5006</td><td>11</td><td> 0</td><td>11</td><td>2</td><td>3</td><td>3</td><td>3</td><td>0</td><td>0</td><td>MULTIPOLYGON (((3964600 326...</td><td>⋯</td><td>0</td><td>NA</td><td>0</td><td>NA</td><td> 0.0</td><td> NA</td><td>0</td><td>NA</td><td>100.00000</td><td>MULTIPOLYGON (((3964600 326...</td></tr>\n",
       "\t<tr><td>5190</td><td> 8</td><td> 0</td><td> 8</td><td>3</td><td>1</td><td>3</td><td>0</td><td>1</td><td>0</td><td>MULTIPOLYGON (((3964700 326...</td><td>⋯</td><td>0</td><td>NA</td><td>0</td><td>NA</td><td> 0.0</td><td> NA</td><td>0</td><td>NA</td><td>100.00000</td><td>MULTIPOLYGON (((3964700 326...</td></tr>\n",
       "\t<tr><td>5191</td><td>10</td><td> 0</td><td>10</td><td>0</td><td>5</td><td>0</td><td>4</td><td>1</td><td>0</td><td>MULTIPOLYGON (((3964700 326...</td><td>⋯</td><td>0</td><td>NA</td><td>0</td><td>NA</td><td> 0.0</td><td> NA</td><td>0</td><td>NA</td><td>100.00000</td><td>MULTIPOLYGON (((3964700 326...</td></tr>\n",
       "\t<tr><td>5195</td><td> 8</td><td> 3</td><td> 5</td><td>3</td><td>2</td><td>1</td><td>2</td><td>0</td><td>0</td><td>MULTIPOLYGON (((3964700 326...</td><td>⋯</td><td>0</td><td> 0</td><td>0</td><td> 0</td><td>37.5</td><td>100</td><td>0</td><td> 0</td><td> 62.50000</td><td>MULTIPOLYGON (((3964700 326...</td></tr>\n",
       "\t<tr><td>5214</td><td> 9</td><td> 0</td><td> 9</td><td>3</td><td>0</td><td>4</td><td>2</td><td>0</td><td>0</td><td>MULTIPOLYGON (((3964700 326...</td><td>⋯</td><td>0</td><td>NA</td><td>0</td><td>NA</td><td> 0.0</td><td> NA</td><td>0</td><td>NA</td><td>100.00000</td><td>MULTIPOLYGON (((3964700 326...</td></tr>\n",
       "\t<tr><td>5382</td><td>14</td><td> 1</td><td>13</td><td>3</td><td>0</td><td>2</td><td>5</td><td>4</td><td>0</td><td>MULTIPOLYGON (((3964800 326...</td><td>⋯</td><td>0</td><td> 0</td><td>0</td><td> 0</td><td> 0.0</td><td>  0</td><td>0</td><td> 0</td><td> 92.85714</td><td>MULTIPOLYGON (((3964800 326...</td></tr>\n",
       "\t<tr><td>5384</td><td>12</td><td> 0</td><td>12</td><td>4</td><td>0</td><td>1</td><td>3</td><td>4</td><td>0</td><td>MULTIPOLYGON (((3964800 326...</td><td>⋯</td><td>0</td><td>NA</td><td>0</td><td>NA</td><td> 0.0</td><td> NA</td><td>0</td><td>NA</td><td>100.00000</td><td>MULTIPOLYGON (((3964800 326...</td></tr>\n",
       "\t<tr><td>5402</td><td> 1</td><td> 0</td><td> 1</td><td>0</td><td>0</td><td>0</td><td>0</td><td>1</td><td>0</td><td>MULTIPOLYGON (((3964800 326...</td><td>⋯</td><td>0</td><td>NA</td><td>0</td><td>NA</td><td> 0.0</td><td> NA</td><td>0</td><td>NA</td><td>100.00000</td><td>MULTIPOLYGON (((3964800 326...</td></tr>\n",
       "\t<tr><td>5403</td><td> 2</td><td> 0</td><td> 2</td><td>0</td><td>0</td><td>0</td><td>1</td><td>1</td><td>0</td><td>MULTIPOLYGON (((3964800 326...</td><td>⋯</td><td>0</td><td>NA</td><td>0</td><td>NA</td><td> 0.0</td><td> NA</td><td>0</td><td>NA</td><td>100.00000</td><td>MULTIPOLYGON (((3964800 326...</td></tr>\n",
       "\t<tr><td>5572</td><td>12</td><td> 0</td><td>12</td><td>2</td><td>1</td><td>5</td><td>4</td><td>0</td><td>0</td><td>MULTIPOLYGON (((3964900 326...</td><td>⋯</td><td>0</td><td>NA</td><td>0</td><td>NA</td><td> 0.0</td><td> NA</td><td>0</td><td>NA</td><td>100.00000</td><td>MULTIPOLYGON (((3964900 326...</td></tr>\n",
       "\t<tr><td>5573</td><td> 6</td><td> 2</td><td> 4</td><td>0</td><td>4</td><td>0</td><td>2</td><td>0</td><td>2</td><td>MULTIPOLYGON (((3964900 326...</td><td>⋯</td><td>0</td><td> 0</td><td>0</td><td> 0</td><td> 0.0</td><td>  0</td><td>0</td><td> 0</td><td> 66.66667</td><td>MULTIPOLYGON (((3964900 326...</td></tr>\n",
       "\t<tr><td>5591</td><td> 4</td><td> 0</td><td> 4</td><td>0</td><td>0</td><td>3</td><td>0</td><td>1</td><td>0</td><td>MULTIPOLYGON (((3964900 326...</td><td>⋯</td><td>0</td><td>NA</td><td>0</td><td>NA</td><td> 0.0</td><td> NA</td><td>0</td><td>NA</td><td>100.00000</td><td>MULTIPOLYGON (((3964900 326...</td></tr>\n",
       "\t<tr><td>5592</td><td> 1</td><td> 0</td><td> 1</td><td>0</td><td>0</td><td>0</td><td>1</td><td>0</td><td>0</td><td>MULTIPOLYGON (((3964900 326...</td><td>⋯</td><td>0</td><td>NA</td><td>0</td><td>NA</td><td> 0.0</td><td> NA</td><td>0</td><td>NA</td><td>100.00000</td><td>MULTIPOLYGON (((3964900 326...</td></tr>\n",
       "\t<tr><td>5763</td><td> 3</td><td> 0</td><td> 3</td><td>0</td><td>0</td><td>0</td><td>2</td><td>1</td><td>0</td><td>MULTIPOLYGON (((3965000 326...</td><td>⋯</td><td>0</td><td>NA</td><td>0</td><td>NA</td><td> 0.0</td><td> NA</td><td>0</td><td>NA</td><td>100.00000</td><td>MULTIPOLYGON (((3965000 326...</td></tr>\n",
       "\t<tr><td>5764</td><td> 2</td><td> 0</td><td> 2</td><td>0</td><td>0</td><td>1</td><td>1</td><td>0</td><td>0</td><td>MULTIPOLYGON (((3965000 326...</td><td>⋯</td><td>0</td><td>NA</td><td>0</td><td>NA</td><td> 0.0</td><td> NA</td><td>0</td><td>NA</td><td>100.00000</td><td>MULTIPOLYGON (((3965000 326...</td></tr>\n",
       "\t<tr><td>5780</td><td> 4</td><td> 0</td><td> 4</td><td>0</td><td>0</td><td>2</td><td>2</td><td>0</td><td>0</td><td>MULTIPOLYGON (((3965000 326...</td><td>⋯</td><td>0</td><td>NA</td><td>0</td><td>NA</td><td> 0.0</td><td> NA</td><td>0</td><td>NA</td><td>100.00000</td><td>MULTIPOLYGON (((3965000 326...</td></tr>\n",
       "\t<tr><td>5955</td><td>19</td><td> 0</td><td>19</td><td>4</td><td>4</td><td>5</td><td>6</td><td>0</td><td>0</td><td>MULTIPOLYGON (((3965100 326...</td><td>⋯</td><td>0</td><td>NA</td><td>0</td><td>NA</td><td> 0.0</td><td> NA</td><td>0</td><td>NA</td><td>100.00000</td><td>MULTIPOLYGON (((3965100 326...</td></tr>\n",
       "\t<tr><td>5956</td><td>18</td><td> 0</td><td>18</td><td>5</td><td>3</td><td>6</td><td>4</td><td>0</td><td>0</td><td>MULTIPOLYGON (((3965100 326...</td><td>⋯</td><td>0</td><td>NA</td><td>0</td><td>NA</td><td> 0.0</td><td> NA</td><td>0</td><td>NA</td><td>100.00000</td><td>MULTIPOLYGON (((3965100 326...</td></tr>\n",
       "\t<tr><td>5969</td><td> 2</td><td> 0</td><td> 2</td><td>0</td><td>2</td><td>0</td><td>0</td><td>0</td><td>0</td><td>MULTIPOLYGON (((3965100 326...</td><td>⋯</td><td>0</td><td>NA</td><td>0</td><td>NA</td><td> 0.0</td><td> NA</td><td>0</td><td>NA</td><td>100.00000</td><td>MULTIPOLYGON (((3965100 326...</td></tr>\n",
       "\t<tr><td>6145</td><td> 5</td><td> 0</td><td> 5</td><td>1</td><td>2</td><td>0</td><td>2</td><td>0</td><td>0</td><td>MULTIPOLYGON (((3965200 326...</td><td>⋯</td><td>0</td><td>NA</td><td>0</td><td>NA</td><td> 0.0</td><td> NA</td><td>0</td><td>NA</td><td>100.00000</td><td>MULTIPOLYGON (((3965200 326...</td></tr>\n",
       "\t<tr><td>6146</td><td> 2</td><td> 0</td><td> 2</td><td>0</td><td>0</td><td>1</td><td>1</td><td>0</td><td>0</td><td>MULTIPOLYGON (((3965200 326...</td><td>⋯</td><td>0</td><td>NA</td><td>0</td><td>NA</td><td> 0.0</td><td> NA</td><td>0</td><td>NA</td><td>100.00000</td><td>MULTIPOLYGON (((3965200 326...</td></tr>\n",
       "\t<tr><td>⋮</td><td>⋮</td><td>⋮</td><td>⋮</td><td>⋮</td><td>⋮</td><td>⋮</td><td>⋮</td><td>⋮</td><td>⋮</td><td>⋮</td><td>⋱</td><td>⋮</td><td>⋮</td><td>⋮</td><td>⋮</td><td>⋮</td><td>⋮</td><td>⋮</td><td>⋮</td><td>⋮</td><td>⋮</td></tr>\n",
       "\t<tr><td>37014</td><td> 82</td><td>1</td><td> 81</td><td>13</td><td> 9</td><td>15</td><td>30</td><td>15</td><td>0</td><td>MULTIPOLYGON (((3981400 325...</td><td>⋯</td><td>0</td><td> 0</td><td>0.000000</td><td>  0</td><td>0</td><td> 0</td><td>0.000000</td><td>  0</td><td> 98.78049</td><td>MULTIPOLYGON (((3981400 325...</td></tr>\n",
       "\t<tr><td>37015</td><td> 18</td><td>0</td><td> 18</td><td> 5</td><td> 4</td><td> 4</td><td> 5</td><td> 0</td><td>0</td><td>MULTIPOLYGON (((3981400 325...</td><td>⋯</td><td>0</td><td>NA</td><td>0.000000</td><td> NA</td><td>0</td><td>NA</td><td>0.000000</td><td> NA</td><td>100.00000</td><td>MULTIPOLYGON (((3981400 325...</td></tr>\n",
       "\t<tr><td>37016</td><td>107</td><td>3</td><td>104</td><td>25</td><td>15</td><td>28</td><td>21</td><td>18</td><td>2</td><td>MULTIPOLYGON (((3981400 325...</td><td>⋯</td><td>0</td><td> 0</td><td>0.000000</td><td>  0</td><td>0</td><td> 0</td><td>0.000000</td><td>  0</td><td> 97.19626</td><td>MULTIPOLYGON (((3981400 325...</td></tr>\n",
       "\t<tr><td>37017</td><td> 28</td><td>0</td><td> 28</td><td>10</td><td> 1</td><td> 9</td><td> 6</td><td> 2</td><td>0</td><td>MULTIPOLYGON (((3981400 325...</td><td>⋯</td><td>0</td><td>NA</td><td>0.000000</td><td> NA</td><td>0</td><td>NA</td><td>0.000000</td><td> NA</td><td>100.00000</td><td>MULTIPOLYGON (((3981400 325...</td></tr>\n",
       "\t<tr><td>37202</td><td> 45</td><td>2</td><td> 43</td><td>10</td><td>12</td><td> 8</td><td>10</td><td> 5</td><td>0</td><td>MULTIPOLYGON (((3981500 325...</td><td>⋯</td><td>0</td><td> 0</td><td>0.000000</td><td>  0</td><td>0</td><td> 0</td><td>0.000000</td><td>  0</td><td> 95.55556</td><td>MULTIPOLYGON (((3981500 325...</td></tr>\n",
       "\t<tr><td>37203</td><td> 70</td><td>1</td><td> 69</td><td>10</td><td> 8</td><td>11</td><td>24</td><td>17</td><td>0</td><td>MULTIPOLYGON (((3981500 325...</td><td>⋯</td><td>0</td><td> 0</td><td>0.000000</td><td>  0</td><td>0</td><td> 0</td><td>1.428571</td><td>100</td><td> 98.57143</td><td>MULTIPOLYGON (((3981500 325...</td></tr>\n",
       "\t<tr><td>37204</td><td> 20</td><td>0</td><td> 20</td><td> 7</td><td> 0</td><td> 6</td><td> 3</td><td> 4</td><td>0</td><td>MULTIPOLYGON (((3981500 325...</td><td>⋯</td><td>0</td><td>NA</td><td>0.000000</td><td> NA</td><td>0</td><td>NA</td><td>0.000000</td><td> NA</td><td>100.00000</td><td>MULTIPOLYGON (((3981500 325...</td></tr>\n",
       "\t<tr><td>37205</td><td>  6</td><td>0</td><td>  6</td><td> 0</td><td> 2</td><td> 0</td><td> 2</td><td> 2</td><td>0</td><td>MULTIPOLYGON (((3981500 325...</td><td>⋯</td><td>0</td><td>NA</td><td>0.000000</td><td> NA</td><td>0</td><td>NA</td><td>0.000000</td><td> NA</td><td>100.00000</td><td>MULTIPOLYGON (((3981500 325...</td></tr>\n",
       "\t<tr><td>37206</td><td> 80</td><td>0</td><td> 80</td><td>19</td><td>18</td><td>21</td><td>15</td><td> 7</td><td>0</td><td>MULTIPOLYGON (((3981500 325...</td><td>⋯</td><td>0</td><td>NA</td><td>0.000000</td><td> NA</td><td>0</td><td>NA</td><td>0.000000</td><td> NA</td><td>100.00000</td><td>MULTIPOLYGON (((3981500 325...</td></tr>\n",
       "\t<tr><td>37207</td><td> 43</td><td>2</td><td> 41</td><td> 7</td><td> 4</td><td> 8</td><td>11</td><td>13</td><td>1</td><td>MULTIPOLYGON (((3981500 325...</td><td>⋯</td><td>0</td><td> 0</td><td>2.325581</td><td> 50</td><td>0</td><td> 0</td><td>0.000000</td><td>  0</td><td> 95.34884</td><td>MULTIPOLYGON (((3981500 325...</td></tr>\n",
       "\t<tr><td>37396</td><td> 15</td><td>0</td><td> 15</td><td> 3</td><td> 4</td><td> 3</td><td> 5</td><td> 0</td><td>0</td><td>MULTIPOLYGON (((3981600 325...</td><td>⋯</td><td>0</td><td>NA</td><td>0.000000</td><td> NA</td><td>0</td><td>NA</td><td>0.000000</td><td> NA</td><td>100.00000</td><td>MULTIPOLYGON (((3981600 325...</td></tr>\n",
       "\t<tr><td>37495</td><td> 10</td><td>2</td><td>  8</td><td> 3</td><td> 1</td><td> 3</td><td> 3</td><td> 0</td><td>1</td><td>MULTIPOLYGON (((3981700 326...</td><td>⋯</td><td>0</td><td> 0</td><td>0.000000</td><td>  0</td><td>0</td><td> 0</td><td>0.000000</td><td>  0</td><td> 80.00000</td><td>MULTIPOLYGON (((3981700 326...</td></tr>\n",
       "\t<tr><td>37835</td><td>  4</td><td>0</td><td>  4</td><td> 0</td><td> 0</td><td> 2</td><td> 2</td><td> 0</td><td>0</td><td>MULTIPOLYGON (((3981900 326...</td><td>⋯</td><td>0</td><td>NA</td><td>0.000000</td><td> NA</td><td>0</td><td>NA</td><td>0.000000</td><td> NA</td><td>100.00000</td><td>MULTIPOLYGON (((3981900 326...</td></tr>\n",
       "\t<tr><td>38615</td><td>  5</td><td>0</td><td>  5</td><td> 3</td><td> 0</td><td> 1</td><td> 1</td><td> 0</td><td>0</td><td>MULTIPOLYGON (((3982300 326...</td><td>⋯</td><td>0</td><td>NA</td><td>0.000000</td><td> NA</td><td>0</td><td>NA</td><td>0.000000</td><td> NA</td><td>100.00000</td><td>MULTIPOLYGON (((3982300 326...</td></tr>\n",
       "\t<tr><td>38790</td><td>  4</td><td>0</td><td>  4</td><td> 2</td><td> 0</td><td> 0</td><td> 2</td><td> 0</td><td>0</td><td>MULTIPOLYGON (((3982400 326...</td><td>⋯</td><td>0</td><td>NA</td><td>0.000000</td><td> NA</td><td>0</td><td>NA</td><td>0.000000</td><td> NA</td><td>100.00000</td><td>MULTIPOLYGON (((3982400 326...</td></tr>\n",
       "\t<tr><td>38984</td><td> 11</td><td>0</td><td> 11</td><td> 0</td><td> 3</td><td> 1</td><td> 6</td><td> 1</td><td>0</td><td>MULTIPOLYGON (((3982500 326...</td><td>⋯</td><td>0</td><td>NA</td><td>0.000000</td><td> NA</td><td>0</td><td>NA</td><td>0.000000</td><td> NA</td><td>100.00000</td><td>MULTIPOLYGON (((3982500 326...</td></tr>\n",
       "\t<tr><td>38985</td><td>  4</td><td>0</td><td>  4</td><td> 2</td><td> 0</td><td> 2</td><td> 0</td><td> 0</td><td>0</td><td>MULTIPOLYGON (((3982500 326...</td><td>⋯</td><td>0</td><td>NA</td><td>0.000000</td><td> NA</td><td>0</td><td>NA</td><td>0.000000</td><td> NA</td><td>100.00000</td><td>MULTIPOLYGON (((3982500 326...</td></tr>\n",
       "\t<tr><td>39175</td><td> 10</td><td>1</td><td>  9</td><td> 0</td><td> 0</td><td> 4</td><td> 3</td><td> 3</td><td>1</td><td>MULTIPOLYGON (((3982600 326...</td><td>⋯</td><td>0</td><td> 0</td><td>0.000000</td><td>  0</td><td>0</td><td> 0</td><td>0.000000</td><td>  0</td><td> 90.00000</td><td>MULTIPOLYGON (((3982600 326...</td></tr>\n",
       "\t<tr><td>39358</td><td>  2</td><td>0</td><td>  2</td><td> 0</td><td> 0</td><td> 1</td><td> 0</td><td> 1</td><td>0</td><td>MULTIPOLYGON (((3982700 326...</td><td>⋯</td><td>0</td><td>NA</td><td>0.000000</td><td> NA</td><td>0</td><td>NA</td><td>0.000000</td><td> NA</td><td>100.00000</td><td>MULTIPOLYGON (((3982700 326...</td></tr>\n",
       "\t<tr><td>39365</td><td> 20</td><td>1</td><td> 19</td><td> 3</td><td> 0</td><td> 7</td><td> 4</td><td> 6</td><td>0</td><td>MULTIPOLYGON (((3982700 326...</td><td>⋯</td><td>0</td><td> 0</td><td>0.000000</td><td>  0</td><td>0</td><td> 0</td><td>0.000000</td><td>  0</td><td> 95.00000</td><td>MULTIPOLYGON (((3982700 326...</td></tr>\n",
       "\t<tr><td>39555</td><td> 29</td><td>1</td><td> 28</td><td> 5</td><td> 6</td><td> 7</td><td> 6</td><td> 5</td><td>0</td><td>MULTIPOLYGON (((3982800 326...</td><td>⋯</td><td>0</td><td> 0</td><td>3.448276</td><td>100</td><td>0</td><td> 0</td><td>0.000000</td><td>  0</td><td> 96.55172</td><td>MULTIPOLYGON (((3982800 326...</td></tr>\n",
       "\t<tr><td>39744</td><td>  3</td><td>0</td><td>  3</td><td> 0</td><td> 0</td><td> 1</td><td> 0</td><td> 2</td><td>0</td><td>MULTIPOLYGON (((3982900 326...</td><td>⋯</td><td>0</td><td>NA</td><td>0.000000</td><td> NA</td><td>0</td><td>NA</td><td>0.000000</td><td> NA</td><td>100.00000</td><td>MULTIPOLYGON (((3982900 326...</td></tr>\n",
       "\t<tr><td>39745</td><td> 40</td><td>2</td><td> 38</td><td>12</td><td> 5</td><td>12</td><td> 7</td><td> 4</td><td>1</td><td>MULTIPOLYGON (((3982900 326...</td><td>⋯</td><td>0</td><td> 0</td><td>0.000000</td><td>  0</td><td>0</td><td> 0</td><td>0.000000</td><td>  0</td><td> 95.00000</td><td>MULTIPOLYGON (((3982900 326...</td></tr>\n",
       "\t<tr><td>39935</td><td> 34</td><td>4</td><td> 30</td><td>11</td><td> 1</td><td>13</td><td> 5</td><td> 4</td><td>1</td><td>MULTIPOLYGON (((3983000 326...</td><td>⋯</td><td>0</td><td> 0</td><td>0.000000</td><td>  0</td><td>0</td><td> 0</td><td>0.000000</td><td>  0</td><td> 88.23529</td><td>MULTIPOLYGON (((3983000 326...</td></tr>\n",
       "\t<tr><td>40125</td><td> 12</td><td>0</td><td> 12</td><td> 4</td><td> 3</td><td> 2</td><td> 2</td><td> 1</td><td>0</td><td>MULTIPOLYGON (((3983100 326...</td><td>⋯</td><td>0</td><td>NA</td><td>0.000000</td><td> NA</td><td>0</td><td>NA</td><td>0.000000</td><td> NA</td><td>100.00000</td><td>MULTIPOLYGON (((3983100 326...</td></tr>\n",
       "\t<tr><td>40316</td><td>  6</td><td>0</td><td>  6</td><td> 2</td><td> 1</td><td> 0</td><td> 2</td><td> 1</td><td>0</td><td>MULTIPOLYGON (((3983200 326...</td><td>⋯</td><td>0</td><td>NA</td><td>0.000000</td><td> NA</td><td>0</td><td>NA</td><td>0.000000</td><td> NA</td><td>100.00000</td><td>MULTIPOLYGON (((3983200 326...</td></tr>\n",
       "\t<tr><td>40317</td><td>  5</td><td>0</td><td>  5</td><td> 3</td><td> 0</td><td> 1</td><td> 1</td><td> 0</td><td>0</td><td>MULTIPOLYGON (((3983200 326...</td><td>⋯</td><td>0</td><td>NA</td><td>0.000000</td><td> NA</td><td>0</td><td>NA</td><td>0.000000</td><td> NA</td><td>100.00000</td><td>MULTIPOLYGON (((3983200 326...</td></tr>\n",
       "\t<tr><td>42595</td><td>  2</td><td>0</td><td>  2</td><td> 0</td><td> 0</td><td> 1</td><td> 0</td><td> 1</td><td>0</td><td>MULTIPOLYGON (((3984400 326...</td><td>⋯</td><td>0</td><td>NA</td><td>0.000000</td><td> NA</td><td>0</td><td>NA</td><td>0.000000</td><td> NA</td><td>100.00000</td><td>MULTIPOLYGON (((3984400 326...</td></tr>\n",
       "\t<tr><td>42975</td><td>  2</td><td>0</td><td>  2</td><td> 0</td><td> 0</td><td> 0</td><td> 2</td><td> 0</td><td>0</td><td>MULTIPOLYGON (((3984600 326...</td><td>⋯</td><td>0</td><td>NA</td><td>0.000000</td><td> NA</td><td>0</td><td>NA</td><td>0.000000</td><td> NA</td><td>100.00000</td><td>MULTIPOLYGON (((3984600 326...</td></tr>\n",
       "\t<tr><td>43165</td><td>  6</td><td>0</td><td>  6</td><td> 4</td><td> 0</td><td> 1</td><td> 1</td><td> 0</td><td>0</td><td>MULTIPOLYGON (((3984700 326...</td><td>⋯</td><td>0</td><td>NA</td><td>0.000000</td><td> NA</td><td>0</td><td>NA</td><td>0.000000</td><td> NA</td><td>100.00000</td><td>MULTIPOLYGON (((3984700 326...</td></tr>\n",
       "</tbody>\n",
       "</table>\n"
      ],
      "text/latex": [
       "A sf: 5804 × 71\n",
       "\\begin{tabular}{lllllllllllllllllllll}\n",
       " grid\\_id & l1\\_totalpop & totalMig & nld & l2\\_children & l3\\_students & l4\\_mobile\\_adults & l5\\_not\\_mobile\\_adults & l6\\_elderly & l7\\_immigrants & geometry & ⋯ & Z0\\_Northern\\_Africa & Z1\\_Northern\\_Africa & Z0\\_Sub.Saharan\\_Africa & Z1\\_Sub.Saharan\\_Africa & Z0\\_Others & Z1\\_Others & Z0\\_Colonies & Z1\\_Colonies & Z0\\_nld & geometry\\\\\n",
       " <int> & <int> & <dbl> & <dbl> & <int> & <int> & <int> & <int> & <int> & <int> & ⋯ & <dbl> & <dbl> & <dbl> & <dbl> & <dbl> & <dbl> & <dbl> & <dbl> & <dbl> & <MULTIPOLYGON {[}m{]}>\\\\\n",
       "\\hline\n",
       "\t 4617 &  7 &  0 &  7 & 4 & 0 & 1 & 1 & 1 & 0 & MULTIPOLYGON (((3964400 326... & ⋯ & 0 & NA & 0 & NA &  0.0 &  NA & 0 & NA & 100.00000 & MULTIPOLYGON (((3964400 326...\\\\\n",
       "\t 4808 &  5 &  0 &  5 & 0 & 0 & 0 & 1 & 4 & 0 & MULTIPOLYGON (((3964500 326... & ⋯ & 0 & NA & 0 & NA &  0.0 &  NA & 0 & NA & 100.00000 & MULTIPOLYGON (((3964500 326...\\\\\n",
       "\t 4809 &  7 &  0 &  7 & 5 & 0 & 2 & 0 & 0 & 0 & MULTIPOLYGON (((3964500 326... & ⋯ & 0 & NA & 0 & NA &  0.0 &  NA & 0 & NA & 100.00000 & MULTIPOLYGON (((3964500 326...\\\\\n",
       "\t 4810 & 14 &  0 & 14 & 4 & 2 & 6 & 2 & 0 & 0 & MULTIPOLYGON (((3964500 326... & ⋯ & 0 & NA & 0 & NA &  0.0 &  NA & 0 & NA & 100.00000 & MULTIPOLYGON (((3964500 326...\\\\\n",
       "\t 4817 & 10 &  0 & 10 & 4 & 0 & 4 & 1 & 1 & 0 & MULTIPOLYGON (((3964500 326... & ⋯ & 0 & NA & 0 & NA &  0.0 &  NA & 0 & NA & 100.00000 & MULTIPOLYGON (((3964500 326...\\\\\n",
       "\t 4836 &  2 &  0 &  2 & 0 & 0 & 1 & 1 & 0 & 0 & MULTIPOLYGON (((3964500 326... & ⋯ & 0 & NA & 0 & NA &  0.0 &  NA & 0 & NA & 100.00000 & MULTIPOLYGON (((3964500 326...\\\\\n",
       "\t 4982 &  6 & NA & NA & 0 & 4 & 2 & 0 & 0 & 1 & MULTIPOLYGON (((3964600 326... & ⋯ & 0 & NA & 0 & NA &  0.0 &  NA & 0 & NA &        NA & MULTIPOLYGON (((3964600 326...\\\\\n",
       "\t 5000 & 17 &  0 & 17 & 7 & 2 & 4 & 2 & 2 & 0 & MULTIPOLYGON (((3964600 326... & ⋯ & 0 & NA & 0 & NA &  0.0 &  NA & 0 & NA & 100.00000 & MULTIPOLYGON (((3964600 326...\\\\\n",
       "\t 5005 &  4 &  0 &  4 & 1 & 0 & 2 & 1 & 0 & 0 & MULTIPOLYGON (((3964600 326... & ⋯ & 0 & NA & 0 & NA &  0.0 &  NA & 0 & NA & 100.00000 & MULTIPOLYGON (((3964600 326...\\\\\n",
       "\t 5006 & 11 &  0 & 11 & 2 & 3 & 3 & 3 & 0 & 0 & MULTIPOLYGON (((3964600 326... & ⋯ & 0 & NA & 0 & NA &  0.0 &  NA & 0 & NA & 100.00000 & MULTIPOLYGON (((3964600 326...\\\\\n",
       "\t 5190 &  8 &  0 &  8 & 3 & 1 & 3 & 0 & 1 & 0 & MULTIPOLYGON (((3964700 326... & ⋯ & 0 & NA & 0 & NA &  0.0 &  NA & 0 & NA & 100.00000 & MULTIPOLYGON (((3964700 326...\\\\\n",
       "\t 5191 & 10 &  0 & 10 & 0 & 5 & 0 & 4 & 1 & 0 & MULTIPOLYGON (((3964700 326... & ⋯ & 0 & NA & 0 & NA &  0.0 &  NA & 0 & NA & 100.00000 & MULTIPOLYGON (((3964700 326...\\\\\n",
       "\t 5195 &  8 &  3 &  5 & 3 & 2 & 1 & 2 & 0 & 0 & MULTIPOLYGON (((3964700 326... & ⋯ & 0 &  0 & 0 &  0 & 37.5 & 100 & 0 &  0 &  62.50000 & MULTIPOLYGON (((3964700 326...\\\\\n",
       "\t 5214 &  9 &  0 &  9 & 3 & 0 & 4 & 2 & 0 & 0 & MULTIPOLYGON (((3964700 326... & ⋯ & 0 & NA & 0 & NA &  0.0 &  NA & 0 & NA & 100.00000 & MULTIPOLYGON (((3964700 326...\\\\\n",
       "\t 5382 & 14 &  1 & 13 & 3 & 0 & 2 & 5 & 4 & 0 & MULTIPOLYGON (((3964800 326... & ⋯ & 0 &  0 & 0 &  0 &  0.0 &   0 & 0 &  0 &  92.85714 & MULTIPOLYGON (((3964800 326...\\\\\n",
       "\t 5384 & 12 &  0 & 12 & 4 & 0 & 1 & 3 & 4 & 0 & MULTIPOLYGON (((3964800 326... & ⋯ & 0 & NA & 0 & NA &  0.0 &  NA & 0 & NA & 100.00000 & MULTIPOLYGON (((3964800 326...\\\\\n",
       "\t 5402 &  1 &  0 &  1 & 0 & 0 & 0 & 0 & 1 & 0 & MULTIPOLYGON (((3964800 326... & ⋯ & 0 & NA & 0 & NA &  0.0 &  NA & 0 & NA & 100.00000 & MULTIPOLYGON (((3964800 326...\\\\\n",
       "\t 5403 &  2 &  0 &  2 & 0 & 0 & 0 & 1 & 1 & 0 & MULTIPOLYGON (((3964800 326... & ⋯ & 0 & NA & 0 & NA &  0.0 &  NA & 0 & NA & 100.00000 & MULTIPOLYGON (((3964800 326...\\\\\n",
       "\t 5572 & 12 &  0 & 12 & 2 & 1 & 5 & 4 & 0 & 0 & MULTIPOLYGON (((3964900 326... & ⋯ & 0 & NA & 0 & NA &  0.0 &  NA & 0 & NA & 100.00000 & MULTIPOLYGON (((3964900 326...\\\\\n",
       "\t 5573 &  6 &  2 &  4 & 0 & 4 & 0 & 2 & 0 & 2 & MULTIPOLYGON (((3964900 326... & ⋯ & 0 &  0 & 0 &  0 &  0.0 &   0 & 0 &  0 &  66.66667 & MULTIPOLYGON (((3964900 326...\\\\\n",
       "\t 5591 &  4 &  0 &  4 & 0 & 0 & 3 & 0 & 1 & 0 & MULTIPOLYGON (((3964900 326... & ⋯ & 0 & NA & 0 & NA &  0.0 &  NA & 0 & NA & 100.00000 & MULTIPOLYGON (((3964900 326...\\\\\n",
       "\t 5592 &  1 &  0 &  1 & 0 & 0 & 0 & 1 & 0 & 0 & MULTIPOLYGON (((3964900 326... & ⋯ & 0 & NA & 0 & NA &  0.0 &  NA & 0 & NA & 100.00000 & MULTIPOLYGON (((3964900 326...\\\\\n",
       "\t 5763 &  3 &  0 &  3 & 0 & 0 & 0 & 2 & 1 & 0 & MULTIPOLYGON (((3965000 326... & ⋯ & 0 & NA & 0 & NA &  0.0 &  NA & 0 & NA & 100.00000 & MULTIPOLYGON (((3965000 326...\\\\\n",
       "\t 5764 &  2 &  0 &  2 & 0 & 0 & 1 & 1 & 0 & 0 & MULTIPOLYGON (((3965000 326... & ⋯ & 0 & NA & 0 & NA &  0.0 &  NA & 0 & NA & 100.00000 & MULTIPOLYGON (((3965000 326...\\\\\n",
       "\t 5780 &  4 &  0 &  4 & 0 & 0 & 2 & 2 & 0 & 0 & MULTIPOLYGON (((3965000 326... & ⋯ & 0 & NA & 0 & NA &  0.0 &  NA & 0 & NA & 100.00000 & MULTIPOLYGON (((3965000 326...\\\\\n",
       "\t 5955 & 19 &  0 & 19 & 4 & 4 & 5 & 6 & 0 & 0 & MULTIPOLYGON (((3965100 326... & ⋯ & 0 & NA & 0 & NA &  0.0 &  NA & 0 & NA & 100.00000 & MULTIPOLYGON (((3965100 326...\\\\\n",
       "\t 5956 & 18 &  0 & 18 & 5 & 3 & 6 & 4 & 0 & 0 & MULTIPOLYGON (((3965100 326... & ⋯ & 0 & NA & 0 & NA &  0.0 &  NA & 0 & NA & 100.00000 & MULTIPOLYGON (((3965100 326...\\\\\n",
       "\t 5969 &  2 &  0 &  2 & 0 & 2 & 0 & 0 & 0 & 0 & MULTIPOLYGON (((3965100 326... & ⋯ & 0 & NA & 0 & NA &  0.0 &  NA & 0 & NA & 100.00000 & MULTIPOLYGON (((3965100 326...\\\\\n",
       "\t 6145 &  5 &  0 &  5 & 1 & 2 & 0 & 2 & 0 & 0 & MULTIPOLYGON (((3965200 326... & ⋯ & 0 & NA & 0 & NA &  0.0 &  NA & 0 & NA & 100.00000 & MULTIPOLYGON (((3965200 326...\\\\\n",
       "\t 6146 &  2 &  0 &  2 & 0 & 0 & 1 & 1 & 0 & 0 & MULTIPOLYGON (((3965200 326... & ⋯ & 0 & NA & 0 & NA &  0.0 &  NA & 0 & NA & 100.00000 & MULTIPOLYGON (((3965200 326...\\\\\n",
       "\t ⋮ & ⋮ & ⋮ & ⋮ & ⋮ & ⋮ & ⋮ & ⋮ & ⋮ & ⋮ & ⋮ & ⋱ & ⋮ & ⋮ & ⋮ & ⋮ & ⋮ & ⋮ & ⋮ & ⋮ & ⋮ & ⋮\\\\\n",
       "\t 37014 &  82 & 1 &  81 & 13 &  9 & 15 & 30 & 15 & 0 & MULTIPOLYGON (((3981400 325... & ⋯ & 0 &  0 & 0.000000 &   0 & 0 &  0 & 0.000000 &   0 &  98.78049 & MULTIPOLYGON (((3981400 325...\\\\\n",
       "\t 37015 &  18 & 0 &  18 &  5 &  4 &  4 &  5 &  0 & 0 & MULTIPOLYGON (((3981400 325... & ⋯ & 0 & NA & 0.000000 &  NA & 0 & NA & 0.000000 &  NA & 100.00000 & MULTIPOLYGON (((3981400 325...\\\\\n",
       "\t 37016 & 107 & 3 & 104 & 25 & 15 & 28 & 21 & 18 & 2 & MULTIPOLYGON (((3981400 325... & ⋯ & 0 &  0 & 0.000000 &   0 & 0 &  0 & 0.000000 &   0 &  97.19626 & MULTIPOLYGON (((3981400 325...\\\\\n",
       "\t 37017 &  28 & 0 &  28 & 10 &  1 &  9 &  6 &  2 & 0 & MULTIPOLYGON (((3981400 325... & ⋯ & 0 & NA & 0.000000 &  NA & 0 & NA & 0.000000 &  NA & 100.00000 & MULTIPOLYGON (((3981400 325...\\\\\n",
       "\t 37202 &  45 & 2 &  43 & 10 & 12 &  8 & 10 &  5 & 0 & MULTIPOLYGON (((3981500 325... & ⋯ & 0 &  0 & 0.000000 &   0 & 0 &  0 & 0.000000 &   0 &  95.55556 & MULTIPOLYGON (((3981500 325...\\\\\n",
       "\t 37203 &  70 & 1 &  69 & 10 &  8 & 11 & 24 & 17 & 0 & MULTIPOLYGON (((3981500 325... & ⋯ & 0 &  0 & 0.000000 &   0 & 0 &  0 & 1.428571 & 100 &  98.57143 & MULTIPOLYGON (((3981500 325...\\\\\n",
       "\t 37204 &  20 & 0 &  20 &  7 &  0 &  6 &  3 &  4 & 0 & MULTIPOLYGON (((3981500 325... & ⋯ & 0 & NA & 0.000000 &  NA & 0 & NA & 0.000000 &  NA & 100.00000 & MULTIPOLYGON (((3981500 325...\\\\\n",
       "\t 37205 &   6 & 0 &   6 &  0 &  2 &  0 &  2 &  2 & 0 & MULTIPOLYGON (((3981500 325... & ⋯ & 0 & NA & 0.000000 &  NA & 0 & NA & 0.000000 &  NA & 100.00000 & MULTIPOLYGON (((3981500 325...\\\\\n",
       "\t 37206 &  80 & 0 &  80 & 19 & 18 & 21 & 15 &  7 & 0 & MULTIPOLYGON (((3981500 325... & ⋯ & 0 & NA & 0.000000 &  NA & 0 & NA & 0.000000 &  NA & 100.00000 & MULTIPOLYGON (((3981500 325...\\\\\n",
       "\t 37207 &  43 & 2 &  41 &  7 &  4 &  8 & 11 & 13 & 1 & MULTIPOLYGON (((3981500 325... & ⋯ & 0 &  0 & 2.325581 &  50 & 0 &  0 & 0.000000 &   0 &  95.34884 & MULTIPOLYGON (((3981500 325...\\\\\n",
       "\t 37396 &  15 & 0 &  15 &  3 &  4 &  3 &  5 &  0 & 0 & MULTIPOLYGON (((3981600 325... & ⋯ & 0 & NA & 0.000000 &  NA & 0 & NA & 0.000000 &  NA & 100.00000 & MULTIPOLYGON (((3981600 325...\\\\\n",
       "\t 37495 &  10 & 2 &   8 &  3 &  1 &  3 &  3 &  0 & 1 & MULTIPOLYGON (((3981700 326... & ⋯ & 0 &  0 & 0.000000 &   0 & 0 &  0 & 0.000000 &   0 &  80.00000 & MULTIPOLYGON (((3981700 326...\\\\\n",
       "\t 37835 &   4 & 0 &   4 &  0 &  0 &  2 &  2 &  0 & 0 & MULTIPOLYGON (((3981900 326... & ⋯ & 0 & NA & 0.000000 &  NA & 0 & NA & 0.000000 &  NA & 100.00000 & MULTIPOLYGON (((3981900 326...\\\\\n",
       "\t 38615 &   5 & 0 &   5 &  3 &  0 &  1 &  1 &  0 & 0 & MULTIPOLYGON (((3982300 326... & ⋯ & 0 & NA & 0.000000 &  NA & 0 & NA & 0.000000 &  NA & 100.00000 & MULTIPOLYGON (((3982300 326...\\\\\n",
       "\t 38790 &   4 & 0 &   4 &  2 &  0 &  0 &  2 &  0 & 0 & MULTIPOLYGON (((3982400 326... & ⋯ & 0 & NA & 0.000000 &  NA & 0 & NA & 0.000000 &  NA & 100.00000 & MULTIPOLYGON (((3982400 326...\\\\\n",
       "\t 38984 &  11 & 0 &  11 &  0 &  3 &  1 &  6 &  1 & 0 & MULTIPOLYGON (((3982500 326... & ⋯ & 0 & NA & 0.000000 &  NA & 0 & NA & 0.000000 &  NA & 100.00000 & MULTIPOLYGON (((3982500 326...\\\\\n",
       "\t 38985 &   4 & 0 &   4 &  2 &  0 &  2 &  0 &  0 & 0 & MULTIPOLYGON (((3982500 326... & ⋯ & 0 & NA & 0.000000 &  NA & 0 & NA & 0.000000 &  NA & 100.00000 & MULTIPOLYGON (((3982500 326...\\\\\n",
       "\t 39175 &  10 & 1 &   9 &  0 &  0 &  4 &  3 &  3 & 1 & MULTIPOLYGON (((3982600 326... & ⋯ & 0 &  0 & 0.000000 &   0 & 0 &  0 & 0.000000 &   0 &  90.00000 & MULTIPOLYGON (((3982600 326...\\\\\n",
       "\t 39358 &   2 & 0 &   2 &  0 &  0 &  1 &  0 &  1 & 0 & MULTIPOLYGON (((3982700 326... & ⋯ & 0 & NA & 0.000000 &  NA & 0 & NA & 0.000000 &  NA & 100.00000 & MULTIPOLYGON (((3982700 326...\\\\\n",
       "\t 39365 &  20 & 1 &  19 &  3 &  0 &  7 &  4 &  6 & 0 & MULTIPOLYGON (((3982700 326... & ⋯ & 0 &  0 & 0.000000 &   0 & 0 &  0 & 0.000000 &   0 &  95.00000 & MULTIPOLYGON (((3982700 326...\\\\\n",
       "\t 39555 &  29 & 1 &  28 &  5 &  6 &  7 &  6 &  5 & 0 & MULTIPOLYGON (((3982800 326... & ⋯ & 0 &  0 & 3.448276 & 100 & 0 &  0 & 0.000000 &   0 &  96.55172 & MULTIPOLYGON (((3982800 326...\\\\\n",
       "\t 39744 &   3 & 0 &   3 &  0 &  0 &  1 &  0 &  2 & 0 & MULTIPOLYGON (((3982900 326... & ⋯ & 0 & NA & 0.000000 &  NA & 0 & NA & 0.000000 &  NA & 100.00000 & MULTIPOLYGON (((3982900 326...\\\\\n",
       "\t 39745 &  40 & 2 &  38 & 12 &  5 & 12 &  7 &  4 & 1 & MULTIPOLYGON (((3982900 326... & ⋯ & 0 &  0 & 0.000000 &   0 & 0 &  0 & 0.000000 &   0 &  95.00000 & MULTIPOLYGON (((3982900 326...\\\\\n",
       "\t 39935 &  34 & 4 &  30 & 11 &  1 & 13 &  5 &  4 & 1 & MULTIPOLYGON (((3983000 326... & ⋯ & 0 &  0 & 0.000000 &   0 & 0 &  0 & 0.000000 &   0 &  88.23529 & MULTIPOLYGON (((3983000 326...\\\\\n",
       "\t 40125 &  12 & 0 &  12 &  4 &  3 &  2 &  2 &  1 & 0 & MULTIPOLYGON (((3983100 326... & ⋯ & 0 & NA & 0.000000 &  NA & 0 & NA & 0.000000 &  NA & 100.00000 & MULTIPOLYGON (((3983100 326...\\\\\n",
       "\t 40316 &   6 & 0 &   6 &  2 &  1 &  0 &  2 &  1 & 0 & MULTIPOLYGON (((3983200 326... & ⋯ & 0 & NA & 0.000000 &  NA & 0 & NA & 0.000000 &  NA & 100.00000 & MULTIPOLYGON (((3983200 326...\\\\\n",
       "\t 40317 &   5 & 0 &   5 &  3 &  0 &  1 &  1 &  0 & 0 & MULTIPOLYGON (((3983200 326... & ⋯ & 0 & NA & 0.000000 &  NA & 0 & NA & 0.000000 &  NA & 100.00000 & MULTIPOLYGON (((3983200 326...\\\\\n",
       "\t 42595 &   2 & 0 &   2 &  0 &  0 &  1 &  0 &  1 & 0 & MULTIPOLYGON (((3984400 326... & ⋯ & 0 & NA & 0.000000 &  NA & 0 & NA & 0.000000 &  NA & 100.00000 & MULTIPOLYGON (((3984400 326...\\\\\n",
       "\t 42975 &   2 & 0 &   2 &  0 &  0 &  0 &  2 &  0 & 0 & MULTIPOLYGON (((3984600 326... & ⋯ & 0 & NA & 0.000000 &  NA & 0 & NA & 0.000000 &  NA & 100.00000 & MULTIPOLYGON (((3984600 326...\\\\\n",
       "\t 43165 &   6 & 0 &   6 &  4 &  0 &  1 &  1 &  0 & 0 & MULTIPOLYGON (((3984700 326... & ⋯ & 0 & NA & 0.000000 &  NA & 0 & NA & 0.000000 &  NA & 100.00000 & MULTIPOLYGON (((3984700 326...\\\\\n",
       "\\end{tabular}\n"
      ],
      "text/markdown": [
       "\n",
       "A sf: 5804 × 71\n",
       "\n",
       "| grid_id &lt;int&gt; | l1_totalpop &lt;int&gt; | totalMig &lt;dbl&gt; | nld &lt;dbl&gt; | l2_children &lt;int&gt; | l3_students &lt;int&gt; | l4_mobile_adults &lt;int&gt; | l5_not_mobile_adults &lt;int&gt; | l6_elderly &lt;int&gt; | l7_immigrants &lt;int&gt; | geometry ⋯ | ⋯ &lt;dbl&gt; | Z0_Northern_Africa &lt;dbl&gt; | Z1_Northern_Africa &lt;dbl&gt; | Z0_Sub.Saharan_Africa &lt;dbl&gt; | Z1_Sub.Saharan_Africa &lt;dbl&gt; | Z0_Others &lt;dbl&gt; | Z1_Others &lt;dbl&gt; | Z0_Colonies &lt;dbl&gt; | Z1_Colonies &lt;dbl&gt; | Z0_nld &lt;MULTIPOLYGON [m]&gt; | geometry &lt;int&gt; |\n",
       "|---|---|---|---|---|---|---|---|---|---|---|---|---|---|---|---|---|---|---|---|---|\n",
       "| 4617 |  7 |  0 |  7 | 4 | 0 | 1 | 1 | 1 | 0 | MULTIPOLYGON (((3964400 326... | ⋯ | 0 | NA | 0 | NA |  0.0 |  NA | 0 | NA | 100.00000 | MULTIPOLYGON (((3964400 326... |\n",
       "| 4808 |  5 |  0 |  5 | 0 | 0 | 0 | 1 | 4 | 0 | MULTIPOLYGON (((3964500 326... | ⋯ | 0 | NA | 0 | NA |  0.0 |  NA | 0 | NA | 100.00000 | MULTIPOLYGON (((3964500 326... |\n",
       "| 4809 |  7 |  0 |  7 | 5 | 0 | 2 | 0 | 0 | 0 | MULTIPOLYGON (((3964500 326... | ⋯ | 0 | NA | 0 | NA |  0.0 |  NA | 0 | NA | 100.00000 | MULTIPOLYGON (((3964500 326... |\n",
       "| 4810 | 14 |  0 | 14 | 4 | 2 | 6 | 2 | 0 | 0 | MULTIPOLYGON (((3964500 326... | ⋯ | 0 | NA | 0 | NA |  0.0 |  NA | 0 | NA | 100.00000 | MULTIPOLYGON (((3964500 326... |\n",
       "| 4817 | 10 |  0 | 10 | 4 | 0 | 4 | 1 | 1 | 0 | MULTIPOLYGON (((3964500 326... | ⋯ | 0 | NA | 0 | NA |  0.0 |  NA | 0 | NA | 100.00000 | MULTIPOLYGON (((3964500 326... |\n",
       "| 4836 |  2 |  0 |  2 | 0 | 0 | 1 | 1 | 0 | 0 | MULTIPOLYGON (((3964500 326... | ⋯ | 0 | NA | 0 | NA |  0.0 |  NA | 0 | NA | 100.00000 | MULTIPOLYGON (((3964500 326... |\n",
       "| 4982 |  6 | NA | NA | 0 | 4 | 2 | 0 | 0 | 1 | MULTIPOLYGON (((3964600 326... | ⋯ | 0 | NA | 0 | NA |  0.0 |  NA | 0 | NA |        NA | MULTIPOLYGON (((3964600 326... |\n",
       "| 5000 | 17 |  0 | 17 | 7 | 2 | 4 | 2 | 2 | 0 | MULTIPOLYGON (((3964600 326... | ⋯ | 0 | NA | 0 | NA |  0.0 |  NA | 0 | NA | 100.00000 | MULTIPOLYGON (((3964600 326... |\n",
       "| 5005 |  4 |  0 |  4 | 1 | 0 | 2 | 1 | 0 | 0 | MULTIPOLYGON (((3964600 326... | ⋯ | 0 | NA | 0 | NA |  0.0 |  NA | 0 | NA | 100.00000 | MULTIPOLYGON (((3964600 326... |\n",
       "| 5006 | 11 |  0 | 11 | 2 | 3 | 3 | 3 | 0 | 0 | MULTIPOLYGON (((3964600 326... | ⋯ | 0 | NA | 0 | NA |  0.0 |  NA | 0 | NA | 100.00000 | MULTIPOLYGON (((3964600 326... |\n",
       "| 5190 |  8 |  0 |  8 | 3 | 1 | 3 | 0 | 1 | 0 | MULTIPOLYGON (((3964700 326... | ⋯ | 0 | NA | 0 | NA |  0.0 |  NA | 0 | NA | 100.00000 | MULTIPOLYGON (((3964700 326... |\n",
       "| 5191 | 10 |  0 | 10 | 0 | 5 | 0 | 4 | 1 | 0 | MULTIPOLYGON (((3964700 326... | ⋯ | 0 | NA | 0 | NA |  0.0 |  NA | 0 | NA | 100.00000 | MULTIPOLYGON (((3964700 326... |\n",
       "| 5195 |  8 |  3 |  5 | 3 | 2 | 1 | 2 | 0 | 0 | MULTIPOLYGON (((3964700 326... | ⋯ | 0 |  0 | 0 |  0 | 37.5 | 100 | 0 |  0 |  62.50000 | MULTIPOLYGON (((3964700 326... |\n",
       "| 5214 |  9 |  0 |  9 | 3 | 0 | 4 | 2 | 0 | 0 | MULTIPOLYGON (((3964700 326... | ⋯ | 0 | NA | 0 | NA |  0.0 |  NA | 0 | NA | 100.00000 | MULTIPOLYGON (((3964700 326... |\n",
       "| 5382 | 14 |  1 | 13 | 3 | 0 | 2 | 5 | 4 | 0 | MULTIPOLYGON (((3964800 326... | ⋯ | 0 |  0 | 0 |  0 |  0.0 |   0 | 0 |  0 |  92.85714 | MULTIPOLYGON (((3964800 326... |\n",
       "| 5384 | 12 |  0 | 12 | 4 | 0 | 1 | 3 | 4 | 0 | MULTIPOLYGON (((3964800 326... | ⋯ | 0 | NA | 0 | NA |  0.0 |  NA | 0 | NA | 100.00000 | MULTIPOLYGON (((3964800 326... |\n",
       "| 5402 |  1 |  0 |  1 | 0 | 0 | 0 | 0 | 1 | 0 | MULTIPOLYGON (((3964800 326... | ⋯ | 0 | NA | 0 | NA |  0.0 |  NA | 0 | NA | 100.00000 | MULTIPOLYGON (((3964800 326... |\n",
       "| 5403 |  2 |  0 |  2 | 0 | 0 | 0 | 1 | 1 | 0 | MULTIPOLYGON (((3964800 326... | ⋯ | 0 | NA | 0 | NA |  0.0 |  NA | 0 | NA | 100.00000 | MULTIPOLYGON (((3964800 326... |\n",
       "| 5572 | 12 |  0 | 12 | 2 | 1 | 5 | 4 | 0 | 0 | MULTIPOLYGON (((3964900 326... | ⋯ | 0 | NA | 0 | NA |  0.0 |  NA | 0 | NA | 100.00000 | MULTIPOLYGON (((3964900 326... |\n",
       "| 5573 |  6 |  2 |  4 | 0 | 4 | 0 | 2 | 0 | 2 | MULTIPOLYGON (((3964900 326... | ⋯ | 0 |  0 | 0 |  0 |  0.0 |   0 | 0 |  0 |  66.66667 | MULTIPOLYGON (((3964900 326... |\n",
       "| 5591 |  4 |  0 |  4 | 0 | 0 | 3 | 0 | 1 | 0 | MULTIPOLYGON (((3964900 326... | ⋯ | 0 | NA | 0 | NA |  0.0 |  NA | 0 | NA | 100.00000 | MULTIPOLYGON (((3964900 326... |\n",
       "| 5592 |  1 |  0 |  1 | 0 | 0 | 0 | 1 | 0 | 0 | MULTIPOLYGON (((3964900 326... | ⋯ | 0 | NA | 0 | NA |  0.0 |  NA | 0 | NA | 100.00000 | MULTIPOLYGON (((3964900 326... |\n",
       "| 5763 |  3 |  0 |  3 | 0 | 0 | 0 | 2 | 1 | 0 | MULTIPOLYGON (((3965000 326... | ⋯ | 0 | NA | 0 | NA |  0.0 |  NA | 0 | NA | 100.00000 | MULTIPOLYGON (((3965000 326... |\n",
       "| 5764 |  2 |  0 |  2 | 0 | 0 | 1 | 1 | 0 | 0 | MULTIPOLYGON (((3965000 326... | ⋯ | 0 | NA | 0 | NA |  0.0 |  NA | 0 | NA | 100.00000 | MULTIPOLYGON (((3965000 326... |\n",
       "| 5780 |  4 |  0 |  4 | 0 | 0 | 2 | 2 | 0 | 0 | MULTIPOLYGON (((3965000 326... | ⋯ | 0 | NA | 0 | NA |  0.0 |  NA | 0 | NA | 100.00000 | MULTIPOLYGON (((3965000 326... |\n",
       "| 5955 | 19 |  0 | 19 | 4 | 4 | 5 | 6 | 0 | 0 | MULTIPOLYGON (((3965100 326... | ⋯ | 0 | NA | 0 | NA |  0.0 |  NA | 0 | NA | 100.00000 | MULTIPOLYGON (((3965100 326... |\n",
       "| 5956 | 18 |  0 | 18 | 5 | 3 | 6 | 4 | 0 | 0 | MULTIPOLYGON (((3965100 326... | ⋯ | 0 | NA | 0 | NA |  0.0 |  NA | 0 | NA | 100.00000 | MULTIPOLYGON (((3965100 326... |\n",
       "| 5969 |  2 |  0 |  2 | 0 | 2 | 0 | 0 | 0 | 0 | MULTIPOLYGON (((3965100 326... | ⋯ | 0 | NA | 0 | NA |  0.0 |  NA | 0 | NA | 100.00000 | MULTIPOLYGON (((3965100 326... |\n",
       "| 6145 |  5 |  0 |  5 | 1 | 2 | 0 | 2 | 0 | 0 | MULTIPOLYGON (((3965200 326... | ⋯ | 0 | NA | 0 | NA |  0.0 |  NA | 0 | NA | 100.00000 | MULTIPOLYGON (((3965200 326... |\n",
       "| 6146 |  2 |  0 |  2 | 0 | 0 | 1 | 1 | 0 | 0 | MULTIPOLYGON (((3965200 326... | ⋯ | 0 | NA | 0 | NA |  0.0 |  NA | 0 | NA | 100.00000 | MULTIPOLYGON (((3965200 326... |\n",
       "| ⋮ | ⋮ | ⋮ | ⋮ | ⋮ | ⋮ | ⋮ | ⋮ | ⋮ | ⋮ | ⋮ | ⋱ | ⋮ | ⋮ | ⋮ | ⋮ | ⋮ | ⋮ | ⋮ | ⋮ | ⋮ | ⋮ |\n",
       "| 37014 |  82 | 1 |  81 | 13 |  9 | 15 | 30 | 15 | 0 | MULTIPOLYGON (((3981400 325... | ⋯ | 0 |  0 | 0.000000 |   0 | 0 |  0 | 0.000000 |   0 |  98.78049 | MULTIPOLYGON (((3981400 325... |\n",
       "| 37015 |  18 | 0 |  18 |  5 |  4 |  4 |  5 |  0 | 0 | MULTIPOLYGON (((3981400 325... | ⋯ | 0 | NA | 0.000000 |  NA | 0 | NA | 0.000000 |  NA | 100.00000 | MULTIPOLYGON (((3981400 325... |\n",
       "| 37016 | 107 | 3 | 104 | 25 | 15 | 28 | 21 | 18 | 2 | MULTIPOLYGON (((3981400 325... | ⋯ | 0 |  0 | 0.000000 |   0 | 0 |  0 | 0.000000 |   0 |  97.19626 | MULTIPOLYGON (((3981400 325... |\n",
       "| 37017 |  28 | 0 |  28 | 10 |  1 |  9 |  6 |  2 | 0 | MULTIPOLYGON (((3981400 325... | ⋯ | 0 | NA | 0.000000 |  NA | 0 | NA | 0.000000 |  NA | 100.00000 | MULTIPOLYGON (((3981400 325... |\n",
       "| 37202 |  45 | 2 |  43 | 10 | 12 |  8 | 10 |  5 | 0 | MULTIPOLYGON (((3981500 325... | ⋯ | 0 |  0 | 0.000000 |   0 | 0 |  0 | 0.000000 |   0 |  95.55556 | MULTIPOLYGON (((3981500 325... |\n",
       "| 37203 |  70 | 1 |  69 | 10 |  8 | 11 | 24 | 17 | 0 | MULTIPOLYGON (((3981500 325... | ⋯ | 0 |  0 | 0.000000 |   0 | 0 |  0 | 1.428571 | 100 |  98.57143 | MULTIPOLYGON (((3981500 325... |\n",
       "| 37204 |  20 | 0 |  20 |  7 |  0 |  6 |  3 |  4 | 0 | MULTIPOLYGON (((3981500 325... | ⋯ | 0 | NA | 0.000000 |  NA | 0 | NA | 0.000000 |  NA | 100.00000 | MULTIPOLYGON (((3981500 325... |\n",
       "| 37205 |   6 | 0 |   6 |  0 |  2 |  0 |  2 |  2 | 0 | MULTIPOLYGON (((3981500 325... | ⋯ | 0 | NA | 0.000000 |  NA | 0 | NA | 0.000000 |  NA | 100.00000 | MULTIPOLYGON (((3981500 325... |\n",
       "| 37206 |  80 | 0 |  80 | 19 | 18 | 21 | 15 |  7 | 0 | MULTIPOLYGON (((3981500 325... | ⋯ | 0 | NA | 0.000000 |  NA | 0 | NA | 0.000000 |  NA | 100.00000 | MULTIPOLYGON (((3981500 325... |\n",
       "| 37207 |  43 | 2 |  41 |  7 |  4 |  8 | 11 | 13 | 1 | MULTIPOLYGON (((3981500 325... | ⋯ | 0 |  0 | 2.325581 |  50 | 0 |  0 | 0.000000 |   0 |  95.34884 | MULTIPOLYGON (((3981500 325... |\n",
       "| 37396 |  15 | 0 |  15 |  3 |  4 |  3 |  5 |  0 | 0 | MULTIPOLYGON (((3981600 325... | ⋯ | 0 | NA | 0.000000 |  NA | 0 | NA | 0.000000 |  NA | 100.00000 | MULTIPOLYGON (((3981600 325... |\n",
       "| 37495 |  10 | 2 |   8 |  3 |  1 |  3 |  3 |  0 | 1 | MULTIPOLYGON (((3981700 326... | ⋯ | 0 |  0 | 0.000000 |   0 | 0 |  0 | 0.000000 |   0 |  80.00000 | MULTIPOLYGON (((3981700 326... |\n",
       "| 37835 |   4 | 0 |   4 |  0 |  0 |  2 |  2 |  0 | 0 | MULTIPOLYGON (((3981900 326... | ⋯ | 0 | NA | 0.000000 |  NA | 0 | NA | 0.000000 |  NA | 100.00000 | MULTIPOLYGON (((3981900 326... |\n",
       "| 38615 |   5 | 0 |   5 |  3 |  0 |  1 |  1 |  0 | 0 | MULTIPOLYGON (((3982300 326... | ⋯ | 0 | NA | 0.000000 |  NA | 0 | NA | 0.000000 |  NA | 100.00000 | MULTIPOLYGON (((3982300 326... |\n",
       "| 38790 |   4 | 0 |   4 |  2 |  0 |  0 |  2 |  0 | 0 | MULTIPOLYGON (((3982400 326... | ⋯ | 0 | NA | 0.000000 |  NA | 0 | NA | 0.000000 |  NA | 100.00000 | MULTIPOLYGON (((3982400 326... |\n",
       "| 38984 |  11 | 0 |  11 |  0 |  3 |  1 |  6 |  1 | 0 | MULTIPOLYGON (((3982500 326... | ⋯ | 0 | NA | 0.000000 |  NA | 0 | NA | 0.000000 |  NA | 100.00000 | MULTIPOLYGON (((3982500 326... |\n",
       "| 38985 |   4 | 0 |   4 |  2 |  0 |  2 |  0 |  0 | 0 | MULTIPOLYGON (((3982500 326... | ⋯ | 0 | NA | 0.000000 |  NA | 0 | NA | 0.000000 |  NA | 100.00000 | MULTIPOLYGON (((3982500 326... |\n",
       "| 39175 |  10 | 1 |   9 |  0 |  0 |  4 |  3 |  3 | 1 | MULTIPOLYGON (((3982600 326... | ⋯ | 0 |  0 | 0.000000 |   0 | 0 |  0 | 0.000000 |   0 |  90.00000 | MULTIPOLYGON (((3982600 326... |\n",
       "| 39358 |   2 | 0 |   2 |  0 |  0 |  1 |  0 |  1 | 0 | MULTIPOLYGON (((3982700 326... | ⋯ | 0 | NA | 0.000000 |  NA | 0 | NA | 0.000000 |  NA | 100.00000 | MULTIPOLYGON (((3982700 326... |\n",
       "| 39365 |  20 | 1 |  19 |  3 |  0 |  7 |  4 |  6 | 0 | MULTIPOLYGON (((3982700 326... | ⋯ | 0 |  0 | 0.000000 |   0 | 0 |  0 | 0.000000 |   0 |  95.00000 | MULTIPOLYGON (((3982700 326... |\n",
       "| 39555 |  29 | 1 |  28 |  5 |  6 |  7 |  6 |  5 | 0 | MULTIPOLYGON (((3982800 326... | ⋯ | 0 |  0 | 3.448276 | 100 | 0 |  0 | 0.000000 |   0 |  96.55172 | MULTIPOLYGON (((3982800 326... |\n",
       "| 39744 |   3 | 0 |   3 |  0 |  0 |  1 |  0 |  2 | 0 | MULTIPOLYGON (((3982900 326... | ⋯ | 0 | NA | 0.000000 |  NA | 0 | NA | 0.000000 |  NA | 100.00000 | MULTIPOLYGON (((3982900 326... |\n",
       "| 39745 |  40 | 2 |  38 | 12 |  5 | 12 |  7 |  4 | 1 | MULTIPOLYGON (((3982900 326... | ⋯ | 0 |  0 | 0.000000 |   0 | 0 |  0 | 0.000000 |   0 |  95.00000 | MULTIPOLYGON (((3982900 326... |\n",
       "| 39935 |  34 | 4 |  30 | 11 |  1 | 13 |  5 |  4 | 1 | MULTIPOLYGON (((3983000 326... | ⋯ | 0 |  0 | 0.000000 |   0 | 0 |  0 | 0.000000 |   0 |  88.23529 | MULTIPOLYGON (((3983000 326... |\n",
       "| 40125 |  12 | 0 |  12 |  4 |  3 |  2 |  2 |  1 | 0 | MULTIPOLYGON (((3983100 326... | ⋯ | 0 | NA | 0.000000 |  NA | 0 | NA | 0.000000 |  NA | 100.00000 | MULTIPOLYGON (((3983100 326... |\n",
       "| 40316 |   6 | 0 |   6 |  2 |  1 |  0 |  2 |  1 | 0 | MULTIPOLYGON (((3983200 326... | ⋯ | 0 | NA | 0.000000 |  NA | 0 | NA | 0.000000 |  NA | 100.00000 | MULTIPOLYGON (((3983200 326... |\n",
       "| 40317 |   5 | 0 |   5 |  3 |  0 |  1 |  1 |  0 | 0 | MULTIPOLYGON (((3983200 326... | ⋯ | 0 | NA | 0.000000 |  NA | 0 | NA | 0.000000 |  NA | 100.00000 | MULTIPOLYGON (((3983200 326... |\n",
       "| 42595 |   2 | 0 |   2 |  0 |  0 |  1 |  0 |  1 | 0 | MULTIPOLYGON (((3984400 326... | ⋯ | 0 | NA | 0.000000 |  NA | 0 | NA | 0.000000 |  NA | 100.00000 | MULTIPOLYGON (((3984400 326... |\n",
       "| 42975 |   2 | 0 |   2 |  0 |  0 |  0 |  2 |  0 | 0 | MULTIPOLYGON (((3984600 326... | ⋯ | 0 | NA | 0.000000 |  NA | 0 | NA | 0.000000 |  NA | 100.00000 | MULTIPOLYGON (((3984600 326... |\n",
       "| 43165 |   6 | 0 |   6 |  4 |  0 |  1 |  1 |  0 | 0 | MULTIPOLYGON (((3984700 326... | ⋯ | 0 | NA | 0.000000 |  NA | 0 | NA | 0.000000 |  NA | 100.00000 | MULTIPOLYGON (((3984700 326... |\n",
       "\n"
      ],
      "text/plain": [
       "     grid_id l1_totalpop totalMig nld l2_children l3_students l4_mobile_adults\n",
       "1    4617     7           0        7  4           0           1               \n",
       "2    4808     5           0        5  0           0           0               \n",
       "3    4809     7           0        7  5           0           2               \n",
       "4    4810    14           0       14  4           2           6               \n",
       "5    4817    10           0       10  4           0           4               \n",
       "6    4836     2           0        2  0           0           1               \n",
       "7    4982     6          NA       NA  0           4           2               \n",
       "8    5000    17           0       17  7           2           4               \n",
       "9    5005     4           0        4  1           0           2               \n",
       "10   5006    11           0       11  2           3           3               \n",
       "11   5190     8           0        8  3           1           3               \n",
       "12   5191    10           0       10  0           5           0               \n",
       "13   5195     8           3        5  3           2           1               \n",
       "14   5214     9           0        9  3           0           4               \n",
       "15   5382    14           1       13  3           0           2               \n",
       "16   5384    12           0       12  4           0           1               \n",
       "17   5402     1           0        1  0           0           0               \n",
       "18   5403     2           0        2  0           0           0               \n",
       "19   5572    12           0       12  2           1           5               \n",
       "20   5573     6           2        4  0           4           0               \n",
       "21   5591     4           0        4  0           0           3               \n",
       "22   5592     1           0        1  0           0           0               \n",
       "23   5763     3           0        3  0           0           0               \n",
       "24   5764     2           0        2  0           0           1               \n",
       "25   5780     4           0        4  0           0           2               \n",
       "26   5955    19           0       19  4           4           5               \n",
       "27   5956    18           0       18  5           3           6               \n",
       "28   5969     2           0        2  0           2           0               \n",
       "29   6145     5           0        5  1           2           0               \n",
       "30   6146     2           0        2  0           0           1               \n",
       "<U+22EE>    <U+22EE> <U+22EE>    <U+22EE> <U+22EE> <U+22EE>    <U+22EE>    <U+22EE>        \n",
       "5775 37014    82         1         81 13           9          15              \n",
       "5776 37015    18         0         18  5           4           4              \n",
       "5777 37016   107         3        104 25          15          28              \n",
       "5778 37017    28         0         28 10           1           9              \n",
       "5779 37202    45         2         43 10          12           8              \n",
       "5780 37203    70         1         69 10           8          11              \n",
       "5781 37204    20         0         20  7           0           6              \n",
       "5782 37205     6         0          6  0           2           0              \n",
       "5783 37206    80         0         80 19          18          21              \n",
       "5784 37207    43         2         41  7           4           8              \n",
       "5785 37396    15         0         15  3           4           3              \n",
       "5786 37495    10         2          8  3           1           3              \n",
       "5787 37835     4         0          4  0           0           2              \n",
       "5788 38615     5         0          5  3           0           1              \n",
       "5789 38790     4         0          4  2           0           0              \n",
       "5790 38984    11         0         11  0           3           1              \n",
       "5791 38985     4         0          4  2           0           2              \n",
       "5792 39175    10         1          9  0           0           4              \n",
       "5793 39358     2         0          2  0           0           1              \n",
       "5794 39365    20         1         19  3           0           7              \n",
       "5795 39555    29         1         28  5           6           7              \n",
       "5796 39744     3         0          3  0           0           1              \n",
       "5797 39745    40         2         38 12           5          12              \n",
       "5798 39935    34         4         30 11           1          13              \n",
       "5799 40125    12         0         12  4           3           2              \n",
       "5800 40316     6         0          6  2           1           0              \n",
       "5801 40317     5         0          5  3           0           1              \n",
       "5802 42595     2         0          2  0           0           1              \n",
       "5803 42975     2         0          2  0           0           0              \n",
       "5804 43165     6         0          6  4           0           1              \n",
       "     l5_not_mobile_adults l6_elderly l7_immigrants <U+22EF>        Z0_Northern_Africa\n",
       "1    1                    1          0             <U+22EF> 0                 \n",
       "2    1                    4          0             <U+22EF> 0                 \n",
       "3    0                    0          0             <U+22EF> 0                 \n",
       "4    2                    0          0             <U+22EF> 0                 \n",
       "5    1                    1          0             <U+22EF> 0                 \n",
       "6    1                    0          0             <U+22EF> 0                 \n",
       "7    0                    0          1             <U+22EF> 0                 \n",
       "8    2                    2          0             <U+22EF> 0                 \n",
       "9    1                    0          0             <U+22EF> 0                 \n",
       "10   3                    0          0             <U+22EF> 0                 \n",
       "11   0                    1          0             <U+22EF> 0                 \n",
       "12   4                    1          0             <U+22EF> 0                 \n",
       "13   2                    0          0             <U+22EF> 0                 \n",
       "14   2                    0          0             <U+22EF> 0                 \n",
       "15   5                    4          0             <U+22EF> 0                 \n",
       "16   3                    4          0             <U+22EF> 0                 \n",
       "17   0                    1          0             <U+22EF> 0                 \n",
       "18   1                    1          0             <U+22EF> 0                 \n",
       "19   4                    0          0             <U+22EF> 0                 \n",
       "20   2                    0          2             <U+22EF> 0                 \n",
       "21   0                    1          0             <U+22EF> 0                 \n",
       "22   1                    0          0             <U+22EF> 0                 \n",
       "23   2                    1          0             <U+22EF> 0                 \n",
       "24   1                    0          0             <U+22EF> 0                 \n",
       "25   2                    0          0             <U+22EF> 0                 \n",
       "26   6                    0          0             <U+22EF> 0                 \n",
       "27   4                    0          0             <U+22EF> 0                 \n",
       "28   0                    0          0             <U+22EF> 0                 \n",
       "29   2                    0          0             <U+22EF> 0                 \n",
       "30   1                    0          0             <U+22EF> 0                 \n",
       "<U+22EE>    <U+22EE>             <U+22EE>   <U+22EE>      <U+22F1> <U+22EE>          \n",
       "5775 30                   15         0             <U+22EF> 0                 \n",
       "5776  5                    0         0             <U+22EF> 0                 \n",
       "5777 21                   18         2             <U+22EF> 0                 \n",
       "5778  6                    2         0             <U+22EF> 0                 \n",
       "5779 10                    5         0             <U+22EF> 0                 \n",
       "5780 24                   17         0             <U+22EF> 0                 \n",
       "5781  3                    4         0             <U+22EF> 0                 \n",
       "5782  2                    2         0             <U+22EF> 0                 \n",
       "5783 15                    7         0             <U+22EF> 0                 \n",
       "5784 11                   13         1             <U+22EF> 0                 \n",
       "5785  5                    0         0             <U+22EF> 0                 \n",
       "5786  3                    0         1             <U+22EF> 0                 \n",
       "5787  2                    0         0             <U+22EF> 0                 \n",
       "5788  1                    0         0             <U+22EF> 0                 \n",
       "5789  2                    0         0             <U+22EF> 0                 \n",
       "5790  6                    1         0             <U+22EF> 0                 \n",
       "5791  0                    0         0             <U+22EF> 0                 \n",
       "5792  3                    3         1             <U+22EF> 0                 \n",
       "5793  0                    1         0             <U+22EF> 0                 \n",
       "5794  4                    6         0             <U+22EF> 0                 \n",
       "5795  6                    5         0             <U+22EF> 0                 \n",
       "5796  0                    2         0             <U+22EF> 0                 \n",
       "5797  7                    4         1             <U+22EF> 0                 \n",
       "5798  5                    4         1             <U+22EF> 0                 \n",
       "5799  2                    1         0             <U+22EF> 0                 \n",
       "5800  2                    1         0             <U+22EF> 0                 \n",
       "5801  1                    0         0             <U+22EF> 0                 \n",
       "5802  0                    1         0             <U+22EF> 0                 \n",
       "5803  2                    0         0             <U+22EF> 0                 \n",
       "5804  1                    0         0             <U+22EF> 0                 \n",
       "     Z1_Northern_Africa Z0_Sub.Saharan_Africa Z1_Sub.Saharan_Africa Z0_Others\n",
       "1    NA                 0                     NA                     0.0     \n",
       "2    NA                 0                     NA                     0.0     \n",
       "3    NA                 0                     NA                     0.0     \n",
       "4    NA                 0                     NA                     0.0     \n",
       "5    NA                 0                     NA                     0.0     \n",
       "6    NA                 0                     NA                     0.0     \n",
       "7    NA                 0                     NA                     0.0     \n",
       "8    NA                 0                     NA                     0.0     \n",
       "9    NA                 0                     NA                     0.0     \n",
       "10   NA                 0                     NA                     0.0     \n",
       "11   NA                 0                     NA                     0.0     \n",
       "12   NA                 0                     NA                     0.0     \n",
       "13    0                 0                      0                    37.5     \n",
       "14   NA                 0                     NA                     0.0     \n",
       "15    0                 0                      0                     0.0     \n",
       "16   NA                 0                     NA                     0.0     \n",
       "17   NA                 0                     NA                     0.0     \n",
       "18   NA                 0                     NA                     0.0     \n",
       "19   NA                 0                     NA                     0.0     \n",
       "20    0                 0                      0                     0.0     \n",
       "21   NA                 0                     NA                     0.0     \n",
       "22   NA                 0                     NA                     0.0     \n",
       "23   NA                 0                     NA                     0.0     \n",
       "24   NA                 0                     NA                     0.0     \n",
       "25   NA                 0                     NA                     0.0     \n",
       "26   NA                 0                     NA                     0.0     \n",
       "27   NA                 0                     NA                     0.0     \n",
       "28   NA                 0                     NA                     0.0     \n",
       "29   NA                 0                     NA                     0.0     \n",
       "30   NA                 0                     NA                     0.0     \n",
       "<U+22EE>    <U+22EE>           <U+22EE>              <U+22EE>              <U+22EE> \n",
       "5775  0                 0.000000                0                   0        \n",
       "5776 NA                 0.000000               NA                   0        \n",
       "5777  0                 0.000000                0                   0        \n",
       "5778 NA                 0.000000               NA                   0        \n",
       "5779  0                 0.000000                0                   0        \n",
       "5780  0                 0.000000                0                   0        \n",
       "5781 NA                 0.000000               NA                   0        \n",
       "5782 NA                 0.000000               NA                   0        \n",
       "5783 NA                 0.000000               NA                   0        \n",
       "5784  0                 2.325581               50                   0        \n",
       "5785 NA                 0.000000               NA                   0        \n",
       "5786  0                 0.000000                0                   0        \n",
       "5787 NA                 0.000000               NA                   0        \n",
       "5788 NA                 0.000000               NA                   0        \n",
       "5789 NA                 0.000000               NA                   0        \n",
       "5790 NA                 0.000000               NA                   0        \n",
       "5791 NA                 0.000000               NA                   0        \n",
       "5792  0                 0.000000                0                   0        \n",
       "5793 NA                 0.000000               NA                   0        \n",
       "5794  0                 0.000000                0                   0        \n",
       "5795  0                 3.448276              100                   0        \n",
       "5796 NA                 0.000000               NA                   0        \n",
       "5797  0                 0.000000                0                   0        \n",
       "5798  0                 0.000000                0                   0        \n",
       "5799 NA                 0.000000               NA                   0        \n",
       "5800 NA                 0.000000               NA                   0        \n",
       "5801 NA                 0.000000               NA                   0        \n",
       "5802 NA                 0.000000               NA                   0        \n",
       "5803 NA                 0.000000               NA                   0        \n",
       "5804 NA                 0.000000               NA                   0        \n",
       "     Z1_Others Z0_Colonies Z1_Colonies Z0_nld    geometry                      \n",
       "1     NA       0           NA          100.00000 MULTIPOLYGON (((3964400 326...\n",
       "2     NA       0           NA          100.00000 MULTIPOLYGON (((3964500 326...\n",
       "3     NA       0           NA          100.00000 MULTIPOLYGON (((3964500 326...\n",
       "4     NA       0           NA          100.00000 MULTIPOLYGON (((3964500 326...\n",
       "5     NA       0           NA          100.00000 MULTIPOLYGON (((3964500 326...\n",
       "6     NA       0           NA          100.00000 MULTIPOLYGON (((3964500 326...\n",
       "7     NA       0           NA                 NA MULTIPOLYGON (((3964600 326...\n",
       "8     NA       0           NA          100.00000 MULTIPOLYGON (((3964600 326...\n",
       "9     NA       0           NA          100.00000 MULTIPOLYGON (((3964600 326...\n",
       "10    NA       0           NA          100.00000 MULTIPOLYGON (((3964600 326...\n",
       "11    NA       0           NA          100.00000 MULTIPOLYGON (((3964700 326...\n",
       "12    NA       0           NA          100.00000 MULTIPOLYGON (((3964700 326...\n",
       "13   100       0            0           62.50000 MULTIPOLYGON (((3964700 326...\n",
       "14    NA       0           NA          100.00000 MULTIPOLYGON (((3964700 326...\n",
       "15     0       0            0           92.85714 MULTIPOLYGON (((3964800 326...\n",
       "16    NA       0           NA          100.00000 MULTIPOLYGON (((3964800 326...\n",
       "17    NA       0           NA          100.00000 MULTIPOLYGON (((3964800 326...\n",
       "18    NA       0           NA          100.00000 MULTIPOLYGON (((3964800 326...\n",
       "19    NA       0           NA          100.00000 MULTIPOLYGON (((3964900 326...\n",
       "20     0       0            0           66.66667 MULTIPOLYGON (((3964900 326...\n",
       "21    NA       0           NA          100.00000 MULTIPOLYGON (((3964900 326...\n",
       "22    NA       0           NA          100.00000 MULTIPOLYGON (((3964900 326...\n",
       "23    NA       0           NA          100.00000 MULTIPOLYGON (((3965000 326...\n",
       "24    NA       0           NA          100.00000 MULTIPOLYGON (((3965000 326...\n",
       "25    NA       0           NA          100.00000 MULTIPOLYGON (((3965000 326...\n",
       "26    NA       0           NA          100.00000 MULTIPOLYGON (((3965100 326...\n",
       "27    NA       0           NA          100.00000 MULTIPOLYGON (((3965100 326...\n",
       "28    NA       0           NA          100.00000 MULTIPOLYGON (((3965100 326...\n",
       "29    NA       0           NA          100.00000 MULTIPOLYGON (((3965200 326...\n",
       "30    NA       0           NA          100.00000 MULTIPOLYGON (((3965200 326...\n",
       "<U+22EE>    <U+22EE>  <U+22EE>    <U+22EE>    <U+22EE>  <U+22EE>                      \n",
       "5775  0        0.000000      0          98.78049 MULTIPOLYGON (((3981400 325...\n",
       "5776 NA        0.000000     NA         100.00000 MULTIPOLYGON (((3981400 325...\n",
       "5777  0        0.000000      0          97.19626 MULTIPOLYGON (((3981400 325...\n",
       "5778 NA        0.000000     NA         100.00000 MULTIPOLYGON (((3981400 325...\n",
       "5779  0        0.000000      0          95.55556 MULTIPOLYGON (((3981500 325...\n",
       "5780  0        1.428571    100          98.57143 MULTIPOLYGON (((3981500 325...\n",
       "5781 NA        0.000000     NA         100.00000 MULTIPOLYGON (((3981500 325...\n",
       "5782 NA        0.000000     NA         100.00000 MULTIPOLYGON (((3981500 325...\n",
       "5783 NA        0.000000     NA         100.00000 MULTIPOLYGON (((3981500 325...\n",
       "5784  0        0.000000      0          95.34884 MULTIPOLYGON (((3981500 325...\n",
       "5785 NA        0.000000     NA         100.00000 MULTIPOLYGON (((3981600 325...\n",
       "5786  0        0.000000      0          80.00000 MULTIPOLYGON (((3981700 326...\n",
       "5787 NA        0.000000     NA         100.00000 MULTIPOLYGON (((3981900 326...\n",
       "5788 NA        0.000000     NA         100.00000 MULTIPOLYGON (((3982300 326...\n",
       "5789 NA        0.000000     NA         100.00000 MULTIPOLYGON (((3982400 326...\n",
       "5790 NA        0.000000     NA         100.00000 MULTIPOLYGON (((3982500 326...\n",
       "5791 NA        0.000000     NA         100.00000 MULTIPOLYGON (((3982500 326...\n",
       "5792  0        0.000000      0          90.00000 MULTIPOLYGON (((3982600 326...\n",
       "5793 NA        0.000000     NA         100.00000 MULTIPOLYGON (((3982700 326...\n",
       "5794  0        0.000000      0          95.00000 MULTIPOLYGON (((3982700 326...\n",
       "5795  0        0.000000      0          96.55172 MULTIPOLYGON (((3982800 326...\n",
       "5796 NA        0.000000     NA         100.00000 MULTIPOLYGON (((3982900 326...\n",
       "5797  0        0.000000      0          95.00000 MULTIPOLYGON (((3982900 326...\n",
       "5798  0        0.000000      0          88.23529 MULTIPOLYGON (((3983000 326...\n",
       "5799 NA        0.000000     NA         100.00000 MULTIPOLYGON (((3983100 326...\n",
       "5800 NA        0.000000     NA         100.00000 MULTIPOLYGON (((3983200 326...\n",
       "5801 NA        0.000000     NA         100.00000 MULTIPOLYGON (((3983200 326...\n",
       "5802 NA        0.000000     NA         100.00000 MULTIPOLYGON (((3984400 326...\n",
       "5803 NA        0.000000     NA         100.00000 MULTIPOLYGON (((3984600 326...\n",
       "5804 NA        0.000000     NA         100.00000 MULTIPOLYGON (((3984700 326..."
      ]
     },
     "metadata": {},
     "output_type": "display_data"
    }
   ],
   "source": [
    "gdf"
   ]
  },
  {
   "cell_type": "code",
   "execution_count": 9,
   "metadata": {
    "scrolled": true
   },
   "outputs": [
    {
     "data": {
      "text/html": [
       "<style>\n",
       ".list-inline {list-style: none; margin:0; padding: 0}\n",
       ".list-inline>li {display: inline-block}\n",
       ".list-inline>li:not(:last-child)::after {content: \"\\00b7\"; padding: 0 .5ex}\n",
       "</style>\n",
       "<ol class=list-inline><li>'sf'</li><li>'tbl_df'</li><li>'tbl'</li><li>'data.frame'</li></ol>\n"
      ],
      "text/latex": [
       "\\begin{enumerate*}\n",
       "\\item 'sf'\n",
       "\\item 'tbl\\_df'\n",
       "\\item 'tbl'\n",
       "\\item 'data.frame'\n",
       "\\end{enumerate*}\n"
      ],
      "text/markdown": [
       "1. 'sf'\n",
       "2. 'tbl_df'\n",
       "3. 'tbl'\n",
       "4. 'data.frame'\n",
       "\n",
       "\n"
      ],
      "text/plain": [
       "[1] \"sf\"         \"tbl_df\"     \"tbl\"        \"data.frame\""
      ]
     },
     "metadata": {},
     "output_type": "display_data"
    }
   ],
   "source": [
    "neigh <- read_sf(\"C:/FUME/PopNetV2/data_prep/ams_ProjectData/AncillaryData/adm/neighborhood_orig.geojson\")\n",
    "class(neigh)\n"
   ]
  },
  {
   "cell_type": "code",
   "execution_count": 12,
   "metadata": {},
   "outputs": [
    {
     "name": "stderr",
     "output_type": "stream",
     "text": [
      "Coordinate system already present. Adding new coordinate system, which will replace the existing one.\n",
      "\n"
     ]
    },
    {
     "data": {
      "image/png": "[encoded data removed]",
      "text/plain": [
       "plot without title"
      ]
     },
     "metadata": {
      "image/png": {
       "height": 420,
       "width": 420
      }
     },
     "output_type": "display_data"
    }
   ],
   "source": [
    "n <- ggplot() +\n",
    "      geom_sf(data = neigh, fill = \"transparent\", color = \"black\", size = 0.1)\n",
    "n"
   ]
  },
  {
   "cell_type": "code",
   "execution_count": 3,
   "metadata": {},
   "outputs": [
    {
     "name": "stderr",
     "output_type": "stream",
     "text": [
      "Warning message:\n",
      "\"Ignoring unknown aesthetics: z\"\n"
     ]
    },
    {
     "data": {
      "text/html": [
       "<style>\n",
       ".list-inline {list-style: none; margin:0; padding: 0}\n",
       ".list-inline>li {display: inline-block}\n",
       ".list-inline>li:not(:last-child)::after {content: \"\\00b7\"; padding: 0 .5ex}\n",
       "</style>\n",
       "<ol class=list-inline><li>'#CFB000'</li><li>'#CFB000'</li><li>'#CFB000'</li><li>'#CFB000'</li><li>'#CFB000'</li><li>'#CFB000'</li></ol>\n"
      ],
      "text/latex": [
       "\\begin{enumerate*}\n",
       "\\item '\\#CFB000'\n",
       "\\item '\\#CFB000'\n",
       "\\item '\\#CFB000'\n",
       "\\item '\\#CFB000'\n",
       "\\item '\\#CFB000'\n",
       "\\item '\\#CFB000'\n",
       "\\end{enumerate*}\n"
      ],
      "text/markdown": [
       "1. '#CFB000'\n",
       "2. '#CFB000'\n",
       "3. '#CFB000'\n",
       "4. '#CFB000'\n",
       "5. '#CFB000'\n",
       "6. '#CFB000'\n",
       "\n",
       "\n"
      ],
      "text/plain": [
       "[1] \"#CFB000\" \"#CFB000\" \"#CFB000\" \"#CFB000\" \"#CFB000\" \"#CFB000\""
      ]
     },
     "metadata": {},
     "output_type": "display_data"
    }
   ],
   "source": [
    "P <- as.data.frame(gdf) \n",
    "# color-code each composition and return a corresponding color key\n",
    "colors_and_legend <- Tricolore(gdf,'Z0_nld','Z0_EuropeEUnoLocal','Z0_Latin_America_and_the_Caribbean' )\n",
    "# the color-coded compositions\n",
    "head(colors_and_legend$rgb)"
   ]
  },
  {
   "cell_type": "code",
   "execution_count": 5,
   "metadata": {},
   "outputs": [],
   "source": [
    "# reproject data\n",
    "neighRe <- st_transform(neigh,st_crs(gdf))\n",
    "#st_crs(neighRe)"
   ]
  },
  {
   "cell_type": "code",
   "execution_count": 11,
   "metadata": {
    "scrolled": true
   },
   "outputs": [
    {
     "name": "stderr",
     "output_type": "stream",
     "text": [
      "Warning message:\n",
      "\"Ignoring unknown aesthetics: z\"\n"
     ]
    },
    {
     "data": {
      "text/html": [
       "<style>\n",
       ".list-inline {list-style: none; margin:0; padding: 0}\n",
       ".list-inline>li {display: inline-block}\n",
       ".list-inline>li:not(:last-child)::after {content: \"\\00b7\"; padding: 0 .5ex}\n",
       "</style>\n",
       "<ol class=list-inline><li>'#CFB000'</li><li>'#CFB000'</li><li>'#CFB000'</li><li>'#CFB000'</li><li>'#CFB000'</li><li>'#CFB000'</li></ol>\n"
      ],
      "text/latex": [
       "\\begin{enumerate*}\n",
       "\\item '\\#CFB000'\n",
       "\\item '\\#CFB000'\n",
       "\\item '\\#CFB000'\n",
       "\\item '\\#CFB000'\n",
       "\\item '\\#CFB000'\n",
       "\\item '\\#CFB000'\n",
       "\\end{enumerate*}\n"
      ],
      "text/markdown": [
       "1. '#CFB000'\n",
       "2. '#CFB000'\n",
       "3. '#CFB000'\n",
       "4. '#CFB000'\n",
       "5. '#CFB000'\n",
       "6. '#CFB000'\n",
       "\n",
       "\n"
      ],
      "text/plain": [
       "[1] \"#CFB000\" \"#CFB000\" \"#CFB000\" \"#CFB000\" \"#CFB000\" \"#CFB000\""
      ]
     },
     "metadata": {},
     "output_type": "display_data"
    },
    {
     "name": "stderr",
     "output_type": "stream",
     "text": [
      "Warning message:\n",
      "\"Removed 52 rows containing missing values (geom_point).\"\n",
      "Warning message:\n",
      "\"It is deprecated to specify `guide = FALSE` to remove a guide. Please use `guide = \"none\"` instead.\"\n",
      "Warning message:\n",
      "\"It is deprecated to specify `guide = FALSE` to remove a guide. Please use `guide = \"none\"` instead.\"\n",
      "Warning message:\n",
      "\"Ignoring unknown aesthetics: z\"\n"
     ]
    },
    {
     "data": {
      "image/png": "[encoded data removed]",
      "text/plain": [
       "plot without title"
      ]
     },
     "metadata": {
      "image/png": {
       "height": 420,
       "width": 420
      }
     },
     "output_type": "display_data"
    }
   ],
   "source": [
    "P <- as.data.frame(gdf) \n",
    "# color-code each composition and return a corresponding color key\n",
    "colors_and_legend <- Tricolore(P,'Z0_nld','Z0_EuropeEUnoLocal','Z0_Latin_America_and_the_Caribbean' )\n",
    "# the color-coded compositions\n",
    "head(colors_and_legend$rgb)\n",
    "colors_and_legend$key\n",
    "\n",
    "# color-code the data set and generate a color-key\n",
    "tric <- Tricolore(P,\n",
    "    p1 = 'Z0_nld', p2 = 'Z0_EuropeEUnoLocal', p3 = 'Z0_Latin_America_and_the_Caribbean')\n",
    "\n",
    "# add the vector of colors to the `example` data\n",
    "P$educ_rgb <- tric$rgb"
   ]
  },
  {
   "cell_type": "markdown",
   "metadata": {},
   "source": [
    "### Migrant and local Population in Amsterdam per District (not centered)"
   ]
  },
  {
   "cell_type": "code",
   "execution_count": 23,
   "metadata": {},
   "outputs": [
    {
     "name": "stderr",
     "output_type": "stream",
     "text": [
      "Warning message:\n",
      "\"Ignoring unknown aesthetics: z\"\n",
      "Coordinate system already present. Adding new coordinate system, which will replace the existing one.\n",
      "\n",
      "Warning message:\n",
      "\"Removed 181 rows containing missing values (geom_point).\"\n",
      "Warning message:\n",
      "\"It is deprecated to specify `guide = FALSE` to remove a guide. Please use `guide = \"none\"` instead.\"\n",
      "Warning message:\n",
      "\"It is deprecated to specify `guide = FALSE` to remove a guide. Please use `guide = \"none\"` instead.\"\n",
      "Saving 6.67 x 6.67 in image\n",
      "\n"
     ]
    }
   ],
   "source": [
    "tric_lf_non_centered <- Tricolore(P, breaks = Inf,\n",
    "                                  'Z0_nld', 'Z0_EuropeEUnoLocal', 'Z0_Latin_America_and_the_Caribbean')\n",
    "\n",
    "P$rgb_lf_non_centered <- tric_lf_non_centered$rgb\n",
    "\n",
    "o <- ggplot(P) +\n",
    "      geom_sf(data = neighRe, fill = \"transparent\", color = \"black\", size = 0.1) +\n",
    "      geom_sf(data=P, aes(fill = rgb_lf_non_centered, geometry = geometry),colour = NA) +\n",
    "      scale_fill_identity() +\n",
    "      annotation_custom(\n",
    "        ggplotGrob(tric_lf_non_centered$key +\n",
    "                   theme(plot.background = element_rect(colour = \"transparent\", fill=\"transparent\"),\n",
    "                        text=element_text(size=4))+\n",
    "                     labs(L = 'NLD', T = 'Europe EU', R = 'Latin America')),\n",
    "        xmin = 3957000, xmax = 3973000, ymin = 3252800, ymax = 3258800\n",
    "      ) +\n",
    "      theme_void() +\n",
    "      coord_sf(datum = NA) +\n",
    "      labs(title = 'Population Distribution in Amsterdam (%), 1992',\n",
    "           subtitle = 'Local Population, European EU & Latin American migrants') \n",
    "ggsave(o, filename = \"C:/FUME/PopNetV2/data_prep/ams_ProjectData/Visualizations/images/tricolore/gridcells/tricolore_PopDistrib_GCncen_1992.png\",  bg = \"transparent\")"
   ]
  },
  {
   "cell_type": "markdown",
   "metadata": {},
   "source": [
    "### Migrant and local Population in Amsterdam per District (centered)"
   ]
  },
  {
   "cell_type": "code",
   "execution_count": 24,
   "metadata": {},
   "outputs": [
    {
     "name": "stderr",
     "output_type": "stream",
     "text": [
      "Warning message:\n",
      "\"Ignoring unknown aesthetics: z\"\n",
      "Coordinate system already present. Adding new coordinate system, which will replace the existing one.\n",
      "\n",
      "Warning message:\n",
      "\"Removed 181 rows containing missing values (geom_point).\"\n",
      "Warning message:\n",
      "\"It is deprecated to specify `guide = FALSE` to remove a guide. Please use `guide = \"none\"` instead.\"\n",
      "Warning message:\n",
      "\"It is deprecated to specify `guide = FALSE` to remove a guide. Please use `guide = \"none\"` instead.\"\n",
      "Saving 6.67 x 6.67 in image\n",
      "\n"
     ]
    }
   ],
   "source": [
    "tric_lf_centered <-\n",
    "  Tricolore(P,\n",
    "         'Z0_nld', 'Z0_EuropeEUnoLocal', 'Z0_Latin_America_and_the_Caribbean',\n",
    "        center = NA, crop = TRUE)\n",
    "\n",
    "P$rgb_lf_centered <- tric_lf_centered$rgb\n",
    "\n",
    "o <- ggplot(P) +\n",
    "      geom_sf(data = neighRe, fill = \"transparent\", color = \"black\", size = 0.1) +\n",
    "      geom_sf(data=P, aes(fill = rgb_lf_centered, geometry = geometry),colour = NA) +\n",
    "      scale_fill_identity() +\n",
    "      annotation_custom(\n",
    "        ggplotGrob(\n",
    "          tric_lf_centered$key +\n",
    "            theme(plot.background = element_rect(colour = \"transparent\", fill=\"transparent\"),\n",
    "                            text=element_text(size=4))+\n",
    "            labs(L = 'NLD', T = 'Europe EU', R = 'Latin America')),\n",
    "        xmin = 3957000, xmax = 3973000, ymin = 3252800, ymax = 3258800\n",
    "      ) +\n",
    "      theme_void() +\n",
    "      coord_sf(datum = NA) +\n",
    "      labs(title = 'Population Distribution in Amsterdam (%), 1992',\n",
    "           subtitle = 'Local Population, European EU & Latin American migrants')\n",
    "ggsave(o, filename = \"C:/FUME/PopNetV2/data_prep/ams_ProjectData/Visualizations/images/tricolore/gridcells/tricolore_PopDistrib_GCcen_1992.png\",  bg = \"transparent\")"
   ]
  },
  {
   "cell_type": "markdown",
   "metadata": {},
   "source": [
    "# Migrant Population in Amsterdam per District_ group0 (not centered)\n",
    "####  EU,LAC,NAf"
   ]
  },
  {
   "cell_type": "code",
   "execution_count": 25,
   "metadata": {},
   "outputs": [
    {
     "name": "stderr",
     "output_type": "stream",
     "text": [
      "Warning message:\n",
      "\"Ignoring unknown aesthetics: z\"\n",
      "Coordinate system already present. Adding new coordinate system, which will replace the existing one.\n",
      "\n",
      "Warning message:\n",
      "\"Removed 935 rows containing missing values (geom_point).\"\n",
      "Warning message:\n",
      "\"It is deprecated to specify `guide = FALSE` to remove a guide. Please use `guide = \"none\"` instead.\"\n",
      "Warning message:\n",
      "\"It is deprecated to specify `guide = FALSE` to remove a guide. Please use `guide = \"none\"` instead.\"\n",
      "Saving 6.67 x 6.67 in image\n",
      "\n"
     ]
    }
   ],
   "source": [
    "tric_lf_non_centered <- Tricolore(P, breaks = Inf,\n",
    "                                  'Z0_Northern_Africa', 'Z0_EuropeEUnoLocal', 'Z0_Latin_America_and_the_Caribbean',)\n",
    "\n",
    "P$rgb_lf_non_centered <- tric_lf_non_centered$rgb\n",
    "\n",
    "o <- ggplot(P) +\n",
    "      geom_sf(data = neighRe, fill = \"transparent\", color = \"black\", size = 0.1) +\n",
    "      geom_sf(data=P, aes(fill = rgb_lf_non_centered, geometry = geometry), colour = NA) +\n",
    "      scale_fill_identity() +\n",
    "      annotation_custom(\n",
    "        ggplotGrob(tric_lf_non_centered$key +\n",
    "                   theme(plot.background = element_rect(colour = \"transparent\", fill=\"transparent\"),\n",
    "                        text=element_text(size=4))+\n",
    "                     labs(L = 'Northern Africa', T = 'Europe EU', R = 'Latin America')),\n",
    "        xmin = 3957000, xmax = 3973000, ymin = 3252800, ymax = 3258800\n",
    "      ) +\n",
    "      theme_void() +\n",
    "      coord_sf(datum = NA) +\n",
    "      labs(title = 'Distribution of Migrants in Amsterdam (%), 1992',\n",
    "           subtitle = 'Migration from Europe EU, Latin America & Northern Africa') \n",
    "ggsave(o, filename = \"C:/FUME/PopNetV2/data_prep/ams_ProjectData/Visualizations/images/tricolore/gridcells/tricolore_PopDistribMig_GC0ncen_1992.png\",  bg = \"transparent\")"
   ]
  },
  {
   "cell_type": "markdown",
   "metadata": {},
   "source": [
    "#### Migrant Population in Amsterdam per District_group0 (centered)"
   ]
  },
  {
   "cell_type": "code",
   "execution_count": null,
   "metadata": {},
   "outputs": [
    {
     "name": "stderr",
     "output_type": "stream",
     "text": [
      "Warning message:\n",
      "\"Ignoring unknown aesthetics: z\"\n",
      "Coordinate system already present. Adding new coordinate system, which will replace the existing one.\n",
      "\n",
      "Warning message:\n",
      "\"Removed 935 rows containing missing values (geom_point).\"\n",
      "Warning message:\n",
      "\"It is deprecated to specify `guide = FALSE` to remove a guide. Please use `guide = \"none\"` instead.\"\n",
      "Warning message:\n",
      "\"It is deprecated to specify `guide = FALSE` to remove a guide. Please use `guide = \"none\"` instead.\"\n",
      "Saving 6.67 x 6.67 in image\n",
      "\n"
     ]
    }
   ],
   "source": [
    "tric_lf_centered <-\n",
    "  Tricolore(P,\n",
    "        'Z0_Northern_Africa', 'Z0_EuropeEUnoLocal', 'Z0_Latin_America_and_the_Caribbean',\n",
    "        center = NA, crop = TRUE)\n",
    "\n",
    "P$rgb_lf_centered <- tric_lf_centered$rgb\n",
    "\n",
    "o <- ggplot() +\n",
    "      geom_sf(data = neighRe, fill = \"transparent\", color = \"black\", size = 0.1) +\n",
    "      geom_sf(data=P, aes(fill = rgb_lf_centered, geometry = geometry),colour = NA) +\n",
    "      scale_fill_identity() +\n",
    "      annotation_custom(\n",
    "        ggplotGrob(\n",
    "          tric_lf_centered$key +\n",
    "            theme(plot.background = element_rect(colour = \"transparent\", fill=\"transparent\"),\n",
    "                            text=element_text(size=4))+\n",
    "            labs(L = 'Northern Africa', T = 'Europe EU', R = 'Latin America')),\n",
    "        xmin = 3957000, xmax = 3973000, ymin = 3252800, ymax = 3258800\n",
    "      ) +\n",
    "      theme_void() +\n",
    "      coord_sf(datum = NA) +\n",
    "      labs(title = 'Distribution of Migrants in Amsterdam (%), 1992',\n",
    "           subtitle = 'Migration from Europe EU, Latin America & Northern Africa')\n",
    "\n",
    "ggsave(o, filename = \"C:/FUME/PopNetV2/data_prep/ams_ProjectData/Visualizations/images/tricolore/gridcells/tricolore_PopDistribMig_GC0cen_1992.png\",  bg = \"transparent\")"
   ]
  },
  {
   "cell_type": "markdown",
   "metadata": {},
   "source": [
    "### Group1 : LAC, NAf, WA_ centered"
   ]
  },
  {
   "cell_type": "code",
   "execution_count": 27,
   "metadata": {},
   "outputs": [
    {
     "name": "stderr",
     "output_type": "stream",
     "text": [
      "Warning message:\n",
      "\"Ignoring unknown aesthetics: z\"\n",
      "Coordinate system already present. Adding new coordinate system, which will replace the existing one.\n",
      "\n",
      "Warning message:\n",
      "\"Removed 1369 rows containing missing values (geom_point).\"\n",
      "Warning message:\n",
      "\"It is deprecated to specify `guide = FALSE` to remove a guide. Please use `guide = \"none\"` instead.\"\n",
      "Warning message:\n",
      "\"It is deprecated to specify `guide = FALSE` to remove a guide. Please use `guide = \"none\"` instead.\"\n",
      "Saving 6.67 x 6.67 in image\n",
      "\n"
     ]
    }
   ],
   "source": [
    "tric_lf_centered <-\n",
    "  Tricolore(P,\n",
    "        'Z0_Northern_Africa', 'Z0_Western_Asia', 'Z0_Latin_America_and_the_Caribbean',\n",
    "        center = NA, crop = TRUE)\n",
    "\n",
    "P$rgb_lf_centered <- tric_lf_centered$rgb\n",
    "\n",
    "e <- ggplot() +\n",
    "      geom_sf(data = neighRe, fill = \"transparent\", color = \"black\", size = 0.1) +\n",
    "      geom_sf(data=P, aes(fill = rgb_lf_centered, geometry = geometry), colour = NA) +\n",
    "      scale_fill_identity() +\n",
    "      annotation_custom(\n",
    "        ggplotGrob(\n",
    "          tric_lf_centered$key +\n",
    "            theme(plot.background = element_rect(colour = \"transparent\", fill=\"transparent\"),\n",
    "                            text=element_text(size=4))+\n",
    "            labs(L = 'Northern Africa', T = 'Western Asia', R = 'Latin America')),\n",
    "        xmin = 3957000, xmax = 3973000, ymin = 3252800, ymax = 3258800\n",
    "      ) +\n",
    "      theme_void() +\n",
    "      coord_sf(datum = NA) +\n",
    "      labs(title = 'Distribution of Migrants in Amsterdam (%), 1992',\n",
    "           subtitle = 'Migration from Latin America, Northern Africa & Western Asia')\n",
    "\n",
    "ggsave(e, filename = \"C:/FUME/PopNetV2/data_prep/ams_ProjectData/Visualizations/images/tricolore/gridcells/tricolore_PopDistribMig_GC1cen_1992.png\",  bg = \"transparent\")"
   ]
  },
  {
   "cell_type": "markdown",
   "metadata": {},
   "source": [
    "#### Group1 : LAC, NAf, WA_ not centered"
   ]
  },
  {
   "cell_type": "code",
   "execution_count": 28,
   "metadata": {},
   "outputs": [
    {
     "name": "stderr",
     "output_type": "stream",
     "text": [
      "Warning message:\n",
      "\"Ignoring unknown aesthetics: z\"\n",
      "Coordinate system already present. Adding new coordinate system, which will replace the existing one.\n",
      "\n",
      "Warning message:\n",
      "\"Removed 1369 rows containing missing values (geom_point).\"\n",
      "Warning message:\n",
      "\"It is deprecated to specify `guide = FALSE` to remove a guide. Please use `guide = \"none\"` instead.\"\n",
      "Warning message:\n",
      "\"It is deprecated to specify `guide = FALSE` to remove a guide. Please use `guide = \"none\"` instead.\"\n",
      "Saving 6.67 x 6.67 in image\n",
      "\n"
     ]
    }
   ],
   "source": [
    "tric_lf_non_centered <- Tricolore(P, breaks = Inf,\n",
    "                                  'Z0_Northern_Africa', 'Z0_Western_Asia', 'Z0_Latin_America_and_the_Caribbean',)\n",
    "\n",
    "P$rgb_lf_non_centered <- tric_lf_non_centered$rgb\n",
    "\n",
    "o <- ggplot(P) +\n",
    "      geom_sf(data = neighRe, fill = \"transparent\", color = \"black\", size = 0.1) +\n",
    "      geom_sf(data=P, aes(fill = rgb_lf_non_centered, geometry = geometry), colour = NA) +\n",
    "      scale_fill_identity() +\n",
    "      annotation_custom(\n",
    "        ggplotGrob(tric_lf_non_centered$key +\n",
    "                   theme(plot.background = element_rect(colour = \"transparent\", fill=\"transparent\"),\n",
    "                        text=element_text(size=4))+\n",
    "                     labs(L = 'Northern Africa', T = 'Western Asia', R = 'Latin America')),\n",
    "        xmin = 3957000, xmax = 3973000, ymin = 3252800, ymax = 3258800\n",
    "      ) +\n",
    "      theme_void() +\n",
    "      coord_sf(datum = NA) +\n",
    "      labs(title = 'Distribution of Migrants in Amsterdam (%), 1992',\n",
    "           subtitle = 'Migration from Latin America, Northern Africa & Western Asia') \n",
    "ggsave(o, filename = \"C:/FUME/PopNetV2/data_prep/ams_ProjectData/Visualizations/images/tricolore/gridcells/tricolore_PopDistribMig_GC1ncen_1992.png\",  bg = \"transparent\")"
   ]
  },
  {
   "cell_type": "code",
   "execution_count": 13,
   "metadata": {},
   "outputs": [
    {
     "name": "stderr",
     "output_type": "stream",
     "text": [
      "Warning message:\n",
      "\"Ignoring unknown aesthetics: z\"\n",
      "Coordinate system already present. Adding new coordinate system, which will replace the existing one.\n",
      "\n",
      "Warning message:\n",
      "\"Removed 2139 rows containing missing values (geom_point).\"\n",
      "Warning message:\n",
      "\"It is deprecated to specify `guide = FALSE` to remove a guide. Please use `guide = \"none\"` instead.\"\n",
      "Warning message:\n",
      "\"It is deprecated to specify `guide = FALSE` to remove a guide. Please use `guide = \"none\"` instead.\"\n",
      "Saving 6.67 x 6.67 in image\n",
      "\n"
     ]
    }
   ],
   "source": [
    "tric_lf_centered <-\n",
    "  Tricolore(P,\n",
    "        'Z0_Northern_Africa', 'Z0_Western_Asia', 'Z0_Sub.Saharan_Africa',\n",
    "        center = NA, crop = TRUE)\n",
    "\n",
    "P$rgb_lf_centered <- tric_lf_centered$rgb\n",
    "\n",
    "e <- ggplot() +\n",
    "      geom_sf(data = neighRe, fill = \"transparent\", color = \"black\", size = 0.1) +\n",
    "      geom_sf(data=P, aes(fill = rgb_lf_centered, geometry = geometry), colour = NA) +\n",
    "      scale_fill_identity() +\n",
    "      annotation_custom(\n",
    "        ggplotGrob(\n",
    "          tric_lf_centered$key +\n",
    "            theme(plot.background = element_rect(colour = \"transparent\", fill = \"transparent\"),\n",
    "                            text=element_text(size=4))+\n",
    "            labs(L = 'Northern Africa', T = 'Western Asia', R = 'Sub-Saharan Africa')),\n",
    "        xmin = 3957000, xmax = 3973000, ymin = 3252800, ymax = 3258800\n",
    "      ) +\n",
    "      theme_void() +\n",
    "      coord_sf(datum = NA) +\n",
    "      labs(title = 'Distribution of Migrants in Amsterdam (%), 1992',\n",
    "           subtitle = 'Migration from Northern Africa, Western Asia & Sub-Saharan Africa')\n",
    "\n",
    "ggsave(e, filename = \"C:/FUME/PopNetV2/data_prep/ams_ProjectData/Visualizations/images/tricolore/gridcells/tricolore_PopDistribMig_GC2cen_1992.png\",  bg = \"transparent\")"
   ]
  },
  {
   "cell_type": "code",
   "execution_count": null,
   "metadata": {},
   "outputs": [],
   "source": []
  }
 ],
 "metadata": {
  "kernelspec": {
   "display_name": "R",
   "language": "R",
   "name": "ir"
  },
  "language_info": {
   "codemirror_mode": "r",
   "file_extension": ".r",
   "mimetype": "text/x-r-source",
   "name": "R",
   "pygments_lexer": "r",
   "version": "4.1.1"
  }
 },
 "nbformat": 4,
 "nbformat_minor": 4
}

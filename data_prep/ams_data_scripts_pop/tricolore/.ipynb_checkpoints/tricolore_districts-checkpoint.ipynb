{
 "cells": [
  {
   "cell_type": "code",
   "execution_count": 7,
   "metadata": {},
   "outputs": [
    {
     "name": "stderr",
     "output_type": "stream",
     "text": [
      "Removing package from 'C:/Users/NM12LQ/Anaconda3/envs/env_r/Lib/R/library'\n",
      "(as 'lib' is unspecified)\n",
      "\n",
      "Removing package from 'C:/Users/NM12LQ/Anaconda3/envs/env_r/Lib/R/library'\n",
      "(as 'lib' is unspecified)\n",
      "\n"
     ]
    }
   ],
   "source": [
    "#install.packages(\"sf\")\n",
    "#install.packages('tricolore')\n",
    "#install.packages(\"raster\")\n",
    "#install.packages(\"rgdal\")\n",
    "remove.packages(\"rgdal\")\n",
    "remove.packages(\"raster\")"
   ]
  },
  {
   "cell_type": "code",
   "execution_count": 1,
   "metadata": {},
   "outputs": [
    {
     "name": "stderr",
     "output_type": "stream",
     "text": [
      "Linking to GEOS 3.9.0, GDAL 3.2.1, PROJ 7.2.1\n",
      "\n",
      "Registered S3 methods overwritten by 'ggtern':\n",
      "  method           from   \n",
      "  grid.draw.ggplot ggplot2\n",
      "  plot.ggplot      ggplot2\n",
      "  print.ggplot     ggplot2\n",
      "\n",
      "--\n",
      "Remember to cite, run citation(package = 'ggtern') for further info.\n",
      "--\n",
      "\n",
      "\n",
      "Attaching package: 'ggtern'\n",
      "\n",
      "\n",
      "The following objects are masked from 'package:ggplot2':\n",
      "\n",
      "    aes, annotate, ggplot, ggplot_build, ggplot_gtable, ggplotGrob,\n",
      "    ggsave, layer_data, theme_bw, theme_classic, theme_dark,\n",
      "    theme_gray, theme_light, theme_linedraw, theme_minimal, theme_void\n",
      "\n",
      "\n"
     ]
    }
   ],
   "source": [
    "library(sf)\n",
    "library(tricolore)\n",
    "library(ggplot2)\n",
    "library(ggtern)\n",
    "#library(raster)\n",
    "#library(rgdal)\n"
   ]
  },
  {
   "cell_type": "code",
   "execution_count": 2,
   "metadata": {
    "scrolled": true
   },
   "outputs": [
    {
     "data": {
      "text/plain": [
       "   xmin    ymin    xmax    ymax \n",
       "3962582 3252846 3986272 3270890 "
      ]
     },
     "metadata": {},
     "output_type": "display_data"
    }
   ],
   "source": [
    "file <- \"C:/FUME/PopNetV2/data_prep/ams_ProjectData/PopData/Neighborhood&districtData/migrationProcess/MigInNeigh_regions/1992_NeighPerc_comb.geojson\"\n",
    "gdf <- read_sf(file)\n",
    "st_bbox(gdf)\n",
    "#st_crs(gdf)"
   ]
  },
  {
   "cell_type": "code",
   "execution_count": 2,
   "metadata": {},
   "outputs": [],
   "source": [
    "waterSHP <- read_sf(\"C:/FUME/PopNetV2/data_prep/ams_ProjectData/temp_shp/ams_water_cover.gpkg\")\n",
    "#water_df <- as.data.frame(waterSHP, xy = TRUE)\n",
    "PltData <- waterSHP[waterSHP$water_cover > 50,]\n",
    "#water <- ggplot() + geom_sf(data = PltData, fill = \"#9bb1e0\",colour = NA, alpha = 7/10)  \n",
    "  #scale_fill_manual(values = c(\"gray\", \"yellow\", \"orange\", \"red\"))"
   ]
  },
  {
   "cell_type": "code",
   "execution_count": 7,
   "metadata": {},
   "outputs": [
    {
     "data": {
      "image/png": "[encoded data removed]",
      "text/plain": [
       "plot without title"
      ]
     },
     "metadata": {
      "image/png": {
       "height": 420,
       "width": 420
      }
     },
     "output_type": "display_data"
    }
   ],
   "source": [
    "water"
   ]
  },
  {
   "cell_type": "code",
   "execution_count": 3,
   "metadata": {},
   "outputs": [],
   "source": [
    "years <- c(1992, 1994, 1996, 1998, 2000, 2002, 2004, 2006, 2008, 2010, 2012, 2014, 2016, 2018)\n",
    "path <- \"C:/FUME/PopNetV2/data_prep/ams_ProjectData/PopData/Neighborhood&districtData/migrationProcess/MigInNeigh_regions\"\n",
    "out_path <-\"C:/FUME/PopNetV2/data_prep/ams_ProjectData/Visualizations/images/tricolore/district\""
   ]
  },
  {
   "cell_type": "code",
   "execution_count": 4,
   "metadata": {},
   "outputs": [],
   "source": [
    "plotTricoloreNonCentered <- function(in_path, group00, group01, group02, name_group00, name_group01, name_group02, out_path, out_file) {\n",
    "    gdf <- read_sf(in_path)\n",
    "    P <- as.data.frame(gdf) \n",
    "    tric_lf_non_centered <- Tricolore(P, breaks = Inf, group00, group01, group02)\n",
    "\n",
    "    P$rgb_lf_non_centered <- tric_lf_non_centered$rgb\n",
    "\n",
    "    o <- ggplot(P) +\n",
    "          geom_sf(aes(fill = rgb_lf_non_centered, geometry = geometry), size = 0.1) +\n",
    "          geom_sf(data = PltData, fill = \"#6f90d9\",colour = NA, alpha = 7/10) +\n",
    "          scale_fill_identity() +\n",
    "          annotation_custom(\n",
    "            ggplotGrob(tric_lf_non_centered$key +\n",
    "                       theme(plot.background = element_rect(colour = \"transparent\", fill=\"transparent\"),\n",
    "                            text=element_text(size=4))+\n",
    "                         labs(L = name_group00, T = name_group01, R = name_group02)),\n",
    "            xmin = 3957000, xmax = 3973000, ymin = 3252800, ymax = 3258800\n",
    "          ) +\n",
    "          theme_void() +\n",
    "          coord_sf(datum = NA) +\n",
    "          labs(title = sprintf(\"Population Distribution in Amsterdam, %s\", i),\n",
    "               subtitle = sprintf(\"%s, %s & %s\", name_group00, name_group01, name_group02))     \n",
    "    \n",
    "    ggsave(o, filename = sprintf(\"%s/%s_%s.png\", out_path,out_file, i),  bg = \"transparent\")\n",
    "    dev.off()\n",
    "}"
   ]
  },
  {
   "cell_type": "code",
   "execution_count": 5,
   "metadata": {},
   "outputs": [],
   "source": [
    "plotTricoloreCentered <- function(in_path, group00, group01, group02, name_group00, name_group01, name_group02, out_path, out_file) {\n",
    "    gdf <- read_sf(in_path)\n",
    "    P <- as.data.frame(gdf) \n",
    "    tric_lf_centered <- Tricolore(P, group00, group01, group02, center = NA, crop = TRUE)\n",
    "\n",
    "    P$rgb_lf_centered <- tric_lf_centered$rgb\n",
    "\n",
    "    o <- ggplot(P) +\n",
    "          geom_sf(aes(fill = rgb_lf_centered, geometry = geometry), size = 0.1) +\n",
    "          geom_sf(data = PltData, fill = \"#6f90d9\",colour = NA, alpha = 7/10) +\n",
    "          scale_fill_identity() +\n",
    "          annotation_custom(\n",
    "            ggplotGrob(tric_lf_non_centered$key +\n",
    "                       theme(plot.background = element_rect(colour = \"transparent\", fill=\"transparent\"),\n",
    "                            text=element_text(size=4))+\n",
    "                         labs(L = name_group00, T = name_group01, R = name_group02)),\n",
    "            xmin = 3957000, xmax = 3973000, ymin = 3252800, ymax = 3258800\n",
    "          ) +\n",
    "          theme_void() +\n",
    "          coord_sf(datum = NA) +\n",
    "          labs(title = sprintf(\"Population Distribution in Amsterdam, %s\", i),\n",
    "               subtitle = sprintf(\"%s, %s & %s\", name_group00, name_group01, name_group02))     \n",
    "    \n",
    "    ggsave(o, filename = sprintf(\"%s/%s_%s.png\", out_path,out_file, i),  bg = \"transparent\")\n",
    "    dev.off()\n",
    "}"
   ]
  },
  {
   "cell_type": "code",
   "execution_count": null,
   "metadata": {},
   "outputs": [
    {
     "name": "stderr",
     "output_type": "stream",
     "text": [
      "Warning message:\n",
      "\"Ignoring unknown aesthetics: z\"\n",
      "Coordinate system already present. Adding new coordinate system, which will replace the existing one.\n",
      "\n",
      "Warning message:\n",
      "\"Removed 3 rows containing missing values (geom_point).\"\n",
      "Warning message:\n",
      "\"It is deprecated to specify `guide = FALSE` to remove a guide. Please use `guide = \"none\"` instead.\"\n",
      "Warning message:\n",
      "\"It is deprecated to specify `guide = FALSE` to remove a guide. Please use `guide = \"none\"` instead.\"\n",
      "Saving 6.67 x 6.67 in image\n",
      "\n",
      "Warning message:\n",
      "\"Ignoring unknown aesthetics: z\"\n",
      "Coordinate system already present. Adding new coordinate system, which will replace the existing one.\n",
      "\n",
      "Warning message:\n",
      "\"Removed 2 rows containing missing values (geom_point).\"\n",
      "Warning message:\n",
      "\"It is deprecated to specify `guide = FALSE` to remove a guide. Please use `guide = \"none\"` instead.\"\n",
      "Warning message:\n",
      "\"It is deprecated to specify `guide = FALSE` to remove a guide. Please use `guide = \"none\"` instead.\"\n",
      "Saving 6.67 x 6.67 in image\n",
      "\n",
      "Warning message:\n",
      "\"Ignoring unknown aesthetics: z\"\n",
      "Coordinate system already present. Adding new coordinate system, which will replace the existing one.\n",
      "\n",
      "Warning message:\n",
      "\"Removed 2 rows containing missing values (geom_point).\"\n",
      "Warning message:\n",
      "\"It is deprecated to specify `guide = FALSE` to remove a guide. Please use `guide = \"none\"` instead.\"\n",
      "Warning message:\n",
      "\"It is deprecated to specify `guide = FALSE` to remove a guide. Please use `guide = \"none\"` instead.\"\n",
      "Saving 6.67 x 6.67 in image\n",
      "\n",
      "Warning message:\n",
      "\"Ignoring unknown aesthetics: z\"\n",
      "Coordinate system already present. Adding new coordinate system, which will replace the existing one.\n",
      "\n",
      "Warning message:\n",
      "\"Removed 2 rows containing missing values (geom_point).\"\n",
      "Warning message:\n",
      "\"It is deprecated to specify `guide = FALSE` to remove a guide. Please use `guide = \"none\"` instead.\"\n",
      "Warning message:\n",
      "\"It is deprecated to specify `guide = FALSE` to remove a guide. Please use `guide = \"none\"` instead.\"\n",
      "Saving 6.67 x 6.67 in image\n",
      "\n"
     ]
    }
   ],
   "source": [
    "for (i in years) {\n",
    "    in_path = sprintf(\"%s/%s_NeighPerc_comb.geojson\",path, i)\n",
    "    group00 <-'mean_nld'\n",
    "    group01 <-'mean_EuropeEUnoLocal'\n",
    "    group02 <-'mean_Latin_America_and_the_Caribbean'\n",
    "    name_group00 <- 'NLD'\n",
    "    name_group01 <- 'EU'\n",
    "    name_group02 <- 'Latin America'\n",
    "    out_file <- ''\n",
    "    plotTricoloreNonCentered(in_path, group00, group01, group02, name_group00, name_group01, name_group02, out_path, out_file)\n",
    "}"
   ]
  },
  {
   "cell_type": "code",
   "execution_count": 4,
   "metadata": {
    "scrolled": true
   },
   "outputs": [
    {
     "name": "stderr",
     "output_type": "stream",
     "text": [
      "Warning message:\n",
      "\"Ignoring unknown aesthetics: z\"\n"
     ]
    },
    {
     "data": {
      "text/html": [
       "<style>\n",
       ".list-inline {list-style: none; margin:0; padding: 0}\n",
       ".list-inline>li {display: inline-block}\n",
       ".list-inline>li:not(:last-child)::after {content: \"\\00b7\"; padding: 0 .5ex}\n",
       "</style>\n",
       "<ol class=list-inline><li>'#CFB000'</li><li>'#CFB000'</li><li>'#CFB000'</li><li>'#CFB000'</li><li>'#CFB000'</li><li>'#CFB000'</li></ol>\n"
      ],
      "text/latex": [
       "\\begin{enumerate*}\n",
       "\\item '\\#CFB000'\n",
       "\\item '\\#CFB000'\n",
       "\\item '\\#CFB000'\n",
       "\\item '\\#CFB000'\n",
       "\\item '\\#CFB000'\n",
       "\\item '\\#CFB000'\n",
       "\\end{enumerate*}\n"
      ],
      "text/markdown": [
       "1. '#CFB000'\n",
       "2. '#CFB000'\n",
       "3. '#CFB000'\n",
       "4. '#CFB000'\n",
       "5. '#CFB000'\n",
       "6. '#CFB000'\n",
       "\n",
       "\n"
      ],
      "text/plain": [
       "[1] \"#CFB000\" \"#CFB000\" \"#CFB000\" \"#CFB000\" \"#CFB000\" \"#CFB000\""
      ]
     },
     "metadata": {},
     "output_type": "display_data"
    },
    {
     "name": "stderr",
     "output_type": "stream",
     "text": [
      "Warning message:\n",
      "\"Removed 3 rows containing missing values (geom_point).\"\n",
      "Warning message:\n",
      "\"It is deprecated to specify `guide = FALSE` to remove a guide. Please use `guide = \"none\"` instead.\"\n",
      "Warning message:\n",
      "\"It is deprecated to specify `guide = FALSE` to remove a guide. Please use `guide = \"none\"` instead.\"\n",
      "Warning message:\n",
      "\"Ignoring unknown aesthetics: z\"\n"
     ]
    },
    {
     "data": {
      "image/png": "[encoded data removed]",
      "text/plain": [
       "plot without title"
      ]
     },
     "metadata": {
      "image/png": {
       "height": 420,
       "width": 420
      }
     },
     "output_type": "display_data"
    }
   ],
   "source": [
    "P <- as.data.frame(gdf) \n",
    "# color-code each composition and return a corresponding color key\n",
    "colors_and_legend <- Tricolore(P,'mean_nld','mean_EuropeEUnoLocal','mean_Latin_America_and_the_Caribbean' )\n",
    "# the color-coded compositions\n",
    "head(colors_and_legend$rgb)\n",
    "colors_and_legend$key\n",
    "\n",
    "# color-code the data set and generate a color-key\n",
    "tric <- Tricolore(P,\n",
    "    p1 = 'mean_nld', p2 = 'mean_EuropeEUnoLocal', p3 = 'mean_Latin_America_and_the_Caribbean')\n",
    "\n",
    "# add the vector of colors to the `example` data\n",
    "P$educ_rgb <- tric$rgb"
   ]
  },
  {
   "cell_type": "markdown",
   "metadata": {},
   "source": [
    "### Migrant and local Population in Amsterdam per District (not centered)"
   ]
  },
  {
   "cell_type": "code",
   "execution_count": 9,
   "metadata": {},
   "outputs": [
    {
     "name": "stderr",
     "output_type": "stream",
     "text": [
      "Warning message:\n",
      "\"Ignoring unknown aesthetics: z\"\n",
      "Coordinate system already present. Adding new coordinate system, which will replace the existing one.\n",
      "\n",
      "Warning message:\n",
      "\"Removed 3 rows containing missing values (geom_point).\"\n",
      "Warning message:\n",
      "\"It is deprecated to specify `guide = FALSE` to remove a guide. Please use `guide = \"none\"` instead.\"\n",
      "Warning message:\n",
      "\"It is deprecated to specify `guide = FALSE` to remove a guide. Please use `guide = \"none\"` instead.\"\n",
      "Saving 6.67 x 6.67 in image\n",
      "\n",
      "Warning message in grDevices::png(..., res = dpi, units = \"in\"):\n",
      "\"unable to open file 'C:/FUME/PopNetV2/data_prep/ams_ProjectData/Visualizations/images/tricolore/districts/tricolore_1992.png' for writing\"\n",
      "Warning message in grDevices::png(..., res = dpi, units = \"in\"):\n",
      "\"opening device failed\"\n"
     ]
    },
    {
     "ename": "ERROR",
     "evalue": "Error in grDevices::png(..., res = dpi, units = \"in\"): unable to start png() device\n",
     "output_type": "error",
     "traceback": [
      "Error in grDevices::png(..., res = dpi, units = \"in\"): unable to start png() device\nTraceback:\n",
      "1. ggsave(o, filename = \"C:/FUME/PopNetV2/data_prep/ams_ProjectData/Visualizations/images/tricolore/districts/tricolore_1992.png\", \n .     bg = \"transparent\")",
      "2. dev(file = filename, width = dim[1], height = dim[2], ...)",
      "3. grDevices::png(..., res = dpi, units = \"in\")"
     ]
    }
   ],
   "source": [
    "tric_lf_non_centered <- Tricolore(P, breaks = Inf,\n",
    "                                  'mean_nld', 'mean_EuropeEUnoLocal', 'mean_Latin_America_and_the_Caribbean')\n",
    "\n",
    "P$rgb_lf_non_centered <- tric_lf_non_centered$rgb\n",
    "\n",
    "o <- ggplot(P) +\n",
    "      geom_sf(aes(fill = rgb_lf_non_centered, geometry = geometry), size = 0.1) +\n",
    "      scale_fill_identity() +\n",
    "      annotation_custom(\n",
    "        ggplotGrob(tric_lf_non_centered$key +\n",
    "                   theme(plot.background = element_rect(colour = \"transparent\", fill=\"transparent\"),\n",
    "                        text=element_text(size=4))+\n",
    "                     labs(L = 'NLD', T = 'Europe EU', R = 'Latin America')),\n",
    "        xmin = 3957000, xmax = 3973000, ymin = 3252800, ymax = 3258800\n",
    "      ) +\n",
    "      theme_void() +\n",
    "      coord_sf(datum = NA) +\n",
    "      labs(title = 'Population Distribution in Amsterdam (%), 1992',\n",
    "           subtitle = 'Local Population, European EU & Latin American migrants') \n",
    "ggsave(o, filename = \"C:/FUME/PopNetV2/data_prep/ams_ProjectData/Visualizations/images/tricolore/district/tricolore_1992.png\",  bg = \"transparent\")"
   ]
  },
  {
   "cell_type": "code",
   "execution_count": 7,
   "metadata": {},
   "outputs": [
    {
     "name": "stderr",
     "output_type": "stream",
     "text": [
      "Saving 6.67 x 6.67 in image\n",
      "\n"
     ]
    }
   ],
   "source": [
    "ggsave(o, filename = \"C:/FUME/PopNetV2/data_prep/tricolore_1992.png\",  bg = \"transparent\")"
   ]
  },
  {
   "cell_type": "markdown",
   "metadata": {},
   "source": [
    "### Migrant and local Population in Amsterdam per District (centered)"
   ]
  },
  {
   "cell_type": "code",
   "execution_count": 5,
   "metadata": {},
   "outputs": [
    {
     "name": "stderr",
     "output_type": "stream",
     "text": [
      "Warning message:\n",
      "\"Ignoring unknown aesthetics: z\"\n",
      "Coordinate system already present. Adding new coordinate system, which will replace the existing one.\n",
      "\n",
      "Warning message:\n",
      "\"Removed 3 rows containing missing values (geom_point).\"\n",
      "Warning message:\n",
      "\"It is deprecated to specify `guide = FALSE` to remove a guide. Please use `guide = \"none\"` instead.\"\n",
      "Warning message:\n",
      "\"It is deprecated to specify `guide = FALSE` to remove a guide. Please use `guide = \"none\"` instead.\"\n",
      "Saving 6.67 x 6.67 in image\n",
      "\n"
     ]
    }
   ],
   "source": [
    "tric_lf_centered <-\n",
    "  Tricolore(P,\n",
    "         'mean_nld', 'mean_EuropeEUnoLocal', 'mean_Latin_America_and_the_Caribbean',\n",
    "        center = NA, crop = TRUE)\n",
    "\n",
    "P$rgb_lf_centered <- tric_lf_centered$rgb\n",
    "\n",
    "o <- ggplot(P) +\n",
    "  geom_sf(aes(fill = rgb_lf_centered, geometry = geometry), size = 0.1) +\n",
    "  scale_fill_identity() +\n",
    "  annotation_custom(\n",
    "    ggplotGrob(\n",
    "      tric_lf_centered$key +\n",
    "        theme(plot.background = element_rect(colour = \"transparent\", fill=\"transparent\"),\n",
    "                        text=element_text(size=4))+\n",
    "        labs(L = 'NLD', T = 'Europe EU', R = 'Latin America')),\n",
    "    xmin = 3957000, xmax = 3973000, ymin = 3252800, ymax = 3258800\n",
    "  ) +\n",
    "  theme_void() +\n",
    "  coord_sf(datum = NA) +\n",
    "  labs(title = 'Population Distribution in Amsterdam (%), 1992',\n",
    "       subtitle = 'Local Population, European EU & Latin American migrants')\n",
    "ggsave(o, filename = \"C:/FUME/PopNetV2/data_prep/ams_ProjectData/Visualizations/images/tricolore/districts/tricolore_PopDistrib_Dcen_1992.png\",  bg = \"transparent\")"
   ]
  },
  {
   "cell_type": "markdown",
   "metadata": {},
   "source": [
    "### Migrant Population in Amsterdam per District (centered)"
   ]
  },
  {
   "cell_type": "code",
   "execution_count": 6,
   "metadata": {},
   "outputs": [
    {
     "name": "stderr",
     "output_type": "stream",
     "text": [
      "Warning message:\n",
      "\"Ignoring unknown aesthetics: z\"\n",
      "Coordinate system already present. Adding new coordinate system, which will replace the existing one.\n",
      "\n",
      "Warning message:\n",
      "\"Removed 5 rows containing missing values (geom_point).\"\n",
      "Warning message:\n",
      "\"It is deprecated to specify `guide = FALSE` to remove a guide. Please use `guide = \"none\"` instead.\"\n",
      "Warning message:\n",
      "\"It is deprecated to specify `guide = FALSE` to remove a guide. Please use `guide = \"none\"` instead.\"\n",
      "Saving 6.67 x 6.67 in image\n",
      "\n"
     ]
    }
   ],
   "source": [
    "tric_lf_centered <-\n",
    "  Tricolore(P,\n",
    "        'mean_Northern_Africa', 'mean_EuropeEUnoLocal', 'mean_Latin_America_and_the_Caribbean',\n",
    "        center = NA, crop = TRUE)\n",
    "\n",
    "P$rgb_lf_centered <- tric_lf_centered$rgb\n",
    "\n",
    "o <- ggplot(P) +\n",
    "  geom_sf(aes(fill = rgb_lf_centered, geometry = geometry), size = 0.1) +\n",
    "  scale_fill_identity() +\n",
    "  annotation_custom(\n",
    "    ggplotGrob(\n",
    "      tric_lf_centered$key +\n",
    "        theme(plot.background = element_rect(colour = \"transparent\", fill=\"transparent\"),\n",
    "                        text=element_text(size=4))+\n",
    "        labs(L = 'Northern Africa', T = 'Europe EU', R = 'Latin America')),\n",
    "    xmin = 3957000, xmax = 3973000, ymin = 3252800, ymax = 3258800\n",
    "  ) +\n",
    "  theme_void() +\n",
    "  coord_sf(datum = NA) +\n",
    "  labs(title = 'Distribution of Migrants in Amsterdam (%), 1992',\n",
    "       subtitle = 'Migration from Europe EU, Latin America & Northern Africa')\n",
    "ggsave(o, filename = \"C:/FUME/PopNetV2/data_prep/ams_ProjectData/Visualizations/images/tricolore/districts/tricolore_PopDistribMig_D_1992.png\",  bg = \"transparent\")"
   ]
  },
  {
   "cell_type": "code",
   "execution_count": null,
   "metadata": {},
   "outputs": [],
   "source": []
  },
  {
   "cell_type": "code",
   "execution_count": null,
   "metadata": {},
   "outputs": [],
   "source": []
  }
 ],
 "metadata": {
  "kernelspec": {
   "display_name": "R",
   "language": "R",
   "name": "ir"
  },
  "language_info": {
   "codemirror_mode": "r",
   "file_extension": ".r",
   "mimetype": "text/x-r-source",
   "name": "R",
   "pygments_lexer": "r",
   "version": "4.1.1"
  }
 },
 "nbformat": 4,
 "nbformat_minor": 4
}

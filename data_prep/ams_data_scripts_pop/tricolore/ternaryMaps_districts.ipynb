{
 "cells": [
  {
   "cell_type": "markdown",
   "metadata": {},
   "source": [
    "# Ternary maps_ Amsterdam\n",
    "#### This notebook produces images for the demonstration of the ternary balance scheme among cohorts in Amsterdam for the period 1992-2018 \n",
    "Based on : https://github.com/jschoeley/tricolore"
   ]
  },
  {
   "cell_type": "code",
   "execution_count": null,
   "metadata": {},
   "outputs": [],
   "source": [
    "#install.packages(\"sf\")\n",
    "#install.packages('tricolore')\n",
    "#install.packages(\"raster\")\n",
    "#install.packages(\"rgdal\")\n",
    "#remove.packages(\"rgdal\")\n",
    "#remove.packages(\"raster\")"
   ]
  },
  {
   "cell_type": "code",
   "execution_count": 10,
   "metadata": {},
   "outputs": [],
   "source": [
    "#Import the necessary libraries\n",
    "library(sf)\n",
    "library(tricolore)\n",
    "library(ggplot2)\n",
    "library(ggtern)"
   ]
  },
  {
   "cell_type": "code",
   "execution_count": 11,
   "metadata": {},
   "outputs": [
    {
     "name": "stderr",
     "output_type": "stream",
     "text": [
      "Coordinate system already present. Adding new coordinate system, which will replace the existing one.\n",
      "\n"
     ]
    },
    {
     "data": {
      "image/png": "[encoded data removed]",
      "text/plain": [
       "plot without title"
      ]
     },
     "metadata": {
      "image/png": {
       "height": 420,
       "width": 420
      }
     },
     "output_type": "display_data"
    }
   ],
   "source": [
    "# Load dataset for water coverage\n",
    "waterSHP <- read_sf(\"C:/FUME/PopNetV2/data_prep/ams_ProjectData/temp_shp/ams_water_cover.gpkg\")\n",
    "PltData <- waterSHP[waterSHP$water_cover > 90,]\n",
    "PltDataLand <- waterSHP[waterSHP$water_cover < 90,]\n",
    "water <- ggplot() + geom_sf(data = PltDataLand, fill = \"#d9d9d9\",colour = NA)  +\n",
    "    geom_sf(data = PltData, fill = \"white\",colour = NA)\n",
    "water   "
   ]
  },
  {
   "cell_type": "code",
   "execution_count": 14,
   "metadata": {},
   "outputs": [],
   "source": [
    "frame <- read_sf(\"C:/FUME/PopNetV2/data_prep/ams_ProjectData/AncillaryData/CaseStudy/frame.gpkg\")\n",
    "# reproject data\n",
    "frameRe <- st_transform(frame,st_crs(3035))\n",
    "#st_crs(neighRe)"
   ]
  },
  {
   "cell_type": "code",
   "execution_count": 15,
   "metadata": {},
   "outputs": [],
   "source": [
    "neigh <- read_sf(\"C:/FUME/PopNetV2/data_prep/ams_ProjectData/AncillaryData/adm/neighborhood_orig.geojson\")\n",
    "# reproject data\n",
    "neighRe <- st_transform(neigh,st_crs(3035))\n",
    "#st_crs(neighRe)"
   ]
  },
  {
   "cell_type": "code",
   "execution_count": 16,
   "metadata": {},
   "outputs": [],
   "source": [
    "# Set variables\n",
    "years <- c( 1992, 2000, 2010, 2018 ) #1992, 1994, 1996, 1998, 2000, 2002, 2004, 2006, 2008, 2010, 2012, 2014, 2016,\n",
    "path <- \"C:/FUME/PopNetV2/data_prep/ams_ProjectData/PopData/Neighborhood&districtData/migrationProcess/MigInNeigh_regions\"\n",
    "out_path <-\"C:/FUME/PopNetV2/data_prep/ams_ProjectData/Visualizations/images/tricolore/district\""
   ]
  },
  {
   "cell_type": "markdown",
   "metadata": {},
   "source": [
    "### Ternary choropleth maps _ not centered"
   ]
  },
  {
   "cell_type": "code",
   "execution_count": 26,
   "metadata": {},
   "outputs": [],
   "source": [
    "# Create not centered plot for migrant groups\n",
    "plotTricoloreNonCentered <- function(in_path, group00, group01, group02, name_group00, name_group01, name_group02, out_path, out_file) {\n",
    "    gdf <- read_sf(in_path)\n",
    "    P <- as.data.frame(gdf) \n",
    "    tric_lf_non_centered <- Tricolore(P, breaks = Inf, group00, group01, group02)\n",
    "\n",
    "    P$rgb_lf_non_centered <- tric_lf_non_centered$rgb\n",
    "\n",
    "    o <- ggplot(P) +\n",
    "          geom_sf(data = frameRe, fill = \"#c9c9c9\", colour = NA, alpha=6/10) + \n",
    "          geom_sf(data = neighRe, fill = \"#c9c9c9\", colour = NA) +\n",
    "          geom_sf(aes(fill = rgb_lf_non_centered, geometry = geometry), colour = NA ) +\n",
    "          geom_sf(data = PltData, fill = \"white\", colour = NA) +\n",
    "          geom_sf(data = neighRe, fill = \"transparent\", color = \"black\", size = 0.1) +\n",
    "          \n",
    "          scale_fill_identity() +\n",
    "          annotation_custom(\n",
    "            ggplotGrob(tric_lf_non_centered$key +\n",
    "                       theme(plot.background = element_rect(colour = \"transparent\", fill=\"transparent\"),\n",
    "                            text=element_text(size=4))+\n",
    "                         labs(L = name_group00, T = name_group01, R = name_group02)),\n",
    "            xmin = 3958000, xmax = 3975000, ymin = 3252800, ymax = 3258800\n",
    "          ) +\n",
    "          theme_void() +\n",
    "          coord_sf(datum = NA) +\n",
    "          labs(title = sprintf(\"Population Distribution in Amsterdam, %s\", i),\n",
    "               subtitle = sprintf(\"%s, %s & %s\", name_group00, name_group01, name_group02))     \n",
    "    \n",
    "    ggsave(o, filename = sprintf(\"%s/%s_%s.png\", out_path,out_file, i),  bg = \"transparent\")\n",
    "    dev.off()\n",
    "}"
   ]
  },
  {
   "cell_type": "markdown",
   "metadata": {},
   "source": [
    "### Ternary choropleth maps _ centered"
   ]
  },
  {
   "cell_type": "code",
   "execution_count": 22,
   "metadata": {},
   "outputs": [],
   "source": [
    "plotTricoloreCentered <- function(in_path, group00, group01, group02, name_group00, name_group01, name_group02, out_path, out_file) {\n",
    "    gdf <- read_sf(in_path)\n",
    "    P <- as.data.frame(gdf) \n",
    "    tric_lf_centered <- Tricolore(P, group00, group01, group02, center = NA, crop = TRUE)\n",
    "\n",
    "    P$rgb_lf_centered <- tric_lf_centered$rgb\n",
    "\n",
    "    o <- ggplot(P) +\n",
    "          geom_sf(data = frameRe, fill = \"#c9c9c9\", colour = NA, alpha=6/10) + \n",
    "          geom_sf(data = neighRe, fill = \"#c9c9c9\", colour = NA) +\n",
    "          geom_sf(aes(fill = rgb_lf_centered, geometry = geometry), colour = NA ) +\n",
    "          geom_sf(data = PltData, fill = \"white\", colour = NA) +\n",
    "          geom_sf(data = neighRe, fill = \"transparent\", color = \"black\", size = 0.1) +\n",
    "    \n",
    "          scale_fill_identity() +\n",
    "          annotation_custom(\n",
    "            ggplotGrob(tric_lf_centered$key +\n",
    "                       theme(plot.background = element_rect(colour = \"transparent\", fill=\"transparent\"),\n",
    "                            text=element_text(size=4))+\n",
    "                         labs(L = name_group00, T = name_group01, R = name_group02)),\n",
    "            xmin = 3958000, xmax = 3975000, ymin = 3252800, ymax = 3258800\n",
    "          ) +\n",
    "          theme_void() +\n",
    "          coord_sf(datum = NA) +\n",
    "          labs(title = sprintf(\"Population Distribution in Amsterdam, %s\", i),\n",
    "               subtitle = sprintf(\"%s, %s & %s\", name_group00, name_group01, name_group02))     \n",
    "    \n",
    "    ggsave(o, filename = sprintf(\"%s/%s_%s.png\", out_path,out_file, i),  bg = \"transparent\")\n",
    "    dev.off()\n",
    "}"
   ]
  },
  {
   "cell_type": "markdown",
   "metadata": {},
   "source": [
    "### Group00"
   ]
  },
  {
   "cell_type": "code",
   "execution_count": 23,
   "metadata": {},
   "outputs": [
    {
     "name": "stderr",
     "output_type": "stream",
     "text": [
      "Warning message:\n",
      "\"Ignoring unknown aesthetics: z\"\n",
      "Coordinate system already present. Adding new coordinate system, which will replace the existing one.\n",
      "\n",
      "Warning message:\n",
      "\"Removed 3 rows containing missing values (geom_point).\"\n",
      "Warning message:\n",
      "\"It is deprecated to specify `guide = FALSE` to remove a guide. Please use `guide = \"none\"` instead.\"\n",
      "Warning message:\n",
      "\"It is deprecated to specify `guide = FALSE` to remove a guide. Please use `guide = \"none\"` instead.\"\n",
      "Saving 6.67 x 6.67 in image\n",
      "\n",
      "Warning message:\n",
      "\"Ignoring unknown aesthetics: z\"\n",
      "Coordinate system already present. Adding new coordinate system, which will replace the existing one.\n",
      "\n",
      "Warning message:\n",
      "\"Removed 3 rows containing missing values (geom_point).\"\n",
      "Warning message:\n",
      "\"It is deprecated to specify `guide = FALSE` to remove a guide. Please use `guide = \"none\"` instead.\"\n",
      "Warning message:\n",
      "\"It is deprecated to specify `guide = FALSE` to remove a guide. Please use `guide = \"none\"` instead.\"\n",
      "Saving 6.67 x 6.67 in image\n",
      "\n",
      "Warning message:\n",
      "\"Ignoring unknown aesthetics: z\"\n",
      "Coordinate system already present. Adding new coordinate system, which will replace the existing one.\n",
      "\n",
      "Warning message:\n",
      "\"Removed 1 rows containing missing values (geom_point).\"\n",
      "Warning message:\n",
      "\"It is deprecated to specify `guide = FALSE` to remove a guide. Please use `guide = \"none\"` instead.\"\n",
      "Warning message:\n",
      "\"It is deprecated to specify `guide = FALSE` to remove a guide. Please use `guide = \"none\"` instead.\"\n",
      "Saving 6.67 x 6.67 in image\n",
      "\n",
      "Warning message:\n",
      "\"Ignoring unknown aesthetics: z\"\n",
      "Coordinate system already present. Adding new coordinate system, which will replace the existing one.\n",
      "\n",
      "Warning message:\n",
      "\"It is deprecated to specify `guide = FALSE` to remove a guide. Please use `guide = \"none\"` instead.\"\n",
      "Warning message:\n",
      "\"It is deprecated to specify `guide = FALSE` to remove a guide. Please use `guide = \"none\"` instead.\"\n",
      "Saving 6.67 x 6.67 in image\n",
      "\n"
     ]
    }
   ],
   "source": [
    "for (i in years) {\n",
    "    in_path = sprintf(\"%s/%s_NeighPerc_comb.geojson\",path, i)\n",
    "    group00 <-'mean_nld'\n",
    "    group01 <-'mean_EuropeEUnoLocal'\n",
    "    group02 <-'mean_Latin_America_and_the_Caribbean'\n",
    "    name_group00 <- 'NLD'\n",
    "    name_group01 <- 'EU'\n",
    "    name_group02 <- 'Latin America'\n",
    "    out_file <- 'tricCentD_G00'\n",
    "    plotTricoloreCentered(in_path, group00, group01, group02, name_group00, name_group01, name_group02, out_path, out_file)\n",
    "}"
   ]
  },
  {
   "cell_type": "markdown",
   "metadata": {},
   "source": [
    "### Group01"
   ]
  },
  {
   "cell_type": "code",
   "execution_count": 20,
   "metadata": {},
   "outputs": [
    {
     "name": "stderr",
     "output_type": "stream",
     "text": [
      "Warning message:\n",
      "\"Ignoring unknown aesthetics: z\"\n",
      "Coordinate system already present. Adding new coordinate system, which will replace the existing one.\n",
      "\n",
      "Warning message:\n",
      "\"Removed 5 rows containing missing values (geom_point).\"\n",
      "Warning message:\n",
      "\"It is deprecated to specify `guide = FALSE` to remove a guide. Please use `guide = \"none\"` instead.\"\n",
      "Warning message:\n",
      "\"It is deprecated to specify `guide = FALSE` to remove a guide. Please use `guide = \"none\"` instead.\"\n",
      "Saving 6.67 x 6.67 in image\n",
      "\n",
      "Warning message:\n",
      "\"Ignoring unknown aesthetics: z\"\n",
      "Coordinate system already present. Adding new coordinate system, which will replace the existing one.\n",
      "\n",
      "Warning message:\n",
      "\"Removed 3 rows containing missing values (geom_point).\"\n",
      "Warning message:\n",
      "\"It is deprecated to specify `guide = FALSE` to remove a guide. Please use `guide = \"none\"` instead.\"\n",
      "Warning message:\n",
      "\"It is deprecated to specify `guide = FALSE` to remove a guide. Please use `guide = \"none\"` instead.\"\n",
      "Saving 6.67 x 6.67 in image\n",
      "\n",
      "Warning message:\n",
      "\"Ignoring unknown aesthetics: z\"\n",
      "Coordinate system already present. Adding new coordinate system, which will replace the existing one.\n",
      "\n",
      "Warning message:\n",
      "\"Removed 1 rows containing missing values (geom_point).\"\n",
      "Warning message:\n",
      "\"It is deprecated to specify `guide = FALSE` to remove a guide. Please use `guide = \"none\"` instead.\"\n",
      "Warning message:\n",
      "\"It is deprecated to specify `guide = FALSE` to remove a guide. Please use `guide = \"none\"` instead.\"\n",
      "Saving 6.67 x 6.67 in image\n",
      "\n",
      "Warning message:\n",
      "\"Ignoring unknown aesthetics: z\"\n",
      "Coordinate system already present. Adding new coordinate system, which will replace the existing one.\n",
      "\n",
      "Warning message:\n",
      "\"It is deprecated to specify `guide = FALSE` to remove a guide. Please use `guide = \"none\"` instead.\"\n",
      "Warning message:\n",
      "\"It is deprecated to specify `guide = FALSE` to remove a guide. Please use `guide = \"none\"` instead.\"\n",
      "Saving 6.67 x 6.67 in image\n",
      "\n"
     ]
    }
   ],
   "source": [
    "for (i in years) {\n",
    "    in_path = sprintf(\"%s/%s_NeighPerc_comb.geojson\",path, i)\n",
    "    group00 <-'mean_Northern_Africa'\n",
    "    group01 <-'mean_EuropeEUnoLocal'\n",
    "    group02 <-'mean_Latin_America_and_the_Caribbean'\n",
    "    name_group00 <- 'Northern Africa'\n",
    "    name_group01 <- 'EU'\n",
    "    name_group02 <- 'Latin America'\n",
    "    out_file <- 'tricNCentD_G01'\n",
    "    plotTricoloreNonCentered(in_path, group00, group01, group02, name_group00, name_group01, name_group02, out_path, out_file)\n",
    "}"
   ]
  },
  {
   "cell_type": "markdown",
   "metadata": {},
   "source": [
    "### Group02"
   ]
  },
  {
   "cell_type": "code",
   "execution_count": 27,
   "metadata": {},
   "outputs": [
    {
     "name": "stderr",
     "output_type": "stream",
     "text": [
      "Warning message:\n",
      "\"Ignoring unknown aesthetics: z\"\n",
      "Coordinate system already present. Adding new coordinate system, which will replace the existing one.\n",
      "\n",
      "Warning message:\n",
      "\"Removed 5 rows containing missing values (geom_point).\"\n",
      "Warning message:\n",
      "\"It is deprecated to specify `guide = FALSE` to remove a guide. Please use `guide = \"none\"` instead.\"\n",
      "Warning message:\n",
      "\"It is deprecated to specify `guide = FALSE` to remove a guide. Please use `guide = \"none\"` instead.\"\n",
      "Saving 6.67 x 6.67 in image\n",
      "\n",
      "Warning message:\n",
      "\"Ignoring unknown aesthetics: z\"\n",
      "Coordinate system already present. Adding new coordinate system, which will replace the existing one.\n",
      "\n",
      "Warning message:\n",
      "\"Removed 3 rows containing missing values (geom_point).\"\n",
      "Warning message:\n",
      "\"It is deprecated to specify `guide = FALSE` to remove a guide. Please use `guide = \"none\"` instead.\"\n",
      "Warning message:\n",
      "\"It is deprecated to specify `guide = FALSE` to remove a guide. Please use `guide = \"none\"` instead.\"\n",
      "Saving 6.67 x 6.67 in image\n",
      "\n",
      "Warning message:\n",
      "\"Ignoring unknown aesthetics: z\"\n",
      "Coordinate system already present. Adding new coordinate system, which will replace the existing one.\n",
      "\n",
      "Warning message:\n",
      "\"Removed 1 rows containing missing values (geom_point).\"\n",
      "Warning message:\n",
      "\"It is deprecated to specify `guide = FALSE` to remove a guide. Please use `guide = \"none\"` instead.\"\n",
      "Warning message:\n",
      "\"It is deprecated to specify `guide = FALSE` to remove a guide. Please use `guide = \"none\"` instead.\"\n",
      "Saving 6.67 x 6.67 in image\n",
      "\n",
      "Warning message:\n",
      "\"Ignoring unknown aesthetics: z\"\n",
      "Coordinate system already present. Adding new coordinate system, which will replace the existing one.\n",
      "\n",
      "Warning message:\n",
      "\"It is deprecated to specify `guide = FALSE` to remove a guide. Please use `guide = \"none\"` instead.\"\n",
      "Warning message:\n",
      "\"It is deprecated to specify `guide = FALSE` to remove a guide. Please use `guide = \"none\"` instead.\"\n",
      "Saving 6.67 x 6.67 in image\n",
      "\n"
     ]
    }
   ],
   "source": [
    "for (i in years) {\n",
    "    in_path = sprintf(\"%s/%s_NeighPerc_comb.geojson\",path, i)\n",
    "    group00 <-'mean_totalMig'\n",
    "    group01 <-'mean_EuropeEUnoLocal'\n",
    "    group02 <-'mean_Latin_America_and_the_Caribbean'\n",
    "    name_group00 <- 'Total Migration'\n",
    "    name_group01 <- 'EU'\n",
    "    name_group02 <- 'Latin America'\n",
    "    out_file <- 'tricNCentD_G02'\n",
    "    plotTricoloreNonCentered(in_path, group00, group01, group02, name_group00, name_group01, name_group02, out_path, out_file)\n",
    "}"
   ]
  },
  {
   "cell_type": "markdown",
   "metadata": {},
   "source": [
    "### Group03"
   ]
  },
  {
   "cell_type": "code",
   "execution_count": 28,
   "metadata": {},
   "outputs": [
    {
     "name": "stderr",
     "output_type": "stream",
     "text": [
      "Warning message:\n",
      "\"Ignoring unknown aesthetics: z\"\n",
      "Coordinate system already present. Adding new coordinate system, which will replace the existing one.\n",
      "\n",
      "Warning message:\n",
      "\"Removed 6 rows containing missing values (geom_point).\"\n",
      "Warning message:\n",
      "\"It is deprecated to specify `guide = FALSE` to remove a guide. Please use `guide = \"none\"` instead.\"\n",
      "Warning message:\n",
      "\"It is deprecated to specify `guide = FALSE` to remove a guide. Please use `guide = \"none\"` instead.\"\n",
      "Saving 6.67 x 6.67 in image\n",
      "\n",
      "Warning message:\n",
      "\"Ignoring unknown aesthetics: z\"\n",
      "Coordinate system already present. Adding new coordinate system, which will replace the existing one.\n",
      "\n",
      "Warning message:\n",
      "\"Removed 6 rows containing missing values (geom_point).\"\n",
      "Warning message:\n",
      "\"It is deprecated to specify `guide = FALSE` to remove a guide. Please use `guide = \"none\"` instead.\"\n",
      "Warning message:\n",
      "\"It is deprecated to specify `guide = FALSE` to remove a guide. Please use `guide = \"none\"` instead.\"\n",
      "Saving 6.67 x 6.67 in image\n",
      "\n",
      "Warning message:\n",
      "\"Ignoring unknown aesthetics: z\"\n",
      "Coordinate system already present. Adding new coordinate system, which will replace the existing one.\n",
      "\n",
      "Warning message:\n",
      "\"Removed 1 rows containing missing values (geom_point).\"\n",
      "Warning message:\n",
      "\"It is deprecated to specify `guide = FALSE` to remove a guide. Please use `guide = \"none\"` instead.\"\n",
      "Warning message:\n",
      "\"It is deprecated to specify `guide = FALSE` to remove a guide. Please use `guide = \"none\"` instead.\"\n",
      "Saving 6.67 x 6.67 in image\n",
      "\n",
      "Warning message:\n",
      "\"Ignoring unknown aesthetics: z\"\n",
      "Coordinate system already present. Adding new coordinate system, which will replace the existing one.\n",
      "\n",
      "Warning message:\n",
      "\"It is deprecated to specify `guide = FALSE` to remove a guide. Please use `guide = \"none\"` instead.\"\n",
      "Warning message:\n",
      "\"It is deprecated to specify `guide = FALSE` to remove a guide. Please use `guide = \"none\"` instead.\"\n",
      "Saving 6.67 x 6.67 in image\n",
      "\n"
     ]
    }
   ],
   "source": [
    "for (i in years) {\n",
    "    in_path = sprintf(\"%s/%s_NeighPerc_comb.geojson\",path, i)\n",
    "    group00 <-'mean_Western_Asia'\n",
    "    group01 <-'mean_Northern_Africa'\n",
    "    group02 <-'mean_Sub.Saharan_Africa'\n",
    "    name_group00 <- 'Western Asia'\n",
    "    name_group01 <- 'Northern Africa'\n",
    "    name_group02 <- 'Sub-Saharan Africa'\n",
    "    out_file <- 'tricNCent_G03'\n",
    "    plotTricoloreNonCentered(in_path, group00, group01, group02, name_group00, name_group01, name_group02, out_path, out_file)\n",
    "}"
   ]
  },
  {
   "cell_type": "code",
   "execution_count": null,
   "metadata": {},
   "outputs": [],
   "source": []
  }
 ],
 "metadata": {
  "kernelspec": {
   "display_name": "R",
   "language": "R",
   "name": "ir"
  },
  "language_info": {
   "codemirror_mode": "r",
   "file_extension": ".r",
   "mimetype": "text/x-r-source",
   "name": "R",
   "pygments_lexer": "r",
   "version": "4.1.1"
  }
 },
 "nbformat": 4,
 "nbformat_minor": 4
}

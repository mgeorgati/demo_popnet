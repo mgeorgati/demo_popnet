{
 "metadata": {
  "language_info": {
   "codemirror_mode": {
    "name": "ipython",
    "version": 3
   },
   "file_extension": ".py",
   "mimetype": "text/x-python",
   "name": "python",
   "nbconvert_exporter": "python",
   "pygments_lexer": "ipython3",
   "version": 3
  },
  "orig_nbformat": 2
 },
 "nbformat": 4,
 "nbformat_minor": 2,
 "cells": [
  {
   "cell_type": "code",
   "execution_count": null,
   "metadata": {},
   "outputs": [],
   "source": [
    "from qgis.analysis import QgsZonalStatistics\n",
    "#specify polygon shapefile vector\n",
    "polygonLayer = QgsVectorLayer('C:/FUME/PopNetV2/data_prep/ams_ProjectData/AncillaryData/adm/neighborhood.geojson', 'neighborhood', \"ogr\") \n",
    "#Remove the standard columns from the unique Attributes and write file\n",
    "select = ['totalMig','Oceania', 'EuropeNotEU', 'EuropeEUnoLocal',  'Central_Asia', 'Eastern_Asia', 'Southern-Eastern_Asia', 'Southern_Asia', \n",
    "'Western_Asia', 'Northern_America', 'Latin_America_and_the_Caribbean', 'Northern_Africa', 'Sub-Saharan_Africa', 'Others', 'Colonies'] #'l1_totalpop', 'totalMig',\n",
    "for i in select:\n",
    "    # specify raster filename\n",
    "    rasterFilePath =  QgsRasterLayer('C:/FUME/PopNetV2/data_prep/ams_ProjectData/PopData/2018/temp_tifPercentages/2018_Z0_{}.tif'.format(i), 'mylayer')\n",
    "    polygonLayer.startEditing() \n",
    "    # usage - QgsZonalStatistics (QgsVectorLayer *polygonLayer, const QString &rasterFile, const QString &attributePrefix=\"\", int rasterBand=1)\n",
    "    zoneStat = QgsZonalStatistics (polygonLayer, rasterFilePath, 'Z0_{}'.format(i), 1, QgsZonalStatistics.Mean)\n",
    "    print(zoneStat)\n",
    "    zoneStat.calculateStatistics(None)\n",
    "    polygonLayer.commitChanges()\n"
   ]
  },
  {
   "cell_type": "code",
   "execution_count": null,
   "metadata": {},
   "outputs": [],
   "source": [
    "from qgis.analysis import QgsZonalStatistics\n",
    "#specify polygon shapefile vector\n",
    "polygonLayer = QgsVectorLayer('C:/FUME/PopNetV2/data_prep/ams_ProjectData/AncillaryData/adm/districts.geojson', 'districts', \"ogr\") \n",
    "#Remove the standard columns from the unique Attributes and write file\n",
    "select = ['totalMig','Oceania', 'EuropeNotEU', 'EuropeEUnoLocal',  'Central_Asia', 'Eastern_Asia', 'Southern-Eastern_Asia', 'Southern_Asia', \n",
    "'Western_Asia', 'Northern_America', 'Latin_America_and_the_Caribbean', 'Northern_Africa', 'Sub-Saharan_Africa', 'Others', 'Colonies'] #'l1_totalpop', 'totalMig',\n",
    "for i in select:\n",
    "    # specify raster filename\n",
    "    rasterFilePath =  QgsRasterLayer('C:/FUME/PopNetV2/data_prep/ams_ProjectData/PopData/2018/temp_tifPercentages/2018_Z0_{}.tif'.format(i), 'mylayer')\n",
    "    polygonLayer.startEditing() \n",
    "    # usage - QgsZonalStatistics (QgsVectorLayer *polygonLayer, const QString &rasterFile, const QString &attributePrefix=\"\", int rasterBand=1)\n",
    "    zoneStat = QgsZonalStatistics (polygonLayer, rasterFilePath, 'Z0_{}'.format(i), 1, QgsZonalStatistics.Mean)\n",
    "    print(zoneStat)\n",
    "    zoneStat.calculateStatistics(None)\n",
    "    polygonLayer.commitChanges()"
   ]
  }
 ]
}
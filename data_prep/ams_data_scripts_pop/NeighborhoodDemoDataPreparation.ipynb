{
 "metadata": {
  "language_info": {
   "codemirror_mode": {
    "name": "ipython",
    "version": 3
   },
   "file_extension": ".py",
   "mimetype": "text/x-python",
   "name": "python",
   "nbconvert_exporter": "python",
   "pygments_lexer": "ipython3",
   "version": "3.7.6"
  },
  "orig_nbformat": 2,
  "kernelspec": {
   "name": "python376jvsc74a57bd0d963e5a24eb07ae321cef4c8bf227867734dcbda4add7c05a49f0057f961a449",
   "display_name": "Python 3.7.6 64-bit ('popnet_env': conda)"
  }
 },
 "nbformat": 4,
 "nbformat_minor": 2,
 "cells": [
  {
   "source": [
    "### The present script processes data for Amsterdam for education and income\n",
    "It reads the excel files, translates fields to english and exports to geojson"
   ],
   "cell_type": "markdown",
   "metadata": {}
  },
  {
   "cell_type": "code",
   "execution_count": 1,
   "metadata": {},
   "outputs": [],
   "source": [
    "import os\n",
    "import numpy as np\n",
    "import pandas as pd\n",
    "import geopandas as gpd\n",
    "import openpyxl\n",
    "import matplotlib.pyplot as plt\n",
    "import seaborn as sns\n",
    "%matplotlib inline"
   ]
  },
  {
   "cell_type": "code",
   "execution_count": 2,
   "metadata": {},
   "outputs": [
    {
     "output_type": "stream",
     "name": "stdout",
     "text": [
      "c:\\FUME\\PopNetV2\n"
     ]
    }
   ],
   "source": [
    "city=\"ams\"\n",
    "base_dir = os.path.dirname(os.path.dirname(os.path.dirname(os.path.abspath(\"__file__\"))))\n",
    "print(base_dir)\n",
    "# Paths for the Population Data --------------------------------------------------------------\n",
    "#path to ancillary data folder\n",
    "ancillary_data_folder_path = base_dir + \"/data_prep/{}_Projectdata/AncillaryData\".format(city)\n",
    "ancillary_POPdata_folder_path = base_dir + \"/data_prep/{}_Projectdata/PopData\".format(city)\n",
    "neighPath = ancillary_POPdata_folder_path + \"/Neighborhood&districtData\"\n",
    "#cor_path= base_dir + \"/data_prep/{}_data_scripts_pop/correlations/corImages\".format(city)\n",
    "#image_path= base_dir + \"/data_prep/{}_Projectdata/PopData/images\".format(city)"
   ]
  },
  {
   "cell_type": "code",
   "execution_count": 3,
   "metadata": {},
   "outputs": [],
   "source": [
    "# Create a function to write Excel files\n",
    "def save_EXCEL(frame,output):\n",
    "    # Create a Pandas Excel writer using XlsxWriter as the engine.\n",
    "    writer = pd.ExcelWriter(output,  index = False,  header=True)\n",
    "    # Convert the dataframe to an XlsxWriter Excel object.\n",
    "    frame.to_excel(writer, sheet_name='Sheet1')\n",
    "    # Close the Pandas Excel writer and output the Excel file.\n",
    "    writer.save()"
   ]
  },
  {
   "source": [
    "## 1. Income"
   ],
   "cell_type": "markdown",
   "metadata": {}
  },
  {
   "cell_type": "code",
   "execution_count": null,
   "metadata": {},
   "outputs": [],
   "source": [
    "yearlist =[2014, 2016, 2018]\n",
    "for year in yearlist:\n",
    "    path = neighPath + \"/rawDataNeighborhoods/income/Inc_Amsterdam_{}.xlsx\".format(year)\n",
    "    df = pd.read_excel(path, header=0, skiprows=3 )\n",
    "\n",
    "    df.rename(columns = {'Inkomen|Inkomen van personen|Aantal inkomensontvangers  ':'Number of income recipients',\n",
    "    'Inkomen|Inkomen van personen|Gemiddeld inkomen per inkomensontvanger ':'Average income per income recipient (x 1 000 euro)',\n",
    "    'Inkomen|Inkomen van personen|Gemiddeld inkomen per inwoner ':'Average income per inhabitant (x 1 000 euro)',\n",
    "    'Inkomen|Inkomen van personen|40% personen met laagste inkomen':'40% persons with lowest income (%)',\n",
    "    'Inkomen|Inkomen van personen|20% personen met hoogste inkomen':'20% of persons with highest income(%)',\n",
    "    'Inkomen|Inkomen van personen|Actieven 15-75 jaar':'Active 15-75 years (%)',\n",
    "    'Inkomen|Inkomen van huishoudens|40% huishoudens met laagste inkomen':'40% households with the lowest income (%)',\n",
    "    'Inkomen|Inkomen van huishoudens|20% huishoudens met hoogste inkomen':'20% households with the highest income (%)',\n",
    "    'Inkomen|Inkomen van huishoudens|Huishoudens met een laag inkomen':'Low Income Households (%)',\n",
    "    'Inkomen|Inkomen van huishoudens|Huish. onder of rond sociaal minimum':'Household. below or around the social minimum (%)',\n",
    "    'Unnamed: 0':'Districts and neighborhoods'}, inplace = True)\n",
    "\n",
    "    output = neighPath + \"/incomeProcess/income_{}.xlsx\".format(year)\n",
    "    save_EXCEL(df.iloc[1:,],output)"
   ]
  },
  {
   "cell_type": "code",
   "execution_count": null,
   "metadata": {},
   "outputs": [],
   "source": [
    "path = neighPath + \"/incomeProcess/income_2018.xlsx\"\n",
    "df = pd.read_excel(path, header=0, index_col='Districts and neighborhoods' , usecols=range(1,11))"
   ]
  },
  {
   "cell_type": "code",
   "execution_count": null,
   "metadata": {},
   "outputs": [],
   "source": [
    "df = df.replace(\".\", \"\")\n",
    "df = df.replace(np.nan, \"\")"
   ]
  },
  {
   "cell_type": "code",
   "execution_count": null,
   "metadata": {},
   "outputs": [],
   "source": [
    "for i in df.columns:\n",
    "    df['{}'.format(i)] = pd.to_numeric(df['{}'.format(i)])"
   ]
  },
  {
   "cell_type": "code",
   "execution_count": null,
   "metadata": {},
   "outputs": [],
   "source": [
    "df.dtypes"
   ]
  },
  {
   "cell_type": "code",
   "execution_count": null,
   "metadata": {},
   "outputs": [],
   "source": [
    "gdf = gpd.read_file(ancillary_data_folder_path + '/adm/neighborhood_orig.geojson')#  index_col= 'Buurtcombinatie'\n",
    "gdf"
   ]
  },
  {
   "cell_type": "code",
   "execution_count": null,
   "metadata": {},
   "outputs": [],
   "source": [
    "ngdf = gdf.join(df, on ='Buurtcombinatie')"
   ]
  },
  {
   "cell_type": "code",
   "execution_count": null,
   "metadata": {},
   "outputs": [],
   "source": [
    "ngdf = ngdf.to_crs(3035)\n",
    "ngdf.to_file(neighPath + \"/incomeProcess/neighIncome_2018.geojson\",driver='GeoJSON',crs=\"EPSG:3035\")"
   ]
  },
  {
   "source": [
    "## 2. Education"
   ],
   "cell_type": "markdown",
   "metadata": {}
  },
  {
   "cell_type": "code",
   "execution_count": null,
   "metadata": {},
   "outputs": [],
   "source": [
    "yearlist =[2019]\n",
    "gdf = gpd.read_file(ancillary_data_folder_path + '/adm/neighborhood_orig.geojson')\n",
    "for year in yearlist:\n",
    "    path = neighPath + \"/rawDataNeighborhoods/education/Educ_Amsterdam_{}.xlsx\".format(year)\n",
    "    df = pd.read_excel(path, header=0, skiprows=4 )\n",
    "    ndf = df.iloc[2: , np.r_[0, 10:13]]\n",
    "    #print(ndf)\n",
    "    for col in ndf.iloc[:, 1:].columns:\n",
    "        #print(pd.to_numeric(ndf[col], errors='coerce').isnull())\n",
    "        ndf[col] = pd.to_numeric(ndf[col], errors='coerce')\n",
    "    print(ndf)\n",
    "    ngdf = gdf.join(ndf.set_index('Marges'), on ='Buurtcombinatie')   \n",
    "    print(ngdf)\n",
    "    ngdf = ngdf.to_crs(3035)\n",
    "    ngdf.to_file(neighPath + \"/educationProcess/neighEduc_2019.geojson\",driver='GeoJSON',crs=\"EPSG:3035\")  "
   ]
  },
  {
   "source": [
    "## 3. Other Demographic"
   ],
   "cell_type": "markdown",
   "metadata": {}
  },
  {
   "cell_type": "code",
   "execution_count": null,
   "metadata": {},
   "outputs": [],
   "source": [
    "pathCodes = neighPath + \"/rawDataNeighborhoods/demographic/codebook.xlsx\"\n",
    "codes = pd.read_excel(pathCodes, header=0)\n",
    "codes"
   ]
  },
  {
   "cell_type": "code",
   "execution_count": null,
   "metadata": {},
   "outputs": [],
   "source": [
    "yearlist =[2019]\n",
    "for year in yearlist:\n",
    "    path = neighPath + \"/rawDataNeighborhoods/demographic/{}.xls\".format(year)\n",
    "    df = pd.read_excel(path, header=0)\n",
    "    df = df.replace(\".\", \"\")\n",
    "    df = df.replace(np.nan, \"\")\n",
    "    for col in df.columns:\n",
    "        #print(col)\n",
    "        try:\n",
    "            newName = codes.loc[codes.variable_name_NLD == '{}'.format(col), 'name'].values[0]\n",
    "            df.rename(columns = {'{}'.format(col):'{}'.format(newName)}, inplace = True)\n",
    "            \n",
    "        except:\n",
    "            print(\"An exception occurred : {}\".format(col))\n",
    "    df = df.replace(\".\", \"\")\n",
    "    df = df.replace(np.nan, \"\")   \n",
    "    ngdf = gdf.join(df.set_index('region designation'), on ='Buurtcombinatie')  \n",
    "    ngdf = ngdf.to_crs(3035)\n",
    "\n",
    "    ngdf.to_file(neighPath + \"/demographicProcess/neighDemo_{}.geojson\".format(year),driver='GeoJSON',crs=\"EPSG:3035\") \n",
    "    ngdf"
   ]
  },
  {
   "cell_type": "code",
   "execution_count": null,
   "metadata": {},
   "outputs": [],
   "source": [
    "for year in yearlist:\n",
    "    ngdf = gpd.read_file(neighPath + \"/demographicProcess/neighDemo_{}.geojson\".format(year)) \n",
    "    for col in ngdf.columns:\n",
    "        if ngdf[col].dtype == object :\n",
    "            \n",
    "            ngdf[col] = ngdf[col].astype('string')\n",
    "            ngdf[col] = ngdf[col].str.replace(',', '.')\n",
    "            #print(ngdf[col].dtype)\n",
    "    for i in ngdf.iloc[: , 10:112].columns:\n",
    "        ngdf['{}'.format(i)] = pd.to_numeric(ngdf['{}'.format(i)])\n",
    "\n",
    "    ngdf.to_file(neighPath + \"/demographicProcess/neighDemo_{}.geojson\".format(year),driver='GeoJSON',crs=\"EPSG:3035\")"
   ]
  },
  {
   "source": [
    "## Combine all of them together"
   ],
   "cell_type": "markdown",
   "metadata": {}
  },
  {
   "cell_type": "code",
   "execution_count": 4,
   "metadata": {},
   "outputs": [],
   "source": [
    "gdf = gpd.read_file(ancillary_data_folder_path + '/adm/neighborhood.geojson')\n",
    "gdfDF = gdf.iloc[:, np.r_[1, 4:19, 34]]\n",
    "demoDF = gpd.read_file(neighPath + \"/demographicProcess/neighDemo_2019.geojson\")\n",
    "demoDF= demoDF.iloc[:, np.r_[1, 10:112]]\n",
    "eduDF = gpd.read_file(neighPath + \"/educationProcess/neighEduc_2019.geojson\")\n",
    "eduDF = eduDF.iloc[:, np.r_[1, 4:7]]\n",
    "incDF = gpd.read_file(neighPath + \"/incomeProcess/neighIncome_2018.geojson\")\n",
    "incDF = incDF.iloc[:, np.r_[1, 4:13]]"
   ]
  },
  {
   "cell_type": "code",
   "execution_count": 16,
   "metadata": {},
   "outputs": [
    {
     "output_type": "stream",
     "name": "stdout",
     "text": [
      "4\n10\n35\n"
     ]
    },
    {
     "output_type": "execute_result",
     "data": {
      "text/plain": [
       "            Buurtcombinatie  Z0_totalMigmean  Z0_Oceaniamean  \\\n",
       "0     Burgwallen-Oude Zijde        39.947753        0.929245   \n",
       "1   Burgwallen-Nieuwe Zijde        25.793523        0.352035   \n",
       "2       Grachtengordel-West        32.552016        1.255617   \n",
       "3       Grachtengordel-Zuid        37.391364        0.751304   \n",
       "4        Nieuwmarkt/Lastage        21.955385        0.446231   \n",
       "..                      ...              ...             ...   \n",
       "94     Bijlmer Oost (E,G,K)        32.077866        0.038007   \n",
       "95               Nellestein         3.599470        0.022268   \n",
       "96   Holendrecht/Reigersbos        32.884313        0.043639   \n",
       "97                     Gein        26.716381        0.049894   \n",
       "98                 Driemond         1.794276        0.027900   \n",
       "\n",
       "    Z0_EuropeNotEUmean  Z0_EuropeEUnoLocalmean  Z0_Central_Asiamean  \\\n",
       "0             0.388757               17.393425             0.098039   \n",
       "1             0.444715               13.714876             0.106426   \n",
       "2             0.165042               14.429546             0.006050   \n",
       "3             0.458965               15.750870             0.000000   \n",
       "4             0.147076                9.411507             0.013402   \n",
       "..                 ...                     ...                  ...   \n",
       "94            0.079519                2.816451             0.000792   \n",
       "95            0.019985                0.732587             0.000000   \n",
       "96            0.051399                3.111599             0.000000   \n",
       "97            0.079689                2.472885             0.000000   \n",
       "98            0.007463                0.494544             0.000000   \n",
       "\n",
       "    Z0_Eastern_Asiamean  Z0_Southern-Eastern_Asiamean  Z0_Southern_Asiamean  \\\n",
       "0              1.353986                      1.544781              1.163033   \n",
       "1              1.122117                      0.846579              1.132784   \n",
       "2              0.953645                      1.159272              1.048138   \n",
       "3              0.560946                      1.123838              1.335673   \n",
       "4              1.252798                      0.777626              0.778004   \n",
       "..                  ...                           ...                   ...   \n",
       "94             0.491629                      0.728148              2.338421   \n",
       "95             0.038969                      0.187866              0.241147   \n",
       "96             0.650323                      1.009374              1.764431   \n",
       "97             0.957156                      0.737388              1.944307   \n",
       "98             0.021110                      0.071694              0.028135   \n",
       "\n",
       "    Z0_Western_Asiamean  Z0_Northern_Americamean  \\\n",
       "0              1.906146                 2.897742   \n",
       "1              1.316518                 2.558255   \n",
       "2              1.280004                 4.918566   \n",
       "3              1.786036                 4.650562   \n",
       "4              1.325714                 1.886912   \n",
       "..                  ...                      ...   \n",
       "94             0.787927                 0.183693   \n",
       "95             0.132877                 0.066027   \n",
       "96             0.739900                 0.087831   \n",
       "97             0.462830                 0.144612   \n",
       "98             0.032805                 0.006024   \n",
       "\n",
       "    Z0_Latin_America_and_the_Caribbeanmean  Z0_Northern_Africamean  \\\n",
       "0                                 3.677510                1.280441   \n",
       "1                                 2.254081                0.686478   \n",
       "2                                 2.173815                0.368652   \n",
       "3                                 3.210037                1.506086   \n",
       "4                                 2.672397                0.417551   \n",
       "..                                     ...                     ...   \n",
       "94                               15.150100                0.700604   \n",
       "95                                1.085195                0.054569   \n",
       "96                               15.589230                0.860376   \n",
       "97                               11.017429                0.741630   \n",
       "98                                0.666100                0.045490   \n",
       "\n",
       "    Z0_Sub-Saharan_Africamean  Z0_Othersmean  Z0_Coloniesmean  \\\n",
       "0                    1.929392       2.847948         0.411290   \n",
       "1                    0.580114       3.471729         0.083719   \n",
       "2                    0.935398       1.725428         0.627649   \n",
       "3                    1.602664       2.844134         0.364422   \n",
       "4                    0.672160       1.717421         0.306554   \n",
       "..                        ...            ...              ...   \n",
       "94                   5.671821       0.652551         1.178030   \n",
       "95                   0.368531       0.225623         0.150678   \n",
       "96                   4.866349       0.584134         1.142149   \n",
       "97                   4.236686       0.743965         1.188112   \n",
       "98                   0.031167       0.033602         0.166749   \n",
       "\n",
       "                                             geometry  \n",
       "0   POLYGON ((4.90326 52.37658, 4.90298 52.37668, ...  \n",
       "1   POLYGON ((4.90641 52.38003, 4.90601 52.38009, ...  \n",
       "2   POLYGON ((4.89401 52.37875, 4.89369 52.37889, ...  \n",
       "3   POLYGON ((4.90278 52.36279, 4.90156 52.36515, ...  \n",
       "4   POLYGON ((4.91361 52.37259, 4.91359 52.37301, ...  \n",
       "..                                                ...  \n",
       "94  POLYGON ((4.99690 52.31763, 4.99679 52.31775, ...  \n",
       "95  POLYGON ((5.01407 52.30423, 5.01354 52.30445, ...  \n",
       "96  POLYGON ((4.98358 52.29045, 4.98228 52.29061, ...  \n",
       "97  POLYGON ((5.00796 52.30154, 5.00593 52.30154, ...  \n",
       "98  POLYGON ((5.02155 52.30244, 5.02147 52.30312, ...  \n",
       "\n",
       "[99 rows x 17 columns]"
      ],
      "text/html": "<div>\n<style scoped>\n    .dataframe tbody tr th:only-of-type {\n        vertical-align: middle;\n    }\n\n    .dataframe tbody tr th {\n        vertical-align: top;\n    }\n\n    .dataframe thead th {\n        text-align: right;\n    }\n</style>\n<table border=\"1\" class=\"dataframe\">\n  <thead>\n    <tr style=\"text-align: right;\">\n      <th></th>\n      <th>Buurtcombinatie</th>\n      <th>Z0_totalMigmean</th>\n      <th>Z0_Oceaniamean</th>\n      <th>Z0_EuropeNotEUmean</th>\n      <th>Z0_EuropeEUnoLocalmean</th>\n      <th>Z0_Central_Asiamean</th>\n      <th>Z0_Eastern_Asiamean</th>\n      <th>Z0_Southern-Eastern_Asiamean</th>\n      <th>Z0_Southern_Asiamean</th>\n      <th>Z0_Western_Asiamean</th>\n      <th>Z0_Northern_Americamean</th>\n      <th>Z0_Latin_America_and_the_Caribbeanmean</th>\n      <th>Z0_Northern_Africamean</th>\n      <th>Z0_Sub-Saharan_Africamean</th>\n      <th>Z0_Othersmean</th>\n      <th>Z0_Coloniesmean</th>\n      <th>geometry</th>\n    </tr>\n  </thead>\n  <tbody>\n    <tr>\n      <th>0</th>\n      <td>Burgwallen-Oude Zijde</td>\n      <td>39.947753</td>\n      <td>0.929245</td>\n      <td>0.388757</td>\n      <td>17.393425</td>\n      <td>0.098039</td>\n      <td>1.353986</td>\n      <td>1.544781</td>\n      <td>1.163033</td>\n      <td>1.906146</td>\n      <td>2.897742</td>\n      <td>3.677510</td>\n      <td>1.280441</td>\n      <td>1.929392</td>\n      <td>2.847948</td>\n      <td>0.411290</td>\n      <td>POLYGON ((4.90326 52.37658, 4.90298 52.37668, ...</td>\n    </tr>\n    <tr>\n      <th>1</th>\n      <td>Burgwallen-Nieuwe Zijde</td>\n      <td>25.793523</td>\n      <td>0.352035</td>\n      <td>0.444715</td>\n      <td>13.714876</td>\n      <td>0.106426</td>\n      <td>1.122117</td>\n      <td>0.846579</td>\n      <td>1.132784</td>\n      <td>1.316518</td>\n      <td>2.558255</td>\n      <td>2.254081</td>\n      <td>0.686478</td>\n      <td>0.580114</td>\n      <td>3.471729</td>\n      <td>0.083719</td>\n      <td>POLYGON ((4.90641 52.38003, 4.90601 52.38009, ...</td>\n    </tr>\n    <tr>\n      <th>2</th>\n      <td>Grachtengordel-West</td>\n      <td>32.552016</td>\n      <td>1.255617</td>\n      <td>0.165042</td>\n      <td>14.429546</td>\n      <td>0.006050</td>\n      <td>0.953645</td>\n      <td>1.159272</td>\n      <td>1.048138</td>\n      <td>1.280004</td>\n      <td>4.918566</td>\n      <td>2.173815</td>\n      <td>0.368652</td>\n      <td>0.935398</td>\n      <td>1.725428</td>\n      <td>0.627649</td>\n      <td>POLYGON ((4.89401 52.37875, 4.89369 52.37889, ...</td>\n    </tr>\n    <tr>\n      <th>3</th>\n      <td>Grachtengordel-Zuid</td>\n      <td>37.391364</td>\n      <td>0.751304</td>\n      <td>0.458965</td>\n      <td>15.750870</td>\n      <td>0.000000</td>\n      <td>0.560946</td>\n      <td>1.123838</td>\n      <td>1.335673</td>\n      <td>1.786036</td>\n      <td>4.650562</td>\n      <td>3.210037</td>\n      <td>1.506086</td>\n      <td>1.602664</td>\n      <td>2.844134</td>\n      <td>0.364422</td>\n      <td>POLYGON ((4.90278 52.36279, 4.90156 52.36515, ...</td>\n    </tr>\n    <tr>\n      <th>4</th>\n      <td>Nieuwmarkt/Lastage</td>\n      <td>21.955385</td>\n      <td>0.446231</td>\n      <td>0.147076</td>\n      <td>9.411507</td>\n      <td>0.013402</td>\n      <td>1.252798</td>\n      <td>0.777626</td>\n      <td>0.778004</td>\n      <td>1.325714</td>\n      <td>1.886912</td>\n      <td>2.672397</td>\n      <td>0.417551</td>\n      <td>0.672160</td>\n      <td>1.717421</td>\n      <td>0.306554</td>\n      <td>POLYGON ((4.91361 52.37259, 4.91359 52.37301, ...</td>\n    </tr>\n    <tr>\n      <th>...</th>\n      <td>...</td>\n      <td>...</td>\n      <td>...</td>\n      <td>...</td>\n      <td>...</td>\n      <td>...</td>\n      <td>...</td>\n      <td>...</td>\n      <td>...</td>\n      <td>...</td>\n      <td>...</td>\n      <td>...</td>\n      <td>...</td>\n      <td>...</td>\n      <td>...</td>\n      <td>...</td>\n      <td>...</td>\n    </tr>\n    <tr>\n      <th>94</th>\n      <td>Bijlmer Oost (E,G,K)</td>\n      <td>32.077866</td>\n      <td>0.038007</td>\n      <td>0.079519</td>\n      <td>2.816451</td>\n      <td>0.000792</td>\n      <td>0.491629</td>\n      <td>0.728148</td>\n      <td>2.338421</td>\n      <td>0.787927</td>\n      <td>0.183693</td>\n      <td>15.150100</td>\n      <td>0.700604</td>\n      <td>5.671821</td>\n      <td>0.652551</td>\n      <td>1.178030</td>\n      <td>POLYGON ((4.99690 52.31763, 4.99679 52.31775, ...</td>\n    </tr>\n    <tr>\n      <th>95</th>\n      <td>Nellestein</td>\n      <td>3.599470</td>\n      <td>0.022268</td>\n      <td>0.019985</td>\n      <td>0.732587</td>\n      <td>0.000000</td>\n      <td>0.038969</td>\n      <td>0.187866</td>\n      <td>0.241147</td>\n      <td>0.132877</td>\n      <td>0.066027</td>\n      <td>1.085195</td>\n      <td>0.054569</td>\n      <td>0.368531</td>\n      <td>0.225623</td>\n      <td>0.150678</td>\n      <td>POLYGON ((5.01407 52.30423, 5.01354 52.30445, ...</td>\n    </tr>\n    <tr>\n      <th>96</th>\n      <td>Holendrecht/Reigersbos</td>\n      <td>32.884313</td>\n      <td>0.043639</td>\n      <td>0.051399</td>\n      <td>3.111599</td>\n      <td>0.000000</td>\n      <td>0.650323</td>\n      <td>1.009374</td>\n      <td>1.764431</td>\n      <td>0.739900</td>\n      <td>0.087831</td>\n      <td>15.589230</td>\n      <td>0.860376</td>\n      <td>4.866349</td>\n      <td>0.584134</td>\n      <td>1.142149</td>\n      <td>POLYGON ((4.98358 52.29045, 4.98228 52.29061, ...</td>\n    </tr>\n    <tr>\n      <th>97</th>\n      <td>Gein</td>\n      <td>26.716381</td>\n      <td>0.049894</td>\n      <td>0.079689</td>\n      <td>2.472885</td>\n      <td>0.000000</td>\n      <td>0.957156</td>\n      <td>0.737388</td>\n      <td>1.944307</td>\n      <td>0.462830</td>\n      <td>0.144612</td>\n      <td>11.017429</td>\n      <td>0.741630</td>\n      <td>4.236686</td>\n      <td>0.743965</td>\n      <td>1.188112</td>\n      <td>POLYGON ((5.00796 52.30154, 5.00593 52.30154, ...</td>\n    </tr>\n    <tr>\n      <th>98</th>\n      <td>Driemond</td>\n      <td>1.794276</td>\n      <td>0.027900</td>\n      <td>0.007463</td>\n      <td>0.494544</td>\n      <td>0.000000</td>\n      <td>0.021110</td>\n      <td>0.071694</td>\n      <td>0.028135</td>\n      <td>0.032805</td>\n      <td>0.006024</td>\n      <td>0.666100</td>\n      <td>0.045490</td>\n      <td>0.031167</td>\n      <td>0.033602</td>\n      <td>0.166749</td>\n      <td>POLYGON ((5.02155 52.30244, 5.02147 52.30312, ...</td>\n    </tr>\n  </tbody>\n</table>\n<p>99 rows × 17 columns</p>\n</div>"
     },
     "metadata": {},
     "execution_count": 16
    }
   ],
   "source": [
    "#print(len(demoDF.columns))\n",
    "print(len(eduDF.columns))\n",
    "print(len(incDF.columns))\n",
    "print(len(gdf.columns))\n",
    "gdf.iloc[:, np.r_[1, 4:19, 34]]\n",
    "#eduDF.iloc[:, np.r_[1, 4:7]]\n",
    "#incDF.iloc[:, np.r_[1, 4:13]].head(2)"
   ]
  },
  {
   "cell_type": "code",
   "execution_count": 5,
   "metadata": {},
   "outputs": [],
   "source": [
    "ngdf = gdfDF.join(incDF.set_index('Buurtcombinatie'), on ='Buurtcombinatie')"
   ]
  },
  {
   "cell_type": "code",
   "execution_count": 6,
   "metadata": {},
   "outputs": [],
   "source": [
    "ngdf = ngdf.join(demoDF.set_index('Buurtcombinatie'), on ='Buurtcombinatie', how='left', lsuffix='_left', rsuffix='_right')"
   ]
  },
  {
   "cell_type": "code",
   "execution_count": 7,
   "metadata": {},
   "outputs": [],
   "source": [
    "ngdf = ngdf.join(eduDF.set_index('Buurtcombinatie'), on ='Buurtcombinatie', how='left', lsuffix='_left', rsuffix='_right')"
   ]
  },
  {
   "cell_type": "code",
   "execution_count": 11,
   "metadata": {},
   "outputs": [],
   "source": [
    "for i in ngdf.iloc[: , 85:102].columns:\n",
    "        ngdf['{}'.format(i)] = pd.to_numeric(ngdf['{}'.format(i)])"
   ]
  },
  {
   "cell_type": "code",
   "execution_count": 14,
   "metadata": {},
   "outputs": [],
   "source": [
    "ngdf= ngdf.to_crs(3035)"
   ]
  },
  {
   "cell_type": "code",
   "execution_count": 12,
   "metadata": {},
   "outputs": [
    {
     "output_type": "stream",
     "name": "stdout",
     "text": [
      "<class 'geopandas.geodataframe.GeoDataFrame'>\nInt64Index: 160 entries, 0 to 98\nData columns (total 131 columns):\n #   Column                                               Dtype   \n---  ------                                               -----   \n 0   Buurtcombinatie                                      object  \n 1   Z0_totalMigmean                                      float64 \n 2   Z0_Oceaniamean                                       float64 \n 3   Z0_EuropeNotEUmean                                   float64 \n 4   Z0_EuropeEUnoLocalmean                               float64 \n 5   Z0_Central_Asiamean                                  float64 \n 6   Z0_Eastern_Asiamean                                  float64 \n 7   Z0_Southern-Eastern_Asiamean                         float64 \n 8   Z0_Southern_Asiamean                                 float64 \n 9   Z0_Western_Asiamean                                  float64 \n 10  Z0_Northern_Americamean                              float64 \n 11  Z0_Latin_America_and_the_Caribbeanmean               float64 \n 12  Z0_Northern_Africamean                               float64 \n 13  Z0_Sub-Saharan_Africamean                            float64 \n 14  Z0_Othersmean                                        float64 \n 15  Z0_Coloniesmean                                      float64 \n 16  geometry                                             geometry\n 17  Number of income recipients_left                     float64 \n 18  Average income per income recipient (x 1 000 euro)   float64 \n 19  Average income per inhabitant (x 1 000 euro)         float64 \n 20  40% persons with lowest income (%)                   float64 \n 21  20% of persons with highest income(%)                float64 \n 22  Active 15-75 years (%)                               float64 \n 23  40% households with the lowest income (%)            float64 \n 24  20% households with the highest income (%)           float64 \n 25  Low Income Households (%)                            float64 \n 26  Number of inhabitants                                float64 \n 27  men                                                  float64 \n 28  women                                                float64 \n 29  age 0 to 15 years                                    float64 \n 30  age 15 to 25 years                                   float64 \n 31  age 45 to 65 years                                   float64 \n 32  a_45_64                                              float64 \n 33  age 65 years or older                                float64 \n 34  unmarried                                            float64 \n 35  a_gehuwd                                             float64 \n 36  divorced                                             float64 \n 37  widdowed                                             float64 \n 38  total Western                                        float64 \n 39  total non-Western                                    float64 \n 40  Moroccan                                             float64 \n 41  Netherlands Antilles and Aruba                       float64 \n 42  Surinamese                                           float64 \n 43  Turkish                                              float64 \n 44  other non-Western                                    float64 \n 45  total births                                         float64 \n 46  relative births                                      float64 \n 47  total mortality                                      float64 \n 48  relative mortality                                   float64 \n 49  total households                                     float64 \n 50  single households                                    float64 \n 51  households without children                          float64 \n 52  households with children                             float64 \n 53  average household size                               float64 \n 54  population density                                   float64 \n 55  housing stock                                        float64 \n 56  average house value                                  float64 \n 57  percentage single-family homes                       float64 \n 58  percentage multi-family homes                        float64 \n 59  percentage inhabited                                 float64 \n 60  percentage uninhabited                               float64 \n 61  percentage owner-occupied homes                      float64 \n 62  total rental properties                              float64 \n 63  owned by a housing association                       float64 \n 64  owned by other landlords                             float64 \n 65  ownership unknown                                    float64 \n 66  built before 2000                                    float64 \n 67  built after 2000                                     float64 \n 68  Average electricity consumption total                float64 \n 69  Average electricity consumption appartment           float64 \n 70  Average electricity consumption terraced house       float64 \n 71  Average electricity consumption corner house         float64 \n 72  Average electricity consumption semidetached house   float64 \n 73  Average electricity consumption detached house       float64 \n 74  Average electricity consumption rental home          float64 \n 75  Average electricity consumption owner-occupied home  float64 \n 76  Average gas consumption total                        float64 \n 77  Average gas consumption appartment                   float64 \n 78  Average gas consumption terraced house               float64 \n 79  Average gas consumption corner house                 float64 \n 80  Average gas consumption semidetached house           float64 \n 81  Average gas consumption detached house               float64 \n 82  Average gas consumption rental home                  float64 \n 83  Average gas consumption owner-occupied home          float64 \n 84  Percentage of homes with district heating            float64 \n 85  Number of income recipients_right                    float64 \n 86  Average income per income recipient                  float64 \n 87  Average income per inhabitant                        float64 \n 88  p_ink_li                                             float64 \n 89  20% persons with the highest income                  float64 \n 90  Active 15-75 years                                   float64 \n 91  40% households with the lowest income                float64 \n 92  20% households with the highest income               float64 \n 93  Low-income households                                float64 \n 94  Households below or around the social minimum        float64 \n 95  Persons per type of benefit; Assistance              float64 \n 96  Persons per type of benefit; incapacity for work     float64 \n 97  Persons per type of benefit; unemployment benefits   float64 \n 98  Persons per type of benefit; pensions                float64 \n 99  Total theft                                          float64 \n 100 Destruction, crime against public order              float64 \n 101 Violent and Sexual Crimes                            float64 \n 102 Total company locations                              float64 \n 103 A Agriculture, forestry and fishing                  float64 \n 104 B-F Industry and energy                              float64 \n 105 G + I Trade and catering                             float64 \n 106 H + J Transport, information and communication       float64 \n 107 K-L Financial services, real estate                  float64 \n 108 M-N Business services                                float64 \n 109 R-U Culture, recreation, other services              float64 \n 110 Passenger cars total                                 float64 \n 111 Passenger cars; fuel gasoline                        float64 \n 112 Passenger cars; other fuel                           float64 \n 113 Passenger cars per household                         float64 \n 114 Passenger cars by surface                            float64 \n 115 Motorcycles                                          float64 \n 116 Distance to general practice; distance               float64 \n 117 Distance to large supermarket                        float64 \n 118 Distance to daycare center                           float64 \n 119 Distance to school                                   float64 \n 120 Schools within 3 km                                  float64 \n 121 Total area                                           float64 \n 122 Surface of land                                      float64 \n 123 Surface water                                        float64 \n 124 Most common zip code                                 float64 \n 125 Coverage percentage                                  float64 \n 126 Degree of urbanity                                   float64 \n 127 Environmental address density                        float64 \n 128 Lower limit 95% interval.3                           float64 \n 129 Lower limit 95% interval.4                           float64 \n 130 Lower limit 95% interval.5                           float64 \ndtypes: float64(129), geometry(1), object(1)\nmemory usage: 165.0+ KB\n"
     ]
    }
   ],
   "source": [
    "ngdf.info(verbose=True)"
   ]
  },
  {
   "source": [
    "## Save the final combinations files"
   ],
   "cell_type": "markdown",
   "metadata": {}
  },
  {
   "cell_type": "code",
   "execution_count": 15,
   "metadata": {},
   "outputs": [],
   "source": [
    "ngdf.to_file(neighPath + \"/neighAllDemo_2018.geojson\",driver='GeoJSON',crs=\"EPSG:3035\")\n",
    "save_EXCEL(ngdf,neighPath + \"/neighAllDemo_2018.xlsx\")"
   ]
  },
  {
   "cell_type": "code",
   "execution_count": null,
   "metadata": {},
   "outputs": [],
   "source": []
  }
 ]
}
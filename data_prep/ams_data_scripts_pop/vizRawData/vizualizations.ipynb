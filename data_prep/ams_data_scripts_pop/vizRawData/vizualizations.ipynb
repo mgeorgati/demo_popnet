{
 "cells": [
  {
   "cell_type": "markdown",
   "metadata": {},
   "source": [
    "# Line Diagrams from excel\n",
    "This script summarizes the regions and the countries in excel and then create line diagrams for various groups"
   ]
  },
  {
   "cell_type": "code",
   "execution_count": 1,
   "metadata": {},
   "outputs": [],
   "source": [
    "import os\n",
    "import numpy as np\n",
    "import pandas as pd\n",
    "import geopandas as gpd\n",
    "import openpyxl\n",
    "import matplotlib.pyplot as plt\n",
    "import random \n",
    "%matplotlib inline"
   ]
  },
  {
   "cell_type": "code",
   "execution_count": 2,
   "metadata": {},
   "outputs": [],
   "source": [
    "import sys\n",
    "sys.path.append(os.path.dirname(os.path.dirname(os.path.abspath(\"__file__\"))))\n",
    "from variables import base_dir, ancillary_POPdata_folder_path, ancillary_data_folder_path, city, country_Orig\n",
    "from mainFunctions import createFolder, dfTOxls, generate_colors, unique, lineDiagram\n",
    "current_path = os.path.dirname(os.path.abspath(\"__file__\"))\n",
    "image_path = current_path + \"/IMAGES\"\n",
    "years_list=[1992,1994,1996,1998,2000,2002,2004,2006,2008,2010,2012,2014,2016,2018] #"
   ]
  },
  {
   "cell_type": "markdown",
   "metadata": {},
   "source": [
    "### Create dataframe for sum of all countries and save to EXCEL "
   ]
  },
  {
   "cell_type": "code",
   "execution_count": null,
   "metadata": {},
   "outputs": [],
   "source": [
    "#Remove the standard columns from the unique Attributes and write file\n",
    "select = [ 'Oceania', 'EuropeNotEU', 'EuropeEUnoLocal',  'Central_Asia', 'Eastern_Asia', 'Southern-Eastern_Asia', 'Southern_Asia', \n",
    "'Western_Asia', 'Northern_America', 'Latin_America_and_the_Caribbean', 'Northern_Africa', 'Sub-Saharan_Africa', 'Others', 'Colonies']  "
   ]
  },
  {
   "cell_type": "code",
   "execution_count": null,
   "metadata": {},
   "outputs": [],
   "source": [
    "frame = pd.DataFrame(columns=select)\n",
    "year = ['1992','1994','1996','1998','2000','2002','2004','2006','2008','2010','2012','2014','2016','2018']\n",
    "frame['Year'] = year"
   ]
  },
  {
   "cell_type": "code",
   "execution_count": null,
   "metadata": {},
   "outputs": [],
   "source": [
    "nframe= frame.set_index('Year')\n",
    "for year in years_list:\n",
    "    pathI = ancillary_POPdata_folder_path + \"/{0}/{0}.xlsx\".format(year)\n",
    "    dfI = pd.read_excel(pathI, header=0 )\n",
    "    for x in select: \n",
    "        if x in dfI.columns:\n",
    "            nframe.at['{}'.format(year), x ] = dfI['{}'.format(x)].sum()\n",
    "        else:\n",
    "            nframe.at['{}'.format(year), x ] = 0 \n",
    "\n",
    "dfTOxls(ancillary_POPdata_folder_path + \"/EXCEL/\", '00SumsByRegion', nframe)"
   ]
  },
  {
   "cell_type": "code",
   "execution_count": null,
   "metadata": {},
   "outputs": [],
   "source": [
    "df = pd.read_excel(ancillary_POPdata_folder_path + \"/EXCEL/00SumsByRegion.xlsx\", header=0)\n",
    "print(df.head())\n",
    "ndf = df.set_index('Year')\n",
    "print(ndf.head())"
   ]
  },
  {
   "cell_type": "code",
   "execution_count": null,
   "metadata": {},
   "outputs": [],
   "source": [
    "L_select = [ 'EuropeEUnoLocal',  'Eastern_Asia', 'Southern-Eastern_Asia', 'Southern_Asia', \n",
    "'Western_Asia', 'Northern_America', 'Latin_America_and_the_Caribbean', 'Northern_Africa', 'Sub-Saharan_Africa', 'Others', 'Colonies']"
   ]
  },
  {
   "cell_type": "code",
   "execution_count": null,
   "metadata": {},
   "outputs": [],
   "source": [
    "lframe = ndf.loc[:, L_select]\n",
    "lframe"
   ]
  },
  {
   "cell_type": "code",
   "execution_count": null,
   "metadata": {},
   "outputs": [],
   "source": [
    "ax = plt.gca()\n",
    "# Shink current axis by 20%\n",
    "box = ax.get_position()\n",
    "ax.set_position([box.x0, box.y0, box.width * 0.8, box.height])\n",
    "# generate values and print them \n",
    "hex_values = generate_colors(len(L_select)) \n",
    "lines = [] \n",
    "for i, country in enumerate(lframe):\n",
    "    #lines = nframe[i].plot(kind='line', x='Year', y='Population',ax=ax, ylabel='Population', title ='Population Change of Migrant Groups (1992-2018)', color='green')  \n",
    "    axes = nframe[country].plot.line(color={ \"{}\".format(country): \"{}\".format(hex_values[i])})\n",
    "plt.legend(bbox_to_anchor=(1.3,0.5), loc='center', borderaxespad=0., fontsize=7)\n",
    "plt.savefig(image_path + '/PopChangeByGeogRegion.png', dpi=300)\n",
    "plt.show()"
   ]
  },
  {
   "cell_type": "markdown",
   "metadata": {},
   "source": [
    "### Get the 15 larger migrant populations"
   ]
  },
  {
   "cell_type": "code",
   "execution_count": 3,
   "metadata": {},
   "outputs": [],
   "source": [
    "country_df = pd.read_excel(ancillary_POPdata_folder_path + \"/EXCEL/00SumClean.xlsx\", header=0)\n",
    "country_ndf = country_df.iloc[:, 2:].set_index('Year')\n",
    "#print(country_ndf.head())"
   ]
  },
  {
   "cell_type": "code",
   "execution_count": null,
   "metadata": {},
   "outputs": [],
   "source": [
    "gdf = country_ndf.iloc[-1, 23:].nlargest(16)\n",
    "gdf.iloc[1:]\n",
    "selectList= gdf.index.to_list()\n",
    "top15 = country_ndf.loc[: ,selectList]\n",
    "top15.drop('L10_NLD', inplace=True, axis=1)"
   ]
  },
  {
   "cell_type": "code",
   "execution_count": null,
   "metadata": {},
   "outputs": [],
   "source": [
    "top15.head(3)"
   ]
  },
  {
   "cell_type": "code",
   "execution_count": null,
   "metadata": {},
   "outputs": [],
   "source": [
    "lineDiagram(top15, \"15LargestCountries\", 15, \"Population Change for 15 Largest Migrant Groups in 2018\", image_path)"
   ]
  },
  {
   "cell_type": "markdown",
   "metadata": {},
   "source": [
    "### Get the 15 largest groups with population <20.000"
   ]
  },
  {
   "cell_type": "code",
   "execution_count": 6,
   "metadata": {},
   "outputs": [
    {
     "name": "stdout",
     "output_type": "stream",
     "text": [
      "      L10_GBR  L40_DEU  L40_OTH  L10_USA  L10_ITA  L10_GHA  L10_ANT  L10_FRA  \\\n",
      "Year                                                                           \n",
      "1992     6452     8286     1835     3080     2135     3188     8489     1957   \n",
      "1994     6349     8072     2008     3350     2154     3779     8108     2100   \n",
      "1996     5274     7143     2313     3132     2009     3953     8095     1999   \n",
      "\n",
      "      L10_IND  L40_CHN  L40_ESP  L40_YUG  L10_BRA  L10_BGR  L10_POL  \n",
      "Year                                                                 \n",
      "1992     1582     1586     2239     2746      801       93      996  \n",
      "1994     1647     1573     2250     3307      866      103      940  \n",
      "1996     1668     1524     2149     3742      891      108      861  \n"
     ]
    }
   ],
   "source": [
    "gdf = country_ndf.iloc[-1, 23:].nlargest(19)\n",
    "gdf.iloc[1:]\n",
    "selectList= gdf.index.to_list()\n",
    "top15 = country_ndf.loc[: ,selectList]\n",
    "top15.drop('L10_NLD', inplace=True, axis=1)\n",
    "top15.drop('L10_SUR', inplace=True, axis=1)\n",
    "top15.drop('L10_TUR', inplace=True, axis=1)\n",
    "top15.drop('L10_MAR', inplace=True, axis=1)\n",
    "lineDiagram(top15, \"15RestLargestCountries\", 15, \"Population Change for 15 Largest Migrant Groups \\n with Population < 20.000 in 2018\", image_path)"
   ]
  },
  {
   "cell_type": "code",
   "execution_count": 9,
   "metadata": {},
   "outputs": [
    {
     "name": "stdout",
     "output_type": "stream",
     "text": [
      "      L10_NLD  totalMig\n",
      "Year                   \n",
      "1992   523766    196157\n",
      "1994   520288    202062\n",
      "1996   516745    198318\n"
     ]
    }
   ],
   "source": [
    "## Get Native and migrant population\n",
    "country_ndf['totalMig'] = country_ndf['L1_TOTALPOP'] - country_ndf['L10_NLD']\n",
    "selectList = ['L10_NLD','totalMig' ]\n",
    "nativeMig = country_ndf.loc[: ,selectList]\n",
    "\n",
    "lineDiagram(nativeMig, \"NativeandForeignPopulationChange\", 2, \"Native and Foreign Population Change, Amsterdam\", image_path)"
   ]
  }
 ],
 "metadata": {
  "interpreter": {
   "hash": "e03fb78ae4ec9fd2c986f8e4f2442d4ae76ef8e272ae7f00d3d99518f0c64cd8"
  },
  "kernelspec": {
   "display_name": "Python 3.7.6 64-bit ('pop_env': conda)",
   "name": "python3"
  },
  "language_info": {
   "codemirror_mode": {
    "name": "ipython",
    "version": 3
   },
   "file_extension": ".py",
   "mimetype": "text/x-python",
   "name": "python",
   "nbconvert_exporter": "python",
   "pygments_lexer": "ipython3",
   "version": "3.7.6"
  },
  "orig_nbformat": 2
 },
 "nbformat": 4,
 "nbformat_minor": 2
}

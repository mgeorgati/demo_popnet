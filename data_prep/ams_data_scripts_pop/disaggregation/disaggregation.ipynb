{
 "metadata": {
  "language_info": {
   "codemirror_mode": {
    "name": "ipython",
    "version": 3
   },
   "file_extension": ".py",
   "mimetype": "text/x-python",
   "name": "python",
   "nbconvert_exporter": "python",
   "pygments_lexer": "ipython3",
   "version": "3.7.6"
  },
  "orig_nbformat": 4,
  "kernelspec": {
   "name": "python3",
   "display_name": "Python 3.7.6 64-bit ('popnet_env': conda)"
  },
  "interpreter": {
   "hash": "d963e5a24eb07ae321cef4c8bf227867734dcbda4add7c05a49f0057f961a449"
  }
 },
 "nbformat": 4,
 "nbformat_minor": 2,
 "cells": [
  {
   "cell_type": "code",
   "execution_count": 1,
   "metadata": {},
   "outputs": [],
   "source": [
    "import os\n",
    "import subprocess\n",
    "import gdal\n",
    "import numpy as np\n",
    "import pandas as pd\n",
    "import geopandas as gpd\n",
    "\n",
    "import matplotlib.pyplot as plt\n",
    "import random \n",
    "%matplotlib inline"
   ]
  },
  {
   "cell_type": "code",
   "execution_count": 2,
   "metadata": {},
   "outputs": [
    {
     "output_type": "stream",
     "name": "stdout",
     "text": [
      "c:\\FUME\\PopNetV2\n"
     ]
    }
   ],
   "source": [
    "city=\"ams\"\n",
    "base_dir = os.path.dirname(os.path.dirname(os.path.dirname(os.path.dirname(os.path.abspath(\"__file__\")))))\n",
    "print(base_dir)\n",
    "# Paths for the Population Data --------------------------------------------------------------\n",
    "#path to ancillary data folder\n",
    "ancillary_data_folder_path = base_dir + \"/data_prep/{}_Projectdata/AncillaryData\".format(city)\n",
    "ancillary_POPdata_folder_path = base_dir + \"/data_prep/{}_Projectdata/PopData\".format(city)\n",
    "image_path= base_dir + \"/data_prep/{}_Projectdata/PopData/images\".format(city)\n",
    "gdal_rasterize_path = r'C:/Users/NM12LQ/Anaconda3/envs/popnet_env/Library/bin'\n",
    "years_list=[1992,1994,1996,1998,2000,2002,2004,2006,2008,2010,2012,2014,2016,2018] #"
   ]
  },
  {
   "cell_type": "code",
   "execution_count": 3,
   "metadata": {},
   "outputs": [],
   "source": [
    "src_file = ancillary_POPdata_folder_path + \"/Neighborhood&districtData/demographicProcess/neighDemo_2019.geojson\"\n",
    "polydf = gpd.read_file(src_file, crs=\"EPSG:3035\")"
   ]
  },
  {
   "cell_type": "code",
   "execution_count": null,
   "metadata": {},
   "outputs": [],
   "source": [
    "print(polydf.columns.tolist())"
   ]
  },
  {
   "cell_type": "code",
   "execution_count": 4,
   "metadata": {},
   "outputs": [
    {
     "output_type": "execute_result",
     "data": {
      "text/plain": [
       "         Buurtcombinatie_code          Buurtcombinatie  \\\n",
       "coding                                                   \n",
       "WK036300                  A00    Burgwallen-Oude Zijde   \n",
       "WK036301                  A01  Burgwallen-Nieuwe Zijde   \n",
       "\n",
       "                                                   geometry  \\\n",
       "coding                                                        \n",
       "WK036300  POLYGON ((3974234.330 3264048.104, 3974216.369...   \n",
       "WK036301  POLYGON ((3974475.547 3264416.278, 3974448.698...   \n",
       "\n",
       "          Number of inhabitants  total households  single households  \\\n",
       "coding                                                                 \n",
       "WK036300                   4295              3040               2100   \n",
       "WK036301                   4120              2915               1990   \n",
       "\n",
       "          households without children   households with children  \\\n",
       "coding                                                             \n",
       "WK036300                           690                       250   \n",
       "WK036301                           720                       200   \n",
       "\n",
       "          average household size  age 0 to 15 years  age 15 to 25 years  \\\n",
       "coding                                                                    \n",
       "WK036300                     1.4                235                 580   \n",
       "WK036301                     1.4                215                 590   \n",
       "\n",
       "          age 45 to 65 years  a_45_64  age 65 years or older  \n",
       "coding                                                        \n",
       "WK036300                2150      935                    405  \n",
       "WK036301                2225      785                    320  "
      ],
      "text/html": "<div>\n<style scoped>\n    .dataframe tbody tr th:only-of-type {\n        vertical-align: middle;\n    }\n\n    .dataframe tbody tr th {\n        vertical-align: top;\n    }\n\n    .dataframe thead th {\n        text-align: right;\n    }\n</style>\n<table border=\"1\" class=\"dataframe\">\n  <thead>\n    <tr style=\"text-align: right;\">\n      <th></th>\n      <th>Buurtcombinatie_code</th>\n      <th>Buurtcombinatie</th>\n      <th>geometry</th>\n      <th>Number of inhabitants</th>\n      <th>total households</th>\n      <th>single households</th>\n      <th>households without children</th>\n      <th>households with children</th>\n      <th>average household size</th>\n      <th>age 0 to 15 years</th>\n      <th>age 15 to 25 years</th>\n      <th>age 45 to 65 years</th>\n      <th>a_45_64</th>\n      <th>age 65 years or older</th>\n    </tr>\n    <tr>\n      <th>coding</th>\n      <th></th>\n      <th></th>\n      <th></th>\n      <th></th>\n      <th></th>\n      <th></th>\n      <th></th>\n      <th></th>\n      <th></th>\n      <th></th>\n      <th></th>\n      <th></th>\n      <th></th>\n      <th></th>\n    </tr>\n  </thead>\n  <tbody>\n    <tr>\n      <th>WK036300</th>\n      <td>A00</td>\n      <td>Burgwallen-Oude Zijde</td>\n      <td>POLYGON ((3974234.330 3264048.104, 3974216.369...</td>\n      <td>4295</td>\n      <td>3040</td>\n      <td>2100</td>\n      <td>690</td>\n      <td>250</td>\n      <td>1.4</td>\n      <td>235</td>\n      <td>580</td>\n      <td>2150</td>\n      <td>935</td>\n      <td>405</td>\n    </tr>\n    <tr>\n      <th>WK036301</th>\n      <td>A01</td>\n      <td>Burgwallen-Nieuwe Zijde</td>\n      <td>POLYGON ((3974475.547 3264416.278, 3974448.698...</td>\n      <td>4120</td>\n      <td>2915</td>\n      <td>1990</td>\n      <td>720</td>\n      <td>200</td>\n      <td>1.4</td>\n      <td>215</td>\n      <td>590</td>\n      <td>2225</td>\n      <td>785</td>\n      <td>320</td>\n    </tr>\n  </tbody>\n</table>\n</div>"
     },
     "metadata": {},
     "execution_count": 4
    }
   ],
   "source": [
    "polydf = polydf[[ \"Buurtcombinatie_code\", \"Buurtcombinatie\", \"coding\" ,'geometry', \"Number of inhabitants\",  \"total households\" , \"single households\" , \"households without children \",  \"households with children\" , \"average household size\", \"age 0 to 15 years\",  \"age 15 to 25 years\",  \"age 45 to 65 years\",  \"a_45_64\",  \"age 65 years or older\" ]]\n",
    "polydf = polydf.set_index(\"coding\")\n",
    "polydf.head(2)"
   ]
  },
  {
   "cell_type": "code",
   "execution_count": 5,
   "metadata": {},
   "outputs": [
    {
     "output_type": "execute_result",
     "data": {
      "text/plain": [
       "   grid_id  l1_totalpop  l2_children  l3_students  l4_mobile_adults  \\\n",
       "0     3455            1            0            0                 0   \n",
       "1     3456            4            1            1                 0   \n",
       "\n",
       "   l5_not_mobile_adults  l6_elderly  l7_immigrants  l8_eu_immigrants  \\\n",
       "0                     0           1              0                 0   \n",
       "1                     2           0              0                 0   \n",
       "\n",
       "   l9_noneu_immigrants  ...  Northern_America  \\\n",
       "0                    0  ...               0.0   \n",
       "1                    0  ...               0.0   \n",
       "\n",
       "   Latin_America_and_the_Caribbean  Africa  Northern_Africa  \\\n",
       "0                              0.0     0.0              0.0   \n",
       "1                              0.0     0.0              0.0   \n",
       "\n",
       "   Sub-Saharan_Africa  OutsideEurope  Others  Colonies  totalMig  \\\n",
       "0                 0.0            0.0       0         0       0.0   \n",
       "1                 0.0            0.0       0         0       0.0   \n",
       "\n",
       "                                            geometry  \n",
       "0  MULTIPOLYGON (((3963800.000 3267600.000, 39639...  \n",
       "1  MULTIPOLYGON (((3963800.000 3267500.000, 39639...  \n",
       "\n",
       "[2 rows x 274 columns]"
      ],
      "text/html": "<div>\n<style scoped>\n    .dataframe tbody tr th:only-of-type {\n        vertical-align: middle;\n    }\n\n    .dataframe tbody tr th {\n        vertical-align: top;\n    }\n\n    .dataframe thead th {\n        text-align: right;\n    }\n</style>\n<table border=\"1\" class=\"dataframe\">\n  <thead>\n    <tr style=\"text-align: right;\">\n      <th></th>\n      <th>grid_id</th>\n      <th>l1_totalpop</th>\n      <th>l2_children</th>\n      <th>l3_students</th>\n      <th>l4_mobile_adults</th>\n      <th>l5_not_mobile_adults</th>\n      <th>l6_elderly</th>\n      <th>l7_immigrants</th>\n      <th>l8_eu_immigrants</th>\n      <th>l9_noneu_immigrants</th>\n      <th>...</th>\n      <th>Northern_America</th>\n      <th>Latin_America_and_the_Caribbean</th>\n      <th>Africa</th>\n      <th>Northern_Africa</th>\n      <th>Sub-Saharan_Africa</th>\n      <th>OutsideEurope</th>\n      <th>Others</th>\n      <th>Colonies</th>\n      <th>totalMig</th>\n      <th>geometry</th>\n    </tr>\n  </thead>\n  <tbody>\n    <tr>\n      <th>0</th>\n      <td>3455</td>\n      <td>1</td>\n      <td>0</td>\n      <td>0</td>\n      <td>0</td>\n      <td>0</td>\n      <td>1</td>\n      <td>0</td>\n      <td>0</td>\n      <td>0</td>\n      <td>...</td>\n      <td>0.0</td>\n      <td>0.0</td>\n      <td>0.0</td>\n      <td>0.0</td>\n      <td>0.0</td>\n      <td>0.0</td>\n      <td>0</td>\n      <td>0</td>\n      <td>0.0</td>\n      <td>MULTIPOLYGON (((3963800.000 3267600.000, 39639...</td>\n    </tr>\n    <tr>\n      <th>1</th>\n      <td>3456</td>\n      <td>4</td>\n      <td>1</td>\n      <td>1</td>\n      <td>0</td>\n      <td>2</td>\n      <td>0</td>\n      <td>0</td>\n      <td>0</td>\n      <td>0</td>\n      <td>...</td>\n      <td>0.0</td>\n      <td>0.0</td>\n      <td>0.0</td>\n      <td>0.0</td>\n      <td>0.0</td>\n      <td>0.0</td>\n      <td>0</td>\n      <td>0</td>\n      <td>0.0</td>\n      <td>MULTIPOLYGON (((3963800.000 3267500.000, 39639...</td>\n    </tr>\n  </tbody>\n</table>\n<p>2 rows × 274 columns</p>\n</div>"
     },
     "metadata": {},
     "execution_count": 5
    }
   ],
   "source": [
    "grid_df = gpd.read_file(ancillary_POPdata_folder_path + '/2018/temp_shp/2018_dataVectorGrid.geojson')\n",
    "grid_df.head(2)"
   ]
  },
  {
   "cell_type": "code",
   "execution_count": null,
   "metadata": {},
   "outputs": [],
   "source": [
    "grid_df.info"
   ]
  },
  {
   "cell_type": "code",
   "execution_count": 6,
   "metadata": {},
   "outputs": [],
   "source": [
    "grid_df = grid_df[[ \"grid_id\",\t\"l1_totalpop\",\t\"l2_children\",\t\"l3_students\",\t\"l4_mobile_adults\",\t\"l5_not_mobile_adults\",\t\"l6_elderly\",'geometry']]"
   ]
  },
  {
   "cell_type": "code",
   "execution_count": 7,
   "metadata": {},
   "outputs": [
    {
     "output_type": "execute_result",
     "data": {
      "text/plain": [
       "   grid_id  l1_totalpop  l2_children  l3_students  l4_mobile_adults  \\\n",
       "0     3455            1            0            0                 0   \n",
       "1     3456            4            1            1                 0   \n",
       "\n",
       "   l5_not_mobile_adults  l6_elderly  \\\n",
       "0                     0           1   \n",
       "1                     2           0   \n",
       "\n",
       "                                            geometry index_right  \\\n",
       "0  MULTIPOLYGON (((3963800.000 3267600.000, 39639...    WK036310   \n",
       "1  MULTIPOLYGON (((3963800.000 3267500.000, 39639...    WK036310   \n",
       "\n",
       "  Buurtcombinatie_code  ... total households  single households  \\\n",
       "0                  B10  ...            135.0              110.0   \n",
       "1                  B10  ...            135.0              110.0   \n",
       "\n",
       "   households without children   households with children  \\\n",
       "0                           5.0                      10.0   \n",
       "1                           5.0                      10.0   \n",
       "\n",
       "   average household size  age 0 to 15 years  age 15 to 25 years  \\\n",
       "0                     1.3               10.0                20.0   \n",
       "1                     1.3               10.0                20.0   \n",
       "\n",
       "   age 45 to 65 years  a_45_64  age 65 years or older  \n",
       "0                70.0     70.0                   20.0  \n",
       "1                70.0     70.0                   20.0  \n",
       "\n",
       "[2 rows x 22 columns]"
      ],
      "text/html": "<div>\n<style scoped>\n    .dataframe tbody tr th:only-of-type {\n        vertical-align: middle;\n    }\n\n    .dataframe tbody tr th {\n        vertical-align: top;\n    }\n\n    .dataframe thead th {\n        text-align: right;\n    }\n</style>\n<table border=\"1\" class=\"dataframe\">\n  <thead>\n    <tr style=\"text-align: right;\">\n      <th></th>\n      <th>grid_id</th>\n      <th>l1_totalpop</th>\n      <th>l2_children</th>\n      <th>l3_students</th>\n      <th>l4_mobile_adults</th>\n      <th>l5_not_mobile_adults</th>\n      <th>l6_elderly</th>\n      <th>geometry</th>\n      <th>index_right</th>\n      <th>Buurtcombinatie_code</th>\n      <th>...</th>\n      <th>total households</th>\n      <th>single households</th>\n      <th>households without children</th>\n      <th>households with children</th>\n      <th>average household size</th>\n      <th>age 0 to 15 years</th>\n      <th>age 15 to 25 years</th>\n      <th>age 45 to 65 years</th>\n      <th>a_45_64</th>\n      <th>age 65 years or older</th>\n    </tr>\n  </thead>\n  <tbody>\n    <tr>\n      <th>0</th>\n      <td>3455</td>\n      <td>1</td>\n      <td>0</td>\n      <td>0</td>\n      <td>0</td>\n      <td>0</td>\n      <td>1</td>\n      <td>MULTIPOLYGON (((3963800.000 3267600.000, 39639...</td>\n      <td>WK036310</td>\n      <td>B10</td>\n      <td>...</td>\n      <td>135.0</td>\n      <td>110.0</td>\n      <td>5.0</td>\n      <td>10.0</td>\n      <td>1.3</td>\n      <td>10.0</td>\n      <td>20.0</td>\n      <td>70.0</td>\n      <td>70.0</td>\n      <td>20.0</td>\n    </tr>\n    <tr>\n      <th>1</th>\n      <td>3456</td>\n      <td>4</td>\n      <td>1</td>\n      <td>1</td>\n      <td>0</td>\n      <td>2</td>\n      <td>0</td>\n      <td>MULTIPOLYGON (((3963800.000 3267500.000, 39639...</td>\n      <td>WK036310</td>\n      <td>B10</td>\n      <td>...</td>\n      <td>135.0</td>\n      <td>110.0</td>\n      <td>5.0</td>\n      <td>10.0</td>\n      <td>1.3</td>\n      <td>10.0</td>\n      <td>20.0</td>\n      <td>70.0</td>\n      <td>70.0</td>\n      <td>20.0</td>\n    </tr>\n  </tbody>\n</table>\n<p>2 rows × 22 columns</p>\n</div>"
     },
     "metadata": {},
     "execution_count": 7
    }
   ],
   "source": [
    "from geopandas.tools import sjoin\n",
    "join_left_df = sjoin(grid_df, polydf, how=\"left\")\n",
    "join_left_df.head(2)"
   ]
  },
  {
   "cell_type": "code",
   "execution_count": 41,
   "metadata": {},
   "outputs": [],
   "source": [
    "frame.to_file(ancillary_POPdata_folder_path + \"/Neighborhood&districtData/demographicProcess/join3.geojson\",driver='GeoJSON',crs=\"EPSG:3035\")"
   ]
  },
  {
   "cell_type": "code",
   "execution_count": 20,
   "metadata": {},
   "outputs": [],
   "source": [
    "selectedColumns = join_left_df[['grid_id','geometry', \"l1_totalpop\",\"Number of inhabitants\",  \"total households\" , \"single households\" , \"households without children \",  \"households with children\" , \"average household size\" , \"Buurtcombinatie_code\", \"l2_children\",\t\"l3_students\",\t\"l4_mobile_adults\",\"l5_not_mobile_adults\",\t\"l6_elderly\", 'age 0 to 15 years', 'age 15 to 25 years', 'age 45 to 65 years', 'a_45_64', 'age 65 years or older' ]]\n",
    "frame = selectedColumns.copy()"
   ]
  },
  {
   "cell_type": "code",
   "execution_count": 21,
   "metadata": {},
   "outputs": [],
   "source": [
    "frame = frame.drop_duplicates(subset=['grid_id'], keep='first')\n"
   ]
  },
  {
   "cell_type": "code",
   "execution_count": 27,
   "metadata": {},
   "outputs": [
    {
     "output_type": "execute_result",
     "data": {
      "text/plain": [
       "grid_id                            int64\n",
       "geometry                        geometry\n",
       "l1_totalpop                        int64\n",
       "Number of inhabitants            float64\n",
       "total households                 float64\n",
       "single households                float64\n",
       "households without children      float64\n",
       "households with children         float64\n",
       "average household size           float64\n",
       "Buurtcombinatie_code              object\n",
       "l2_children                        int64\n",
       "l3_students                        int64\n",
       "l4_mobile_adults                   int64\n",
       "l5_not_mobile_adults               int64\n",
       "l6_elderly                         int64\n",
       "age 0 to 15 years                float64\n",
       "age 15 to 25 years               float64\n",
       "age 45 to 65 years               float64\n",
       "a_45_64                          float64\n",
       "age 65 years or older            float64\n",
       "HouseholdsCell                   float64\n",
       "ChildrenPerHousehold             float64\n",
       "dtype: object"
      ]
     },
     "metadata": {},
     "execution_count": 27
    }
   ],
   "source": [
    "frame.dtypes"
   ]
  },
  {
   "cell_type": "code",
   "execution_count": null,
   "metadata": {},
   "outputs": [],
   "source": [
    "frame.iloc[60:70 ]"
   ]
  },
  {
   "cell_type": "code",
   "execution_count": 23,
   "metadata": {},
   "outputs": [],
   "source": [
    "frame[\"HouseholdsCell\"] = frame[\"l1_totalpop\" ] / frame[\"average household size\"]"
   ]
  },
  {
   "cell_type": "code",
   "execution_count": 24,
   "metadata": {},
   "outputs": [],
   "source": [
    "frame[\"ChildrenPerHousehold\"] = frame[\"l2_children\" ] / frame[\"HouseholdsCell\"]"
   ]
  },
  {
   "cell_type": "code",
   "execution_count": 33,
   "metadata": {},
   "outputs": [],
   "source": [
    "frame[\"HouseholdWithChildren\"] = (frame[\"households with children\" ] * frame[\"l1_totalpop\"]/frame[\"Number of inhabitants\"]) * ( (frame[\"age 45 to 65 years\"] + frame[ \"a_45_64\"]) / ( frame[\"l4_mobile_adults\"] + frame[ \"l5_not_mobile_adults\"]) ) * (frame[\"l2_children\"] / frame[ \"age 0 to 15 years\" ])"
   ]
  },
  {
   "cell_type": "code",
   "execution_count": 42,
   "metadata": {},
   "outputs": [],
   "source": [
    "frame[\"var\"] = (frame[\"Number of inhabitants\" ] - (frame[\"average household size\" ] * frame[\"single households\" ] ) - (frame[\"average household size\" ] * frame[\"households without children \" ])) / frame[\"households with children\" ]"
   ]
  },
  {
   "cell_type": "code",
   "execution_count": null,
   "metadata": {},
   "outputs": [],
   "source": [
    "frame[\"varB3\"] = (frame[\"Number of inhabitants\" ] - (frame[\"average household size\" ] * frame[\"single households\" ] ) - (frame[\"average household size\" ] * frame[\"households without children \" ])) / frame[\"households with children\" ]"
   ]
  },
  {
   "cell_type": "code",
   "execution_count": null,
   "metadata": {},
   "outputs": [],
   "source": [
    "total = frame.loc[frame[\"Buurtcombinatie_code\"] == \"A0\", \"HouseholdWithChildrenA\"].sum() \n",
    "total"
   ]
  },
  {
   "cell_type": "code",
   "execution_count": null,
   "metadata": {},
   "outputs": [],
   "source": [
    "frame[\"avHouseholdSize\"] = frame[\"Number of inhabitants\" ] / frame[\"total households\"]"
   ]
  },
  {
   "cell_type": "code",
   "execution_count": 36,
   "metadata": {},
   "outputs": [
    {
     "output_type": "execute_result",
     "data": {
      "text/plain": [
       "0.0"
      ]
     },
     "metadata": {},
     "execution_count": 36
    }
   ],
   "source": [
    "total = frame.loc[frame[\"Buurtcombinatie_code\"] == \"A1\", \"HouseholdWithChildren\"].sum() \n",
    "total"
   ]
  },
  {
   "cell_type": "code",
   "execution_count": 43,
   "metadata": {},
   "outputs": [
    {
     "output_type": "execute_result",
     "data": {
      "text/plain": [
       "      grid_id                                           geometry  l1_totalpop  \\\n",
       "0        3455  MULTIPOLYGON (((3963800.000 3267600.000, 39639...            1   \n",
       "1        3456  MULTIPOLYGON (((3963800.000 3267500.000, 39639...            4   \n",
       "2        4439  MULTIPOLYGON (((3964300.000 3264200.000, 39644...            2   \n",
       "3        4617  MULTIPOLYGON (((3964400.000 3265400.000, 39645...            4   \n",
       "4        4618  MULTIPOLYGON (((3964400.000 3265300.000, 39645...            5   \n",
       "...       ...                                                ...          ...   \n",
       "7506    40317  MULTIPOLYGON (((3983200.000 3267400.000, 39833...            5   \n",
       "7507    40703  MULTIPOLYGON (((3983400.000 3266800.000, 39835...            2   \n",
       "7508    41647  MULTIPOLYGON (((3983900.000 3267400.000, 39840...            1   \n",
       "7509    42975  MULTIPOLYGON (((3984600.000 3267600.000, 39847...            3   \n",
       "7510    43165  MULTIPOLYGON (((3984700.000 3267600.000, 39848...            2   \n",
       "\n",
       "      Number of inhabitants  total households  single households  \\\n",
       "0                     175.0             135.0              110.0   \n",
       "1                     175.0             135.0              110.0   \n",
       "2                    1125.0             395.0              155.0   \n",
       "3                    2445.0            1035.0              315.0   \n",
       "4                    2445.0            1035.0              315.0   \n",
       "...                     ...               ...                ...   \n",
       "7506                 1250.0             445.0               50.0   \n",
       "7507                 1250.0             445.0               50.0   \n",
       "7508                 1250.0             445.0               50.0   \n",
       "7509                 1250.0             445.0               50.0   \n",
       "7510                 1250.0             445.0               50.0   \n",
       "\n",
       "      households without children   households with children  \\\n",
       "0                              5.0                      10.0   \n",
       "1                              5.0                      10.0   \n",
       "2                            110.0                     140.0   \n",
       "3                            310.0                     420.0   \n",
       "4                            310.0                     420.0   \n",
       "...                            ...                       ...   \n",
       "7506                         165.0                     230.0   \n",
       "7507                         165.0                     230.0   \n",
       "7508                         165.0                     230.0   \n",
       "7509                         165.0                     230.0   \n",
       "7510                         165.0                     230.0   \n",
       "\n",
       "      average household size Buurtcombinatie_code  ...  age 15 to 25 years  \\\n",
       "0                        1.3                  B10  ...                20.0   \n",
       "1                        1.3                  B10  ...                20.0   \n",
       "2                        2.2                  F80  ...               145.0   \n",
       "3                        2.4                  F79  ...               265.0   \n",
       "4                        2.4                  F79  ...               265.0   \n",
       "...                      ...                  ...  ...                 ...   \n",
       "7506                     2.8                  N73  ...               165.0   \n",
       "7507                     2.8                  N73  ...               165.0   \n",
       "7508                     2.8                  N73  ...               165.0   \n",
       "7509                     2.8                  N73  ...               165.0   \n",
       "7510                     2.8                  N73  ...               165.0   \n",
       "\n",
       "      age 45 to 65 years  a_45_64  age 65 years or older  HouseholdsCell  \\\n",
       "0                   70.0     70.0                   20.0        0.769231   \n",
       "1                   70.0     70.0                   20.0        3.076923   \n",
       "2                  320.0    325.0                  170.0        0.909091   \n",
       "3                  640.0    730.0                  390.0        1.666667   \n",
       "4                  640.0    730.0                  390.0        2.083333   \n",
       "...                  ...      ...                    ...             ...   \n",
       "7506               205.0    445.0                  205.0        1.785714   \n",
       "7507               205.0    445.0                  205.0        0.714286   \n",
       "7508               205.0    445.0                  205.0        0.357143   \n",
       "7509               205.0    445.0                  205.0        1.071429   \n",
       "7510               205.0    445.0                  205.0        0.714286   \n",
       "\n",
       "      ChildrenPerHousehold  HouseholdWithChildren  HouseholdWithChildrenA  \\\n",
       "0                    0.000                    NaN                0.057143   \n",
       "1                    0.325                    1.6                0.228571   \n",
       "2                    0.000                    NaN                0.248889   \n",
       "3                    0.000                    0.0                0.687117   \n",
       "4                    0.000                    0.0                0.858896   \n",
       "...                    ...                    ...                     ...   \n",
       "7506                 1.680                    3.9                0.920000   \n",
       "7507                 0.000                    0.0                0.368000   \n",
       "7508                 0.000                    NaN                0.184000   \n",
       "7509                 0.000                    0.0                0.552000   \n",
       "7510                 0.000                    NaN                0.368000   \n",
       "\n",
       "      HouseholdWithChildrenB       var  \n",
       "0                   0.000000  2.550000  \n",
       "1                   0.022857  2.550000  \n",
       "2                   0.000000  3.871429  \n",
       "3                   0.000000  2.250000  \n",
       "4                   0.000000  2.250000  \n",
       "...                      ...       ...  \n",
       "7506                0.012000  2.817391  \n",
       "7507                0.000000  2.817391  \n",
       "7508                0.000000  2.817391  \n",
       "7509                0.000000  2.817391  \n",
       "7510                0.000000  2.817391  \n",
       "\n",
       "[7511 rows x 26 columns]"
      ],
      "text/html": "<div>\n<style scoped>\n    .dataframe tbody tr th:only-of-type {\n        vertical-align: middle;\n    }\n\n    .dataframe tbody tr th {\n        vertical-align: top;\n    }\n\n    .dataframe thead th {\n        text-align: right;\n    }\n</style>\n<table border=\"1\" class=\"dataframe\">\n  <thead>\n    <tr style=\"text-align: right;\">\n      <th></th>\n      <th>grid_id</th>\n      <th>geometry</th>\n      <th>l1_totalpop</th>\n      <th>Number of inhabitants</th>\n      <th>total households</th>\n      <th>single households</th>\n      <th>households without children</th>\n      <th>households with children</th>\n      <th>average household size</th>\n      <th>Buurtcombinatie_code</th>\n      <th>...</th>\n      <th>age 15 to 25 years</th>\n      <th>age 45 to 65 years</th>\n      <th>a_45_64</th>\n      <th>age 65 years or older</th>\n      <th>HouseholdsCell</th>\n      <th>ChildrenPerHousehold</th>\n      <th>HouseholdWithChildren</th>\n      <th>HouseholdWithChildrenA</th>\n      <th>HouseholdWithChildrenB</th>\n      <th>var</th>\n    </tr>\n  </thead>\n  <tbody>\n    <tr>\n      <th>0</th>\n      <td>3455</td>\n      <td>MULTIPOLYGON (((3963800.000 3267600.000, 39639...</td>\n      <td>1</td>\n      <td>175.0</td>\n      <td>135.0</td>\n      <td>110.0</td>\n      <td>5.0</td>\n      <td>10.0</td>\n      <td>1.3</td>\n      <td>B10</td>\n      <td>...</td>\n      <td>20.0</td>\n      <td>70.0</td>\n      <td>70.0</td>\n      <td>20.0</td>\n      <td>0.769231</td>\n      <td>0.000</td>\n      <td>NaN</td>\n      <td>0.057143</td>\n      <td>0.000000</td>\n      <td>2.550000</td>\n    </tr>\n    <tr>\n      <th>1</th>\n      <td>3456</td>\n      <td>MULTIPOLYGON (((3963800.000 3267500.000, 39639...</td>\n      <td>4</td>\n      <td>175.0</td>\n      <td>135.0</td>\n      <td>110.0</td>\n      <td>5.0</td>\n      <td>10.0</td>\n      <td>1.3</td>\n      <td>B10</td>\n      <td>...</td>\n      <td>20.0</td>\n      <td>70.0</td>\n      <td>70.0</td>\n      <td>20.0</td>\n      <td>3.076923</td>\n      <td>0.325</td>\n      <td>1.6</td>\n      <td>0.228571</td>\n      <td>0.022857</td>\n      <td>2.550000</td>\n    </tr>\n    <tr>\n      <th>2</th>\n      <td>4439</td>\n      <td>MULTIPOLYGON (((3964300.000 3264200.000, 39644...</td>\n      <td>2</td>\n      <td>1125.0</td>\n      <td>395.0</td>\n      <td>155.0</td>\n      <td>110.0</td>\n      <td>140.0</td>\n      <td>2.2</td>\n      <td>F80</td>\n      <td>...</td>\n      <td>145.0</td>\n      <td>320.0</td>\n      <td>325.0</td>\n      <td>170.0</td>\n      <td>0.909091</td>\n      <td>0.000</td>\n      <td>NaN</td>\n      <td>0.248889</td>\n      <td>0.000000</td>\n      <td>3.871429</td>\n    </tr>\n    <tr>\n      <th>3</th>\n      <td>4617</td>\n      <td>MULTIPOLYGON (((3964400.000 3265400.000, 39645...</td>\n      <td>4</td>\n      <td>2445.0</td>\n      <td>1035.0</td>\n      <td>315.0</td>\n      <td>310.0</td>\n      <td>420.0</td>\n      <td>2.4</td>\n      <td>F79</td>\n      <td>...</td>\n      <td>265.0</td>\n      <td>640.0</td>\n      <td>730.0</td>\n      <td>390.0</td>\n      <td>1.666667</td>\n      <td>0.000</td>\n      <td>0.0</td>\n      <td>0.687117</td>\n      <td>0.000000</td>\n      <td>2.250000</td>\n    </tr>\n    <tr>\n      <th>4</th>\n      <td>4618</td>\n      <td>MULTIPOLYGON (((3964400.000 3265300.000, 39645...</td>\n      <td>5</td>\n      <td>2445.0</td>\n      <td>1035.0</td>\n      <td>315.0</td>\n      <td>310.0</td>\n      <td>420.0</td>\n      <td>2.4</td>\n      <td>F79</td>\n      <td>...</td>\n      <td>265.0</td>\n      <td>640.0</td>\n      <td>730.0</td>\n      <td>390.0</td>\n      <td>2.083333</td>\n      <td>0.000</td>\n      <td>0.0</td>\n      <td>0.858896</td>\n      <td>0.000000</td>\n      <td>2.250000</td>\n    </tr>\n    <tr>\n      <th>...</th>\n      <td>...</td>\n      <td>...</td>\n      <td>...</td>\n      <td>...</td>\n      <td>...</td>\n      <td>...</td>\n      <td>...</td>\n      <td>...</td>\n      <td>...</td>\n      <td>...</td>\n      <td>...</td>\n      <td>...</td>\n      <td>...</td>\n      <td>...</td>\n      <td>...</td>\n      <td>...</td>\n      <td>...</td>\n      <td>...</td>\n      <td>...</td>\n      <td>...</td>\n      <td>...</td>\n    </tr>\n    <tr>\n      <th>7506</th>\n      <td>40317</td>\n      <td>MULTIPOLYGON (((3983200.000 3267400.000, 39833...</td>\n      <td>5</td>\n      <td>1250.0</td>\n      <td>445.0</td>\n      <td>50.0</td>\n      <td>165.0</td>\n      <td>230.0</td>\n      <td>2.8</td>\n      <td>N73</td>\n      <td>...</td>\n      <td>165.0</td>\n      <td>205.0</td>\n      <td>445.0</td>\n      <td>205.0</td>\n      <td>1.785714</td>\n      <td>1.680</td>\n      <td>3.9</td>\n      <td>0.920000</td>\n      <td>0.012000</td>\n      <td>2.817391</td>\n    </tr>\n    <tr>\n      <th>7507</th>\n      <td>40703</td>\n      <td>MULTIPOLYGON (((3983400.000 3266800.000, 39835...</td>\n      <td>2</td>\n      <td>1250.0</td>\n      <td>445.0</td>\n      <td>50.0</td>\n      <td>165.0</td>\n      <td>230.0</td>\n      <td>2.8</td>\n      <td>N73</td>\n      <td>...</td>\n      <td>165.0</td>\n      <td>205.0</td>\n      <td>445.0</td>\n      <td>205.0</td>\n      <td>0.714286</td>\n      <td>0.000</td>\n      <td>0.0</td>\n      <td>0.368000</td>\n      <td>0.000000</td>\n      <td>2.817391</td>\n    </tr>\n    <tr>\n      <th>7508</th>\n      <td>41647</td>\n      <td>MULTIPOLYGON (((3983900.000 3267400.000, 39840...</td>\n      <td>1</td>\n      <td>1250.0</td>\n      <td>445.0</td>\n      <td>50.0</td>\n      <td>165.0</td>\n      <td>230.0</td>\n      <td>2.8</td>\n      <td>N73</td>\n      <td>...</td>\n      <td>165.0</td>\n      <td>205.0</td>\n      <td>445.0</td>\n      <td>205.0</td>\n      <td>0.357143</td>\n      <td>0.000</td>\n      <td>NaN</td>\n      <td>0.184000</td>\n      <td>0.000000</td>\n      <td>2.817391</td>\n    </tr>\n    <tr>\n      <th>7509</th>\n      <td>42975</td>\n      <td>MULTIPOLYGON (((3984600.000 3267600.000, 39847...</td>\n      <td>3</td>\n      <td>1250.0</td>\n      <td>445.0</td>\n      <td>50.0</td>\n      <td>165.0</td>\n      <td>230.0</td>\n      <td>2.8</td>\n      <td>N73</td>\n      <td>...</td>\n      <td>165.0</td>\n      <td>205.0</td>\n      <td>445.0</td>\n      <td>205.0</td>\n      <td>1.071429</td>\n      <td>0.000</td>\n      <td>0.0</td>\n      <td>0.552000</td>\n      <td>0.000000</td>\n      <td>2.817391</td>\n    </tr>\n    <tr>\n      <th>7510</th>\n      <td>43165</td>\n      <td>MULTIPOLYGON (((3984700.000 3267600.000, 39848...</td>\n      <td>2</td>\n      <td>1250.0</td>\n      <td>445.0</td>\n      <td>50.0</td>\n      <td>165.0</td>\n      <td>230.0</td>\n      <td>2.8</td>\n      <td>N73</td>\n      <td>...</td>\n      <td>165.0</td>\n      <td>205.0</td>\n      <td>445.0</td>\n      <td>205.0</td>\n      <td>0.714286</td>\n      <td>0.000</td>\n      <td>NaN</td>\n      <td>0.368000</td>\n      <td>0.000000</td>\n      <td>2.817391</td>\n    </tr>\n  </tbody>\n</table>\n<p>7511 rows × 26 columns</p>\n</div>"
     },
     "metadata": {},
     "execution_count": 43
    }
   ],
   "source": [
    "frame"
   ]
  },
  {
   "cell_type": "code",
   "execution_count": 17,
   "metadata": {},
   "outputs": [
    {
     "output_type": "execute_result",
     "data": {
      "text/plain": [
       "grid_id                            int64\n",
       "geometry                        geometry\n",
       "l1_totalpop                        int64\n",
       "Number of inhabitants            float64\n",
       "total households                 float64\n",
       "single households                float64\n",
       "households without children      float64\n",
       "households with children         float64\n",
       "average household size           float64\n",
       "Buurtcombinatie_code              object\n",
       "l2_children                        int64\n",
       "l3_students                        int64\n",
       "l4_mobile_adults                   int64\n",
       "l5_not_mobile_adults               int64\n",
       "l6_elderly                         int64\n",
       "age 0 to 15 years                float64\n",
       "age 15 to 25 years               float64\n",
       "age 45 to 65 years               float64\n",
       "a_45_64                          float64\n",
       "age 65 years or older            float64\n",
       "HouseholdsCell                   float64\n",
       "dtype: object"
      ]
     },
     "metadata": {},
     "execution_count": 17
    }
   ],
   "source": [
    "frame.dtypes"
   ]
  },
  {
   "cell_type": "code",
   "execution_count": null,
   "metadata": {},
   "outputs": [],
   "source": []
  },
  {
   "cell_type": "code",
   "execution_count": null,
   "metadata": {},
   "outputs": [],
   "source": []
  },
  {
   "cell_type": "code",
   "execution_count": null,
   "metadata": {},
   "outputs": [],
   "source": [
    "frame[\"avHouseholdSize\"]"
   ]
  },
  {
   "cell_type": "code",
   "execution_count": null,
   "metadata": {},
   "outputs": [],
   "source": [
    "ndf = pd.DataFrame()\n",
    "ndf[\"Buurtcombinatie_code\"] = frame['Buurtcombinatie_code']\n",
    "ndf[\"ori\"] = frame.groupby(['Buurtcombinatie_code'])['total households'].agg('sum')\n",
    "ndf[\"cell\"] = frame.groupby(['Buurtcombinatie_code'])['HouseholdsTotal'].agg('sum')\n",
    "ndf[\"error\"] = (ndf[\"ori\"] - ndf[\"cell\"]) / ndf[\"ori\"].sum()"
   ]
  },
  {
   "cell_type": "code",
   "execution_count": null,
   "metadata": {},
   "outputs": [],
   "source": [
    "ndf.head(5)"
   ]
  },
  {
   "cell_type": "code",
   "execution_count": null,
   "metadata": {},
   "outputs": [],
   "source": [
    "frame[\"ERROR\"] = frame[\"l1_totalpop\" ] / frame[\"avHouseholdSize\"]"
   ]
  },
  {
   "cell_type": "code",
   "execution_count": 38,
   "metadata": {},
   "outputs": [],
   "source": [
    "frame[\"HouseholdWithChildren\"] = (frame[\"households with children\" ]*frame[\"l1_totalpop\"]/frame[\"Number of inhabitants\"]) * ( (frame[\"age 45 to 65 years\"] + frame[ \"a_45_64\"]) / ( frame[\"l4_mobile_adults\"] + frame[ \"l5_not_mobile_adults\"]) ) * (frame[\"l2_children\"] / frame[ \"age 0 to 15 years\" ])"
   ]
  },
  {
   "cell_type": "code",
   "execution_count": 39,
   "metadata": {},
   "outputs": [],
   "source": [
    "frame[\"HouseholdWithChildrenA\"] = (frame[\"households with children\" ]*frame[\"l1_totalpop\"]/frame[\"Number of inhabitants\"]) "
   ]
  },
  {
   "cell_type": "code",
   "execution_count": 40,
   "metadata": {},
   "outputs": [],
   "source": [
    "frame[\"HouseholdWithChildrenB\"] = (frame[\"households with children\" ] * frame[\"l1_totalpop\"]/frame[\"Number of inhabitants\"]) * (frame[\"l2_children\"] / frame[ \"age 0 to 15 years\" ])"
   ]
  },
  {
   "cell_type": "code",
   "execution_count": null,
   "metadata": {},
   "outputs": [],
   "source": [
    "print(frame[\"Buurtcombinatie_code\"], frame[\"households with children\"])"
   ]
  },
  {
   "cell_type": "code",
   "execution_count": null,
   "metadata": {},
   "outputs": [],
   "source": [
    "print(frame[\"HouseholdWithChildren\"].groupby(\"Buurtcombinatie\").sum())"
   ]
  },
  {
   "cell_type": "code",
   "execution_count": null,
   "metadata": {},
   "outputs": [],
   "source": [
    "frame[\"HouseholdWithoutChildren\"] = (join_left_df[\"households without children \" ]*join_left_df[\"l1_totalpop\"]/join_left_df[\"Number of inhabitants\"]) * ( (join_left_df[\"Number of inhabitants\"] - join_left_df[ \"age 0 to 15 years\"]) / ( join_left_df[\"l1_totalpop\"] - join_left_df[ \"l2_children\"]) ) "
   ]
  },
  {
   "cell_type": "code",
   "execution_count": null,
   "metadata": {},
   "outputs": [],
   "source": [
    "frame[\"HouseholdSingle\"] = (join_left_df[\"single households\" ]*join_left_df[\"l1_totalpop\"]/join_left_df[\"Number of inhabitants\"]) * ( (join_left_df[\"Number of inhabitants\"] - join_left_df[ \"age 0 to 15 years\"]) / ( join_left_df[\"l1_totalpop\"] - join_left_df[ \"l2_children\"]) ) "
   ]
  },
  {
   "cell_type": "code",
   "execution_count": null,
   "metadata": {},
   "outputs": [],
   "source": [
    "frame[\"totalHouseholdsCell\"] = frame[\"HouseholdWithChildren\"] + frame[\"HouseholdWithoutChildren\"] + frame[\"HouseholdSingle\"]"
   ]
  },
  {
   "cell_type": "code",
   "execution_count": null,
   "metadata": {},
   "outputs": [],
   "source": [
    "frame[\"men\"] = (join_left_df[\"men\"]/join_left_df[\"Number of inhabitants\"])*join_left_df[\"l1_totalpop\"]\n",
    "frame[\"women\"] = (join_left_df[\"women\"]/join_left_df[\"Number of inhabitants\"])*join_left_df[\"l1_totalpop\"]\n",
    "\n",
    "frame[\"unmarried\"] = (join_left_df[\"unmarried\"]/join_left_df[\"Number of inhabitants\"])*join_left_df[\"l1_totalpop\"]\n",
    "frame[\"married\"] = (join_left_df[\"a_gehuwd\"]/join_left_df[\"Number of inhabitants\"])*join_left_df[\"l1_totalpop\"]\n",
    "frame[\"divorced\"] = (join_left_df[\"divorced\"]/join_left_df[\"Number of inhabitants\"])*join_left_df[\"l1_totalpop\"]\n",
    "frame[\"widdowed\"] = (join_left_df[\"widdowed\"]/join_left_df[\"Number of inhabitants\"])*join_left_df[\"l1_totalpop\"]"
   ]
  },
  {
   "cell_type": "code",
   "execution_count": null,
   "metadata": {},
   "outputs": [],
   "source": [
    "#list_of_columns_to_exclude = ['grid_id','geometry', \"l1_totalpop\" ]\n",
    "#frame = frame[[i for i in list(frame.columns) if i not in [list_of_columns_to_exclude]]].round(1)\n",
    "frame.to_file(ancillary_POPdata_folder_path + \"/Neighborhood&districtData/demographicProcess/frame5.geojson\",driver='GeoJSON',crs=\"EPSG:3035\")"
   ]
  },
  {
   "cell_type": "code",
   "execution_count": null,
   "metadata": {},
   "outputs": [],
   "source": [
    "def shptoraster(ancillary_POPdata_folder_path,ancillary_data_folder_path, gdal_rasterize_path, city):\n",
    "    # Getting extent of ghs pop raster\n",
    "    data = gdal.Open(os.path.dirname(ancillary_data_folder_path) + \"/temp_tif/{0}_CLC_2012_2018.tif\".format(city))\n",
    "    wkt = data.GetProjection()\n",
    "    geoTransform = data.GetGeoTransform()\n",
    "    minx = geoTransform[0]\n",
    "    maxy = geoTransform[3]\n",
    "    maxx = minx + geoTransform[1] * data.RasterXSize\n",
    "    miny = maxy + geoTransform[5] * data.RasterYSize\n",
    "    data = None\n",
    "    xres=100\n",
    "    yres=100\n",
    "    # Rasterizing layers\n",
    "    src_file = ancillary_POPdata_folder_path + \"/Neighborhood&districtData/demographicProcess/join.geojson\"\n",
    "    df = gpd.read_file(src_file)\n",
    "    \n",
    "    for column_name in df.columns:\n",
    "        \n",
    "        print(\"Rasterizing {} layer\".format(column_name))\n",
    "        dst_file = ancillary_POPdata_folder_path + \"/Neighborhood&districtData/demographicProcess/{0}.tif\".format( column_name)\n",
    "        cmd = '{0}/gdal_rasterize.exe -a \"{9}\" -te {1} {2} {3} {4} -tr {5} {6} \"{7}\" \"{8}\"'\\\n",
    "            .format(gdal_rasterize_path, minx, miny, maxx, maxy, xres, yres, src_file, dst_file, column_name)\n",
    "        print(cmd) #-ot Integer64\n",
    "        subprocess.call(cmd, shell=True)"
   ]
  },
  {
   "cell_type": "code",
   "execution_count": null,
   "metadata": {},
   "outputs": [],
   "source": [
    "gdal_rasterize_path = r'C:/Users/NM12LQ/Anaconda3/envs/popnet_env/Library/bin'\n",
    "\n",
    "shptoraster(ancillary_POPdata_folder_path,ancillary_data_folder_path, gdal_rasterize_path, city)"
   ]
  },
  {
   "cell_type": "code",
   "execution_count": null,
   "metadata": {},
   "outputs": [],
   "source": []
  }
 ]
}
{
 "metadata": {
  "language_info": {
   "codemirror_mode": {
    "name": "ipython",
    "version": 3
   },
   "file_extension": ".py",
   "mimetype": "text/x-python",
   "name": "python",
   "nbconvert_exporter": "python",
   "pygments_lexer": "ipython3",
   "version": "3.7.6"
  },
  "orig_nbformat": 4,
  "kernelspec": {
   "name": "python3",
   "display_name": "Python 3.7.6 64-bit ('popnet_env': conda)"
  },
  "interpreter": {
   "hash": "d963e5a24eb07ae321cef4c8bf227867734dcbda4add7c05a49f0057f961a449"
  }
 },
 "nbformat": 4,
 "nbformat_minor": 2,
 "cells": [
  {
   "cell_type": "markdown",
   "source": [
    "### Processing BBR DATA"
   ],
   "metadata": {}
  },
  {
   "cell_type": "code",
   "execution_count": 31,
   "source": [
    "import os\r\n",
    "import subprocess\r\n",
    "import numpy as np\r\n",
    "import pandas as pd\r\n",
    "import geopandas as gpd\r\n",
    "import openpyxl\r\n",
    "import matplotlib.pyplot as plt\r\n",
    "import seaborn as sns\r\n",
    "%matplotlib inline"
   ],
   "outputs": [],
   "metadata": {}
  },
  {
   "cell_type": "code",
   "execution_count": 32,
   "source": [
    "city=\"cph\"\r\n",
    "base_dir = os.path.dirname(os.path.dirname(os.path.dirname(os.path.abspath(\"__file__\"))))\r\n",
    "print(base_dir)\r\n",
    "# Paths for the Population Data --------------------------------------------------------------\r\n",
    "#path to ancillary data folder\r\n",
    "bbr_folder_path = base_dir + \"/data_prep/{}_ProjectData/bbr\".format(city)\r\n",
    "ancillary_POPdata_folder_path = base_dir + \"/data_prep/{}_ProjectData/PopData\".format(city)\r\n",
    "#cor_path= base_dir + \"/data_prep/{}_data_scripts_pop/correlations/corImages\".format(city)\r\n",
    "#image_path= base_dir + \"/data_prep/{}_Projectdata/PopData/images\".format(city)\r\n",
    "years_list=[2004,2006,2008] #1990, 1992,1994,1996,1998,2000, 2002,2004,2006,2008,2010,2012,2014,2016,2018, 2020\r\n",
    "#,2010,2012,2014,2016,2018,2020\r\n",
    "gdal_path = r'C:/Users/NM12LQ/Anaconda3/Lib/site-packages/osgeo'"
   ],
   "outputs": [
    {
     "output_type": "stream",
     "name": "stdout",
     "text": [
      "c:\\FUME\\PopNetV2\n"
     ]
    }
   ],
   "metadata": {}
  },
  {
   "cell_type": "markdown",
   "source": [
    "### Clip to extent of case study area based on BBOX"
   ],
   "metadata": {}
  },
  {
   "cell_type": "code",
   "execution_count": null,
   "source": [
    "csPath =  os.path.dirname(bbr_folder_path) + \"/temp_shp/{0}_bbox.shp\".format(city)\r\n",
    "cs = gpd.read_file(csPath).to_crs(\"epsg:25832\")\r\n",
    "xmin, ymin, xmax, ymax = cs.geometry.total_bounds\r\n",
    "print(xmin, ymin, xmax, ymax)"
   ],
   "outputs": [],
   "metadata": {}
  },
  {
   "cell_type": "code",
   "execution_count": null,
   "source": [
    "def clipSelectCulture(gdal_path, xmin, ymin, xmax, ymax, bbr_folder_path, year): \r\n",
    "    cmd_tif_merge = '{0}/ogr2ogr.exe -spat {1} {2} {3} {4} -where \"\\\"BYG_ANVEND\\\" = 410\" -s_srs EPSG:25832 -t_srs EPSG:3035 -f GPKG {5}/cph_bbr/culture/{6}_bbr_culture.gpkg {5}/rawData/bbr_{6}.gpkg'.format(gdal_path, xmin, ymin, xmax, ymax, bbr_folder_path, year)\r\n",
    "    print(cmd_tif_merge)\r\n",
    "    subprocess.call(cmd_tif_merge, shell=False)"
   ],
   "outputs": [],
   "metadata": {}
  },
  {
   "cell_type": "code",
   "execution_count": null,
   "source": [
    "def clipToExtent(gdal_path, xmin, ymin, xmax, ymax, bbr_folder_path, year): \r\n",
    "    cmd_tif_merge = '{0}/ogr2ogr.exe -spat {1} {2} {3} {4} -s_srs EPSG:25832 -t_srs EPSG:3035 -f GPKG {5}/cph_bbr/{6}_cph_bbr.gpkg {5}/rawData/bbr_{6}.gpkg'.format(gdal_path, xmin, ymin, xmax, ymax, bbr_folder_path, year)\r\n",
    "    print(cmd_tif_merge)\r\n",
    "    subprocess.call(cmd_tif_merge, shell=False)"
   ],
   "outputs": [],
   "metadata": {}
  },
  {
   "cell_type": "code",
   "execution_count": null,
   "source": [
    "# Building for teaching and research (school, high school, research laboratory, etc.) + Building for day care.\r\n",
    "def clipSelectScools(gdal_path, xmin, ymin, xmax, ymax, bbr_folder_path, year): \r\n",
    "    cmd_tif_merge = '{0}/ogr2ogr.exe -spat {1} {2} {3} {4} -where \"BYG_ANVEND = 420 or BYG_ANVEND = 421 or BYG_ANVEND = 440 or BYG_ANVEND = 441\" -s_srs EPSG:25832 -t_srs EPSG:3035 -f GPKG {5}/cph_bbr/schools/{6}_bbr_schools.gpkg {5}/rawData/bbr_{6}.gpkg'.format(gdal_path, xmin, ymin, xmax, ymax, bbr_folder_path, year)\r\n",
    "    print(cmd_tif_merge)\r\n",
    "    subprocess.call(cmd_tif_merge, shell=False)"
   ],
   "outputs": [],
   "metadata": {}
  },
  {
   "cell_type": "code",
   "execution_count": null,
   "source": [
    "for year in years_list: \r\n",
    "    clipToExtent(gdal_path, xmin, ymin, xmax, ymax, bbr_folder_path, year)\r\n",
    "    #clipSelectScools(gdal_path, xmin, ymin, xmax, ymax, bbr_folder_path, year)\r\n",
    "    #clipSelectCulture(gdal_path, xmin, ymin, xmax, ymax, bbr_folder_path, year)"
   ],
   "outputs": [],
   "metadata": {}
  },
  {
   "cell_type": "code",
   "execution_count": null,
   "source": [],
   "outputs": [],
   "metadata": {}
  }
 ]
}
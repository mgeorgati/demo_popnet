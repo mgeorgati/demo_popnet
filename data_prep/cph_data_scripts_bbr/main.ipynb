{
 "metadata": {
  "language_info": {
   "codemirror_mode": {
    "name": "ipython",
    "version": 3
   },
   "file_extension": ".py",
   "mimetype": "text/x-python",
   "name": "python",
   "nbconvert_exporter": "python",
   "pygments_lexer": "ipython3",
   "version": "3.7.6"
  },
  "orig_nbformat": 4,
  "kernelspec": {
   "name": "python3",
   "display_name": "Python 3.7.6 64-bit ('popnet_env': conda)"
  },
  "interpreter": {
   "hash": "d963e5a24eb07ae321cef4c8bf227867734dcbda4add7c05a49f0057f961a449"
  }
 },
 "nbformat": 4,
 "nbformat_minor": 2,
 "cells": [
  {
   "source": [
    "### Processing BBR DATA"
   ],
   "cell_type": "markdown",
   "metadata": {}
  },
  {
   "cell_type": "code",
   "execution_count": 1,
   "metadata": {},
   "outputs": [],
   "source": [
    "import os\n",
    "import subprocess\n",
    "import numpy as np\n",
    "import pandas as pd\n",
    "import geopandas as gpd\n",
    "import openpyxl\n",
    "import matplotlib.pyplot as plt\n",
    "import seaborn as sns\n",
    "%matplotlib inline"
   ]
  },
  {
   "cell_type": "code",
   "execution_count": 2,
   "metadata": {},
   "outputs": [
    {
     "output_type": "stream",
     "name": "stdout",
     "text": [
      "c:\\FUME\\PopNetV2\n"
     ]
    }
   ],
   "source": [
    "city=\"cph\"\n",
    "base_dir = os.path.dirname(os.path.dirname(os.path.dirname(os.path.abspath(\"__file__\"))))\n",
    "print(base_dir)\n",
    "# Paths for the Population Data --------------------------------------------------------------\n",
    "#path to ancillary data folder\n",
    "bbr_folder_path = base_dir + \"/data_prep/{}_Projectdata/bbr\".format(city)\n",
    "ancillary_POPdata_folder_path = base_dir + \"/data_prep/{}_Projectdata/PopData\".format(city)\n",
    "#cor_path= base_dir + \"/data_prep/{}_data_scripts_pop/correlations/corImages\".format(city)\n",
    "#image_path= base_dir + \"/data_prep/{}_Projectdata/PopData/images\".format(city)\n",
    "years_list=[2002,2004,2006,2008,2010,2012,2014,2016,2018,2020] #1990, 1992,1994,1996,1998,2000, 2002,2004,2006,2008,2010,2012,2014,2016,2018, 2020\n",
    "\n",
    "gdal_path = r'C:/Users/NM12LQ/Anaconda3/Lib/site-packages/osgeo'"
   ]
  },
  {
   "source": [
    "### Clip to extent of case study area based on BBOX"
   ],
   "cell_type": "markdown",
   "metadata": {}
  },
  {
   "cell_type": "code",
   "execution_count": 3,
   "metadata": {},
   "outputs": [
    {
     "output_type": "stream",
     "name": "stdout",
     "text": [
      "697877.0291663711 6161959.539828447 739020.5204616208 6190875.515453988\n"
     ]
    }
   ],
   "source": [
    "csPath =  os.path.dirname(bbr_folder_path) + \"/temp_shp/{0}_bbox.shp\".format(city)\n",
    "cs = gpd.read_file(csPath).to_crs(\"epsg:25832\")\n",
    "xmin, ymin, xmax, ymax = cs.geometry.total_bounds\n",
    "print(xmin, ymin, xmax, ymax)"
   ]
  },
  {
   "cell_type": "code",
   "execution_count": 4,
   "metadata": {},
   "outputs": [],
   "source": [
    "def clipSelectCulture(gdal_path, xmin, ymin, xmax, ymax, bbr_folder_path, year): \n",
    "    cmd_tif_merge = '{0}/ogr2ogr.exe -spat {1} {2} {3} {4} -where \"\\\"BYG_ANVEND\\\" = 410\" -s_srs EPSG:25832 -t_srs EPSG:3035 -f GPKG {5}/cph_bbr/culture/{6}_bbr_culture.gpkg {5}/rawData/bbr_{6}.gpkg'.format(gdal_path, xmin, ymin, xmax, ymax, bbr_folder_path, year)\n",
    "    print(cmd_tif_merge)\n",
    "    subprocess.call(cmd_tif_merge, shell=False)"
   ]
  },
  {
   "cell_type": "code",
   "execution_count": 4,
   "metadata": {},
   "outputs": [],
   "source": [
    "def clipToExtent(gdal_path, xmin, ymin, xmax, ymax, bbr_folder_path, year): \n",
    "    cmd_tif_merge = '{0}/ogr2ogr.exe -spat {1} {2} {3} {4} -s_srs EPSG:25832 -t_srs EPSG:3035 -f GPKG {5}/cph_bbr/{6}_cph_bbr.gpkg {5}/rawData/bbr_{6}.gpkg'.format(gdal_path, xmin, ymin, xmax, ymax, bbr_folder_path, year)\n",
    "    print(cmd_tif_merge)\n",
    "    subprocess.call(cmd_tif_merge, shell=False)"
   ]
  },
  {
   "cell_type": "code",
   "execution_count": 5,
   "metadata": {},
   "outputs": [],
   "source": [
    "# Building for teaching and research (school, high school, research laboratory, etc.) + Building for day care.\n",
    "def clipSelectScools(gdal_path, xmin, ymin, xmax, ymax, bbr_folder_path, year): \n",
    "    cmd_tif_merge = '{0}/ogr2ogr.exe -spat {1} {2} {3} {4} -where \"BYG_ANVEND = 420 or BYG_ANVEND = 421 or BYG_ANVEND = 440 or BYG_ANVEND = 441\" -s_srs EPSG:25832 -t_srs EPSG:3035 -f GPKG {5}/cph_bbr/schools/{6}_bbr_schools.gpkg {5}/rawData/bbr_{6}.gpkg'.format(gdal_path, xmin, ymin, xmax, ymax, bbr_folder_path, year)\n",
    "    print(cmd_tif_merge)\n",
    "    subprocess.call(cmd_tif_merge, shell=False)"
   ]
  },
  {
   "cell_type": "code",
   "execution_count": 5,
   "metadata": {},
   "outputs": [
    {
     "output_type": "stream",
     "name": "stdout",
     "text": [
      "C:/Users/NM12LQ/Anaconda3/Lib/site-packages/osgeo/ogr2ogr.exe -spat 697877.0291663711 6161959.539828447 739020.5204616208 6190875.515453988 -s_srs EPSG:25832 -t_srs EPSG:3035 -f GPKG c:\\FUME\\PopNetV2/data_prep/cph_Projectdata/bbr/cph_bbr/2002_cph_bbr.gpkg c:\\FUME\\PopNetV2/data_prep/cph_Projectdata/bbr/rawData/bbr_2002.gpkg\n",
      "C:/Users/NM12LQ/Anaconda3/Lib/site-packages/osgeo/ogr2ogr.exe -spat 697877.0291663711 6161959.539828447 739020.5204616208 6190875.515453988 -s_srs EPSG:25832 -t_srs EPSG:3035 -f GPKG c:\\FUME\\PopNetV2/data_prep/cph_Projectdata/bbr/cph_bbr/2004_cph_bbr.gpkg c:\\FUME\\PopNetV2/data_prep/cph_Projectdata/bbr/rawData/bbr_2004.gpkg\n",
      "C:/Users/NM12LQ/Anaconda3/Lib/site-packages/osgeo/ogr2ogr.exe -spat 697877.0291663711 6161959.539828447 739020.5204616208 6190875.515453988 -s_srs EPSG:25832 -t_srs EPSG:3035 -f GPKG c:\\FUME\\PopNetV2/data_prep/cph_Projectdata/bbr/cph_bbr/2006_cph_bbr.gpkg c:\\FUME\\PopNetV2/data_prep/cph_Projectdata/bbr/rawData/bbr_2006.gpkg\n",
      "C:/Users/NM12LQ/Anaconda3/Lib/site-packages/osgeo/ogr2ogr.exe -spat 697877.0291663711 6161959.539828447 739020.5204616208 6190875.515453988 -s_srs EPSG:25832 -t_srs EPSG:3035 -f GPKG c:\\FUME\\PopNetV2/data_prep/cph_Projectdata/bbr/cph_bbr/2008_cph_bbr.gpkg c:\\FUME\\PopNetV2/data_prep/cph_Projectdata/bbr/rawData/bbr_2008.gpkg\n",
      "C:/Users/NM12LQ/Anaconda3/Lib/site-packages/osgeo/ogr2ogr.exe -spat 697877.0291663711 6161959.539828447 739020.5204616208 6190875.515453988 -s_srs EPSG:25832 -t_srs EPSG:3035 -f GPKG c:\\FUME\\PopNetV2/data_prep/cph_Projectdata/bbr/cph_bbr/2010_cph_bbr.gpkg c:\\FUME\\PopNetV2/data_prep/cph_Projectdata/bbr/rawData/bbr_2010.gpkg\n",
      "C:/Users/NM12LQ/Anaconda3/Lib/site-packages/osgeo/ogr2ogr.exe -spat 697877.0291663711 6161959.539828447 739020.5204616208 6190875.515453988 -s_srs EPSG:25832 -t_srs EPSG:3035 -f GPKG c:\\FUME\\PopNetV2/data_prep/cph_Projectdata/bbr/cph_bbr/2012_cph_bbr.gpkg c:\\FUME\\PopNetV2/data_prep/cph_Projectdata/bbr/rawData/bbr_2012.gpkg\n",
      "C:/Users/NM12LQ/Anaconda3/Lib/site-packages/osgeo/ogr2ogr.exe -spat 697877.0291663711 6161959.539828447 739020.5204616208 6190875.515453988 -s_srs EPSG:25832 -t_srs EPSG:3035 -f GPKG c:\\FUME\\PopNetV2/data_prep/cph_Projectdata/bbr/cph_bbr/2014_cph_bbr.gpkg c:\\FUME\\PopNetV2/data_prep/cph_Projectdata/bbr/rawData/bbr_2014.gpkg\n",
      "C:/Users/NM12LQ/Anaconda3/Lib/site-packages/osgeo/ogr2ogr.exe -spat 697877.0291663711 6161959.539828447 739020.5204616208 6190875.515453988 -s_srs EPSG:25832 -t_srs EPSG:3035 -f GPKG c:\\FUME\\PopNetV2/data_prep/cph_Projectdata/bbr/cph_bbr/2016_cph_bbr.gpkg c:\\FUME\\PopNetV2/data_prep/cph_Projectdata/bbr/rawData/bbr_2016.gpkg\n",
      "C:/Users/NM12LQ/Anaconda3/Lib/site-packages/osgeo/ogr2ogr.exe -spat 697877.0291663711 6161959.539828447 739020.5204616208 6190875.515453988 -s_srs EPSG:25832 -t_srs EPSG:3035 -f GPKG c:\\FUME\\PopNetV2/data_prep/cph_Projectdata/bbr/cph_bbr/2018_cph_bbr.gpkg c:\\FUME\\PopNetV2/data_prep/cph_Projectdata/bbr/rawData/bbr_2018.gpkg\n",
      "C:/Users/NM12LQ/Anaconda3/Lib/site-packages/osgeo/ogr2ogr.exe -spat 697877.0291663711 6161959.539828447 739020.5204616208 6190875.515453988 -s_srs EPSG:25832 -t_srs EPSG:3035 -f GPKG c:\\FUME\\PopNetV2/data_prep/cph_Projectdata/bbr/cph_bbr/2020_cph_bbr.gpkg c:\\FUME\\PopNetV2/data_prep/cph_Projectdata/bbr/rawData/bbr_2020.gpkg\n"
     ]
    }
   ],
   "source": [
    "for year in years_list: \n",
    "    clipToExtent(gdal_path, xmin, ymin, xmax, ymax, bbr_folder_path, year)\n",
    "    #clipSelectScools(gdal_path, xmin, ymin, xmax, ymax, bbr_folder_path, year)\n",
    "    #clipSelectCulture(gdal_path, xmin, ymin, xmax, ymax, bbr_folder_path, year)"
   ]
  },
  {
   "cell_type": "code",
   "execution_count": null,
   "metadata": {},
   "outputs": [],
   "source": []
  }
 ]
}
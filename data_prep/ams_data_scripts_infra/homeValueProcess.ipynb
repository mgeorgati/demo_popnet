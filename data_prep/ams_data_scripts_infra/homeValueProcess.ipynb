{
 "metadata": {
  "language_info": {
   "codemirror_mode": {
    "name": "ipython",
    "version": 3
   },
   "file_extension": ".py",
   "mimetype": "text/x-python",
   "name": "python",
   "nbconvert_exporter": "python",
   "pygments_lexer": "ipython3",
   "version": "3.7.6"
  },
  "orig_nbformat": 4,
  "kernelspec": {
   "name": "python3",
   "display_name": "Python 3.7.6 64-bit ('popnet_env': conda)"
  },
  "interpreter": {
   "hash": "d963e5a24eb07ae321cef4c8bf227867734dcbda4add7c05a49f0057f961a449"
  }
 },
 "nbformat": 4,
 "nbformat_minor": 2,
 "cells": [
  {
   "cell_type": "code",
   "execution_count": 1,
   "metadata": {},
   "outputs": [],
   "source": [
    "import os\n",
    "import subprocess\n",
    "import gdal\n",
    "import numpy as np\n",
    "import pandas as pd\n",
    "import geopandas as gpd\n",
    "from geopandas.tools import sjoin\n",
    "from pathlib import Path\n",
    "import matplotlib.pyplot as plt\n",
    "%matplotlib inline"
   ]
  },
  {
   "cell_type": "code",
   "execution_count": 2,
   "metadata": {},
   "outputs": [
    {
     "output_type": "stream",
     "name": "stdout",
     "text": [
      "c:\\FUME\\PopNetV2\n"
     ]
    }
   ],
   "source": [
    "city=\"ams\"\n",
    "base_dir = os.path.dirname(os.path.dirname(os.path.dirname(os.path.abspath(\"__file__\"))))\n",
    "print(base_dir)\n",
    "# Paths for the Population Data --------------------------------------------------------------\n",
    "#path to ancillary data folder\n",
    "ancillary_data_folder_path = base_dir + \"/data_prep/{}_ProjectData/AncillaryData\".format(city)\n",
    "ancillary_POPdata_folder_path = base_dir + \"/data_prep/{}_ProjectData/PopData\".format(city)\n",
    "image_path= base_dir + \"/data_prep/{}_Projectdata/PopData/images\".format(city)\n",
    "gdal_rasterize_path = r'C:/Users/NM12LQ/Anaconda3/envs/popnet_env/Library/bin'\n",
    "years_list=[2002,2004,2006,2008,2010,2012,2014,2016,2018] \n"
   ]
  },
  {
   "cell_type": "code",
   "execution_count": 3,
   "metadata": {},
   "outputs": [],
   "source": [
    "## ## ## ## ## ----- CREATE NEW FOLDER  ----- ## ## ## ## ##\n",
    "def createFolder(path):\n",
    "    if not os.path.exists(path):\n",
    "        print(\"------------------------------ Creating Folder : {} ------------------------------\".format(path))\n",
    "        os.makedirs(path)\n",
    "    else: \n",
    "        print(\"------------------------------ Folder already exists------------------------------\")"
   ]
  },
  {
   "cell_type": "code",
   "execution_count": 4,
   "metadata": {},
   "outputs": [],
   "source": [
    "def calcMeanHomeValues(outPath, year):\n",
    "    srcPath = ancillary_data_folder_path + \"/home_value/\"\n",
    "    for file in os.listdir(srcPath):\n",
    "        if file.endswith('.shp') and file.startswith('WONINGWAARDE_{0}_'.format(year)) :#\n",
    "            path = Path(srcPath + \"/{0}\".format(file))\n",
    "            polydf = gpd.read_file(path, crs=\"EPSG:28992\")\n",
    "            polydf = polydf.to_crs(\"EPSG:3035\")\n",
    "\n",
    "            grid_df = gpd.read_file(ancillary_POPdata_folder_path + '/{0}/temp_shp/{0}_dataVectorGrid.geojson'.format(year))\n",
    "            grid_df.head(2)\n",
    "\n",
    "            join_left_df = sjoin(grid_df, polydf, how=\"left\")\n",
    "            join_left_df.head(2)\n",
    "            frame = join_left_df.drop_duplicates(subset=['grid_id'], keep='first')\n",
    "            col = frame.loc[: , \"Lower\":\"Upper\"]\n",
    "            frame['price_mean'] = col.mean(axis=1)\n",
    "            \n",
    "            ndf= frame[['grid_id','geometry','Lower','Upper','price_mean']]\n",
    "            ndf.to_file(outPath + \"{}_residenceValue.geojson\".format(year) ,driver='GeoJSON',crs=\"EPSG:3035\")"
   ]
  },
  {
   "cell_type": "code",
   "execution_count": 9,
   "metadata": {},
   "outputs": [],
   "source": [
    "# Normalise the prices based on max in 2002\n",
    "def normMeanHomeValues(outPath, destPath, year):\n",
    "    print(outPath)\n",
    "    for file in os.listdir(outPath):\n",
    "        print(file)\n",
    "        if  file.startswith('{0}_'.format(year)) :\n",
    "            path = Path(outPath + \"/{0}\".format(file))\n",
    "            frame = gpd.read_file(path, crs=\"EPSG:3035\")\n",
    "            \n",
    "            #Read file for base of Normalisation (2002) and get max value\n",
    "            maxValuePath = outPath + '/2002_residenceValue.geojson'\n",
    "            maxValueFile = gpd.read_file(maxValuePath, crs=\"EPSG:3035\")\n",
    "            maxValue = maxValueFile['price_mean'].max()\n",
    "            \n",
    "            # Normalise\n",
    "            frame['price_meanNorm'] = frame['price_mean'] / maxValueFile['price_mean']\n",
    "            ndf = frame[['grid_id','geometry','price_meanNorm']]\n",
    "            \n",
    "            # Save file\n",
    "            ndf.to_file(destPath + \"{}_residenceValueNorm.geojson\".format(year) ,driver='GeoJSON',crs=\"EPSG:3035\")"
   ]
  },
  {
   "cell_type": "code",
   "execution_count": 13,
   "metadata": {},
   "outputs": [],
   "source": [
    "def shptoraster(destPath, ancillary_data_folder_path, gdal_rasterize_path, city,year):\n",
    "    # Getting extent of ghs pop raster\n",
    "    data = gdal.Open(os.path.dirname(ancillary_data_folder_path) + \"/temp_tif/{0}_CLC_2012_2018.tif\".format(city))\n",
    "    wkt = data.GetProjection()\n",
    "    geoTransform = data.GetGeoTransform()\n",
    "    minx = geoTransform[0]\n",
    "    maxy = geoTransform[3]\n",
    "    maxx = minx + geoTransform[1] * data.RasterXSize\n",
    "    miny = maxy + geoTransform[5] * data.RasterYSize\n",
    "    data = None\n",
    "    xres=100\n",
    "    yres=100\n",
    "    # Rasterizing layers\n",
    "    src_file = destPath + \"{}_residenceValueNorm.geojson\".format(year)\n",
    "    df = gpd.read_file(src_file)\n",
    "    \n",
    "    column_name = 'price_meanNorm'\n",
    "    print(\"Rasterizing {} layer\".format(column_name))\n",
    "    dst_file = destPath + \"/{0}_{1}.tif\".format(year, column_name)\n",
    "    cmd = '{0}/gdal_rasterize.exe -a {9} -te {1} {2} {3} {4} -tr {5} {6} \"{7}\" \"{8}\"'\\\n",
    "        .format(gdal_rasterize_path, minx, miny, maxx, maxy, xres, yres, src_file, dst_file, column_name)\n",
    "    print(cmd) #-ot Integer64\n",
    "    subprocess.call(cmd, shell=True)"
   ]
  },
  {
   "cell_type": "code",
   "execution_count": 14,
   "metadata": {
    "tags": []
   },
   "outputs": [
    {
     "output_type": "stream",
     "name": "stdout",
     "text": [
      "------------------------------ Folder already exists------------------------------\n",
      "------------------------------ Folder already exists------------------------------\n",
      "Rasterizing price_meanNorm layer\n",
      "C:/Users/NM12LQ/Anaconda3/envs/popnet_env/Library/bin/gdal_rasterize.exe -a price_meanNorm -te 3962600.0 3252900.0 3986200.0 3270800.0 -tr 100 100 \"c:\\FUME\\PopNetV2/data_prep/ams_ProjectData/Normalized/02HomePrices_Norm/2002_residenceValueNorm.geojson\" \"c:\\FUME\\PopNetV2/data_prep/ams_ProjectData/Normalized/02HomePrices_Norm//2002_price_meanNorm.tif\"\n",
      "Rasterizing price_meanNorm layer\n",
      "C:/Users/NM12LQ/Anaconda3/envs/popnet_env/Library/bin/gdal_rasterize.exe -a price_meanNorm -te 3962600.0 3252900.0 3986200.0 3270800.0 -tr 100 100 \"c:\\FUME\\PopNetV2/data_prep/ams_ProjectData/Normalized/02HomePrices_Norm/2004_residenceValueNorm.geojson\" \"c:\\FUME\\PopNetV2/data_prep/ams_ProjectData/Normalized/02HomePrices_Norm//2004_price_meanNorm.tif\"\n",
      "Rasterizing price_meanNorm layer\n",
      "C:/Users/NM12LQ/Anaconda3/envs/popnet_env/Library/bin/gdal_rasterize.exe -a price_meanNorm -te 3962600.0 3252900.0 3986200.0 3270800.0 -tr 100 100 \"c:\\FUME\\PopNetV2/data_prep/ams_ProjectData/Normalized/02HomePrices_Norm/2006_residenceValueNorm.geojson\" \"c:\\FUME\\PopNetV2/data_prep/ams_ProjectData/Normalized/02HomePrices_Norm//2006_price_meanNorm.tif\"\n",
      "Rasterizing price_meanNorm layer\n",
      "C:/Users/NM12LQ/Anaconda3/envs/popnet_env/Library/bin/gdal_rasterize.exe -a price_meanNorm -te 3962600.0 3252900.0 3986200.0 3270800.0 -tr 100 100 \"c:\\FUME\\PopNetV2/data_prep/ams_ProjectData/Normalized/02HomePrices_Norm/2008_residenceValueNorm.geojson\" \"c:\\FUME\\PopNetV2/data_prep/ams_ProjectData/Normalized/02HomePrices_Norm//2008_price_meanNorm.tif\"\n",
      "Rasterizing price_meanNorm layer\n",
      "C:/Users/NM12LQ/Anaconda3/envs/popnet_env/Library/bin/gdal_rasterize.exe -a price_meanNorm -te 3962600.0 3252900.0 3986200.0 3270800.0 -tr 100 100 \"c:\\FUME\\PopNetV2/data_prep/ams_ProjectData/Normalized/02HomePrices_Norm/2010_residenceValueNorm.geojson\" \"c:\\FUME\\PopNetV2/data_prep/ams_ProjectData/Normalized/02HomePrices_Norm//2010_price_meanNorm.tif\"\n",
      "Rasterizing price_meanNorm layer\n",
      "C:/Users/NM12LQ/Anaconda3/envs/popnet_env/Library/bin/gdal_rasterize.exe -a price_meanNorm -te 3962600.0 3252900.0 3986200.0 3270800.0 -tr 100 100 \"c:\\FUME\\PopNetV2/data_prep/ams_ProjectData/Normalized/02HomePrices_Norm/2012_residenceValueNorm.geojson\" \"c:\\FUME\\PopNetV2/data_prep/ams_ProjectData/Normalized/02HomePrices_Norm//2012_price_meanNorm.tif\"\n",
      "Rasterizing price_meanNorm layer\n",
      "C:/Users/NM12LQ/Anaconda3/envs/popnet_env/Library/bin/gdal_rasterize.exe -a price_meanNorm -te 3962600.0 3252900.0 3986200.0 3270800.0 -tr 100 100 \"c:\\FUME\\PopNetV2/data_prep/ams_ProjectData/Normalized/02HomePrices_Norm/2014_residenceValueNorm.geojson\" \"c:\\FUME\\PopNetV2/data_prep/ams_ProjectData/Normalized/02HomePrices_Norm//2014_price_meanNorm.tif\"\n",
      "Rasterizing price_meanNorm layer\n",
      "C:/Users/NM12LQ/Anaconda3/envs/popnet_env/Library/bin/gdal_rasterize.exe -a price_meanNorm -te 3962600.0 3252900.0 3986200.0 3270800.0 -tr 100 100 \"c:\\FUME\\PopNetV2/data_prep/ams_ProjectData/Normalized/02HomePrices_Norm/2016_residenceValueNorm.geojson\" \"c:\\FUME\\PopNetV2/data_prep/ams_ProjectData/Normalized/02HomePrices_Norm//2016_price_meanNorm.tif\"\n",
      "Rasterizing price_meanNorm layer\n",
      "C:/Users/NM12LQ/Anaconda3/envs/popnet_env/Library/bin/gdal_rasterize.exe -a price_meanNorm -te 3962600.0 3252900.0 3986200.0 3270800.0 -tr 100 100 \"c:\\FUME\\PopNetV2/data_prep/ams_ProjectData/Normalized/02HomePrices_Norm/2018_residenceValueNorm.geojson\" \"c:\\FUME\\PopNetV2/data_prep/ams_ProjectData/Normalized/02HomePrices_Norm//2018_price_meanNorm.tif\"\n"
     ]
    }
   ],
   "source": [
    "outPath = os.path.dirname(ancillary_data_folder_path) + \"/temp_shp/home_prices/\"\n",
    "destPath  = os.path.dirname(ancillary_data_folder_path) + \"/Normalized/02HomePrices_Norm/\"\n",
    "createFolder(outPath)\n",
    "createFolder(destPath)\n",
    "\n",
    "for year in years_list:\n",
    "    calcMeanHomeValues(outPath, year)\n",
    "    normMeanHomeValues(outPath,destPath, year)\n",
    "    shptoraster(destPath, ancillary_data_folder_path, gdal_rasterize_path, city,year)"
   ]
  },
  {
   "cell_type": "code",
   "execution_count": null,
   "metadata": {},
   "outputs": [],
   "source": []
  }
 ]
}
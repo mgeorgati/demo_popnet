{
 "metadata": {
  "language_info": {
   "codemirror_mode": {
    "name": "ipython",
    "version": 3
   },
   "file_extension": ".py",
   "mimetype": "text/x-python",
   "name": "python",
   "nbconvert_exporter": "python",
   "pygments_lexer": "ipython3",
   "version": "3.7.6"
  },
  "orig_nbformat": 4,
  "kernelspec": {
   "name": "python3",
   "display_name": "Python 3.7.6 64-bit ('popnet_env': conda)"
  },
  "interpreter": {
   "hash": "d963e5a24eb07ae321cef4c8bf227867734dcbda4add7c05a49f0057f961a449"
  }
 },
 "nbformat": 4,
 "nbformat_minor": 2,
 "cells": [
  {
   "cell_type": "code",
   "execution_count": 1,
   "source": [
    "import os\r\n",
    "import subprocess\r\n",
    "import gdal\r\n",
    "import numpy as np\r\n",
    "import pandas as pd\r\n",
    "import geopandas as gpd\r\n",
    "from geopandas.tools import sjoin\r\n",
    "from pathlib import Path\r\n",
    "import matplotlib.pyplot as plt\r\n",
    "%matplotlib inline"
   ],
   "outputs": [],
   "metadata": {}
  },
  {
   "cell_type": "code",
   "execution_count": 2,
   "source": [
    "city=\"ams\"\r\n",
    "base_dir = os.path.dirname(os.path.dirname(os.path.dirname(os.path.abspath(\"__file__\"))))\r\n",
    "print(base_dir)\r\n",
    "# Paths for the Population Data --------------------------------------------------------------\r\n",
    "#path to ancillary data folder\r\n",
    "ancillary_data_folder_path = base_dir + \"/data_prep/{}_ProjectData/AncillaryData\".format(city)\r\n",
    "ancillary_POPdata_folder_path = base_dir + \"/data_prep/{}_ProjectData/PopData\".format(city)\r\n",
    "image_path= base_dir + \"/data_prep/{}_Projectdata/PopData/images\".format(city)\r\n",
    "gdal_rasterize_path = r'C:/Users/NM12LQ/Anaconda3/envs/popnet_env/Library/bin'\r\n",
    "years_list=[2002,2004,2006,2008,2010,2012,2014,2016,2018] \r\n"
   ],
   "outputs": [
    {
     "output_type": "stream",
     "name": "stdout",
     "text": [
      "c:\\FUME\\PopNetV2\n"
     ]
    }
   ],
   "metadata": {}
  },
  {
   "cell_type": "code",
   "execution_count": 3,
   "source": [
    "## ## ## ## ## ----- CREATE NEW FOLDER  ----- ## ## ## ## ##\r\n",
    "def createFolder(path):\r\n",
    "    if not os.path.exists(path):\r\n",
    "        print(\"------------------------------ Creating Folder : {} ------------------------------\".format(path))\r\n",
    "        os.makedirs(path)\r\n",
    "    else: \r\n",
    "        print(\"------------------------------ Folder already exists------------------------------\")"
   ],
   "outputs": [],
   "metadata": {}
  },
  {
   "cell_type": "code",
   "execution_count": 4,
   "source": [
    "def calcMeanHomeValues(outPath, year):\r\n",
    "    srcPath = ancillary_data_folder_path + \"/home_value/\"\r\n",
    "    for file in os.listdir(srcPath):\r\n",
    "        if file.endswith('.shp') and file.startswith('WONINGWAARDE_{0}_'.format(year)) :#\r\n",
    "            path = Path(srcPath + \"/{0}\".format(file))\r\n",
    "            polydf = gpd.read_file(path, crs=\"EPSG:28992\")\r\n",
    "            polydf = polydf.to_crs(\"EPSG:3035\")\r\n",
    "\r\n",
    "            grid_df = gpd.read_file(ancillary_POPdata_folder_path + '/{0}/temp_shp/{0}_dataVectorGrid.geojson'.format(year))\r\n",
    "            grid_df.head(2)\r\n",
    "\r\n",
    "            join_left_df = sjoin(grid_df, polydf, how=\"left\")\r\n",
    "            join_left_df.head(2)\r\n",
    "            frame = join_left_df.drop_duplicates(subset=['grid_id'], keep='first')\r\n",
    "            col = frame.loc[: , \"Lower\":\"Upper\"]\r\n",
    "            frame['price_mean'] = col.mean(axis=1)\r\n",
    "            \r\n",
    "            ndf= frame[['grid_id','geometry','Lower','Upper','price_mean']]\r\n",
    "            ndf.to_file(outPath + \"{}_residenceValue.geojson\".format(year) ,driver='GeoJSON',crs=\"EPSG:3035\")"
   ],
   "outputs": [],
   "metadata": {}
  },
  {
   "cell_type": "code",
   "execution_count": 9,
   "source": [
    "# Normalise the prices based on max in 2002\r\n",
    "def normMeanHomeValues(outPath, destPath, year):\r\n",
    "    print(outPath)\r\n",
    "    for file in os.listdir(outPath):\r\n",
    "        print(file)\r\n",
    "        if  file.startswith('{0}_'.format(year)) :\r\n",
    "            path = Path(outPath + \"/{0}\".format(file))\r\n",
    "            frame = gpd.read_file(path, crs=\"EPSG:3035\")\r\n",
    "            \r\n",
    "            #Read file for base of Normalisation (2002) and get max value\r\n",
    "            maxValuePath = outPath + '/2002_residenceValue.geojson'\r\n",
    "            maxValueFile = gpd.read_file(maxValuePath, crs=\"EPSG:3035\")\r\n",
    "            maxValue = maxValueFile['price_mean'].max()\r\n",
    "            \r\n",
    "            # Normalise\r\n",
    "            frame['price_meanNorm'] = frame['price_mean'] / maxValueFile['price_mean']\r\n",
    "            ndf = frame[['grid_id','geometry','price_meanNorm']]\r\n",
    "            \r\n",
    "            # Save file\r\n",
    "            ndf.to_file(destPath + \"{}_residenceValueNorm.geojson\".format(year) ,driver='GeoJSON',crs=\"EPSG:3035\")"
   ],
   "outputs": [],
   "metadata": {}
  },
  {
   "cell_type": "code",
   "execution_count": 7,
   "source": [
    "def shptoraster(srcPath, dstPath, ancillary_data_folder_path, gdal_rasterize_path, city,year):\r\n",
    "    # Getting extent of ghs pop raster\r\n",
    "    data = gdal.Open(os.path.dirname(ancillary_data_folder_path) + \"/temp_tif/{0}_CLC_2012_2018.tif\".format(city))\r\n",
    "    wkt = data.GetProjection()\r\n",
    "    geoTransform = data.GetGeoTransform()\r\n",
    "    minx = geoTransform[0]\r\n",
    "    maxy = geoTransform[3]\r\n",
    "    maxx = minx + geoTransform[1] * data.RasterXSize\r\n",
    "    miny = maxy + geoTransform[5] * data.RasterYSize\r\n",
    "    data = None\r\n",
    "    xres=100\r\n",
    "    yres=100\r\n",
    "    # Rasterizing layers\r\n",
    "    src_file = srcPath + \"{}_residenceValue.geojson\".format(year)\r\n",
    "    df = gpd.read_file(src_file)\r\n",
    "    \r\n",
    "    column_name = 'price_mean'\r\n",
    "    print(\"Rasterizing {} layer\".format(column_name))\r\n",
    "    dst_file = dstPath + \"/{0}_{1}.tif\".format(year, column_name)\r\n",
    "    cmd = '{0}/gdal_rasterize.exe -a {9} -te {1} {2} {3} {4} -tr {5} {6} \"{7}\" \"{8}\"'\\\r\n",
    "        .format(gdal_rasterize_path, minx, miny, maxx, maxy, xres, yres, src_file, dst_file, column_name)\r\n",
    "    print(cmd) #-ot Integer64\r\n",
    "    subprocess.call(cmd, shell=True)"
   ],
   "outputs": [],
   "metadata": {}
  },
  {
   "cell_type": "code",
   "execution_count": 9,
   "source": [
    "outPath = os.path.dirname(ancillary_data_folder_path) + \"/temp_shp/home_prices/\"\r\n",
    "#destPath  = os.path.dirname(ancillary_data_folder_path) + \"/Normalized/02HomePrices_Norm/\"\r\n",
    "destPath  = os.path.dirname(ancillary_data_folder_path) + \"/temp_tif/ams_home_prices/\"\r\n",
    "#createFolder(outPath)\r\n",
    "createFolder(destPath)\r\n",
    "\r\n",
    "for year in years_list:\r\n",
    "    #calcMeanHomeValues(outPath, year)\r\n",
    "    #normMeanHomeValues(outPath,destPath, year)\r\n",
    "    shptoraster(outPath, destPath, ancillary_data_folder_path, gdal_rasterize_path, city,year)"
   ],
   "outputs": [
    {
     "output_type": "stream",
     "name": "stdout",
     "text": [
      "------------------------------ Folder already exists------------------------------\n",
      "Rasterizing price_mean layer\n",
      "C:/Users/NM12LQ/Anaconda3/envs/popnet_env/Library/bin/gdal_rasterize.exe -a price_mean -te 3962600.0 3252900.0 3986200.0 3270800.0 -tr 100 100 \"c:\\FUME\\PopNetV2/data_prep/ams_ProjectData/temp_shp/home_prices/2002_residenceValue.geojson\" \"c:\\FUME\\PopNetV2/data_prep/ams_ProjectData/temp_tif/ams_home_prices//2002_price_mean.tif\"\n",
      "Rasterizing price_mean layer\n",
      "C:/Users/NM12LQ/Anaconda3/envs/popnet_env/Library/bin/gdal_rasterize.exe -a price_mean -te 3962600.0 3252900.0 3986200.0 3270800.0 -tr 100 100 \"c:\\FUME\\PopNetV2/data_prep/ams_ProjectData/temp_shp/home_prices/2004_residenceValue.geojson\" \"c:\\FUME\\PopNetV2/data_prep/ams_ProjectData/temp_tif/ams_home_prices//2004_price_mean.tif\"\n",
      "Rasterizing price_mean layer\n",
      "C:/Users/NM12LQ/Anaconda3/envs/popnet_env/Library/bin/gdal_rasterize.exe -a price_mean -te 3962600.0 3252900.0 3986200.0 3270800.0 -tr 100 100 \"c:\\FUME\\PopNetV2/data_prep/ams_ProjectData/temp_shp/home_prices/2006_residenceValue.geojson\" \"c:\\FUME\\PopNetV2/data_prep/ams_ProjectData/temp_tif/ams_home_prices//2006_price_mean.tif\"\n",
      "Rasterizing price_mean layer\n",
      "C:/Users/NM12LQ/Anaconda3/envs/popnet_env/Library/bin/gdal_rasterize.exe -a price_mean -te 3962600.0 3252900.0 3986200.0 3270800.0 -tr 100 100 \"c:\\FUME\\PopNetV2/data_prep/ams_ProjectData/temp_shp/home_prices/2008_residenceValue.geojson\" \"c:\\FUME\\PopNetV2/data_prep/ams_ProjectData/temp_tif/ams_home_prices//2008_price_mean.tif\"\n",
      "Rasterizing price_mean layer\n",
      "C:/Users/NM12LQ/Anaconda3/envs/popnet_env/Library/bin/gdal_rasterize.exe -a price_mean -te 3962600.0 3252900.0 3986200.0 3270800.0 -tr 100 100 \"c:\\FUME\\PopNetV2/data_prep/ams_ProjectData/temp_shp/home_prices/2010_residenceValue.geojson\" \"c:\\FUME\\PopNetV2/data_prep/ams_ProjectData/temp_tif/ams_home_prices//2010_price_mean.tif\"\n",
      "Rasterizing price_mean layer\n",
      "C:/Users/NM12LQ/Anaconda3/envs/popnet_env/Library/bin/gdal_rasterize.exe -a price_mean -te 3962600.0 3252900.0 3986200.0 3270800.0 -tr 100 100 \"c:\\FUME\\PopNetV2/data_prep/ams_ProjectData/temp_shp/home_prices/2012_residenceValue.geojson\" \"c:\\FUME\\PopNetV2/data_prep/ams_ProjectData/temp_tif/ams_home_prices//2012_price_mean.tif\"\n",
      "Rasterizing price_mean layer\n",
      "C:/Users/NM12LQ/Anaconda3/envs/popnet_env/Library/bin/gdal_rasterize.exe -a price_mean -te 3962600.0 3252900.0 3986200.0 3270800.0 -tr 100 100 \"c:\\FUME\\PopNetV2/data_prep/ams_ProjectData/temp_shp/home_prices/2014_residenceValue.geojson\" \"c:\\FUME\\PopNetV2/data_prep/ams_ProjectData/temp_tif/ams_home_prices//2014_price_mean.tif\"\n",
      "Rasterizing price_mean layer\n",
      "C:/Users/NM12LQ/Anaconda3/envs/popnet_env/Library/bin/gdal_rasterize.exe -a price_mean -te 3962600.0 3252900.0 3986200.0 3270800.0 -tr 100 100 \"c:\\FUME\\PopNetV2/data_prep/ams_ProjectData/temp_shp/home_prices/2016_residenceValue.geojson\" \"c:\\FUME\\PopNetV2/data_prep/ams_ProjectData/temp_tif/ams_home_prices//2016_price_mean.tif\"\n",
      "Rasterizing price_mean layer\n",
      "C:/Users/NM12LQ/Anaconda3/envs/popnet_env/Library/bin/gdal_rasterize.exe -a price_mean -te 3962600.0 3252900.0 3986200.0 3270800.0 -tr 100 100 \"c:\\FUME\\PopNetV2/data_prep/ams_ProjectData/temp_shp/home_prices/2018_residenceValue.geojson\" \"c:\\FUME\\PopNetV2/data_prep/ams_ProjectData/temp_tif/ams_home_prices//2018_price_mean.tif\"\n"
     ]
    }
   ],
   "metadata": {
    "tags": []
   }
  },
  {
   "cell_type": "code",
   "execution_count": null,
   "source": [],
   "outputs": [],
   "metadata": {}
  }
 ]
}
{
 "metadata": {
  "language_info": {
   "codemirror_mode": {
    "name": "ipython",
    "version": 3
   },
   "file_extension": ".py",
   "mimetype": "text/x-python",
   "name": "python",
   "nbconvert_exporter": "python",
   "pygments_lexer": "ipython3",
   "version": "3.7.6-final"
  },
  "orig_nbformat": 2,
  "kernelspec": {
   "name": "python3",
   "display_name": "Python 3"
  }
 },
 "nbformat": 4,
 "nbformat_minor": 2,
 "cells": [
  {
   "cell_type": "code",
   "execution_count": null,
   "metadata": {},
   "outputs": [],
   "source": [
    "tensorboard --logdir=\"K:/FUME/popnet/PoPNetV2/experiments/cph_trial_pak/PAK_CV_01/summary/\" --host localhost --port 6006\n",
    "\n",
    "tensorboard --logdir=\"K:/FUME/popnet/PoPNetV2/experiments/trial02_Western_Europe/trial02_Western_Europe_CV_02/summary/\" --host localhost --port 6006"
   ]
  },
  {
   "cell_type": "code",
   "execution_count": null,
   "metadata": {},
   "outputs": [],
   "source": [
    "tensorboard --logdir=\"K:/FUME/popnet/PoPNetV2/experiments/cph/trial05A/trial05A_Central_Asia/trial05A_Central_Asia_CV_00/summary/\" --host localhost --port 6006\n",
    "\n",
    "tensorboard --logdir=\"K:/FUME/popnet/PoPNetV2/experiments/cph/trial05B/trial05B_Eastern_Asia/trial05B_Eastern_Asia_CV_01/summary/\" --host localhost --port 6006\n",
    "\n",
    "tensorboard --logdir=\"K:/FUME/popnet/PoPNetV2/experiments/cph/trial05B/trial05B_Eastern_Europe/trial05B_Eastern_Europe_CV_00/summary/\" --host localhost --port 6006\n",
    "\n",
    "tensorboard --logdir=\"K:/FUME/popnet/PoPNetV2/experiments/cph/trial05B/trial05B_Latin_America_and_the_Caribbean/trial05B_Latin_America_and_the_Caribbean_CV_00/summary/\" --host localhost --port 6006\n",
    "\n",
    "tensorboard --logdir=\"K:/FUME/popnet/PoPNetV2/experiments/cph/trial05B/trial05B_Northern_Africa/trial05B_Northern_Africa_CV_00/summary/\" --host localhost --port 6006\n",
    "\n",
    "tensorboard --logdir=\"K:/FUME/popnet/PoPNetV2/experiments/cph/trial05B/trial05B_Northern_America/trial05B_Northern_America_CV_00/summary/\" --host localhost --port 6006\n",
    "\n",
    "tensorboard --logdir=\"K:/FUME/popnet/PoPNetV2/experiments/cph/trial05B/trial05B_Northern_Europe/trial05B_Northern_Europe_CV_00/summary/\" --host localhost --port 6006\n",
    "\n",
    "tensorboard --logdir=\"K:/FUME/popnet/PoPNetV2/experiments/cph/trial05B/trial05B_Oceania/trial05B_Oceania_CV_00/summary/\" --host localhost --port 6006\n",
    "\n",
    "tensorboard --logdir=\"K:/FUME/popnet/PoPNetV2/experiments/cph/trial05B/trial05B_Others/trial05B_Others_CV_00/summary/\" --host localhost --port 6006\n",
    "\n",
    "tensorboard --logdir=\"K:/FUME/popnet/PoPNetV2/experiments/cph/trial05B/trial05B_Southern_Asia/trial05B_Southern_Asia_CV_00/summary/\" --host localhost --port 6006\n",
    "\n",
    "tensorboard --logdir=\"K:/FUME/popnet/PoPNetV2/experiments/cph/trial05B/trial05B_Southern_Europe/trial05B_Southern_Europe_CV_00/summary/\" --host localhost --port 6006\n",
    "\n",
    "tensorboard --logdir=\"K:/FUME/popnet/PoPNetV2/experiments/cph/trial05B/trial05B_Southern-Eastern_Asia/trial05B_Southern-Eastern_Asia_CV_00/summary/\" --host localhost --port 6006\n",
    "\n",
    "tensorboard --logdir=\"K:/FUME/popnet/PoPNetV2/experiments/cph/trial05B/trial05B_Sub-Saharan_Africa/trial05B_Sub-Saharan_Africa_CV_00/summary/\" --host localhost --port 6006\n",
    "\n",
    "tensorboard --logdir=\"K:/FUME/popnet/PoPNetV2/experiments/cph/trial05B/trial05B_Western_Asia/trial05B_Western_Asia_CV_00/summary/\" --host localhost --port 6006\n",
    "\n",
    "tensorboard --logdir=\"K:/FUME/popnet/PoPNetV2/experiments/cph/trial05B/trial05B_Western_Europe/trial05B_Western_Europe_CV_00/summary/\" --host localhost --port 6006"
   ]
  }
 ]
}